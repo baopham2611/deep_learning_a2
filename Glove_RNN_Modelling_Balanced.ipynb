{
  "cells": [
    {
      "cell_type": "code",
      "execution_count": 55,
      "metadata": {
        "id": "YMUi67Rs4pzR"
      },
      "outputs": [],
      "source": [
        "# !pip install plotly\n",
        "# !pip install seaborn\n",
        "# !pip install matplotlib\n",
        "# !pip install transformers\n",
        "# !pip install tokenizers\n",
        "# !pip install scikit-learn\n",
        "# !pip install tensorflow\n",
        "# !pip install pandas\n",
        "# !pip install numpy\n",
        "# !pip install keras_tuner\n",
        "\n"
      ]
    },
    {
      "cell_type": "code",
      "execution_count": 56,
      "metadata": {
        "colab": {
          "base_uri": "https://localhost:8080/"
        },
        "id": "QAuRRSep48HP",
        "outputId": "bfbd74f6-8a88-403c-824a-923cc31c9fe6"
      },
      "outputs": [],
      "source": [
        "# from google.colab import drive\n",
        "# drive.mount('/content/drive')"
      ]
    },
    {
      "cell_type": "markdown",
      "metadata": {
        "id": "PrF9hCpi4NC5"
      },
      "source": [
        "#\n",
        "<a id=\"data-prep\"></a>\n",
        "<div style=\"background-color: #000D5B; color: white; text-align: center; padding: 6px 0 22px 0\">\n",
        "    <h3 style=\"background-color: #000D5B; color: white; text-align: left\">RMIT School of Computer Science and Technology</h3>\n",
        "    <br/>\n",
        "    <h1>COSC3007: Deep Learning</h1>\n",
        "    <h2>Assignment 2: Stance Twitter Sentiment Analysis and Detection </h2>\n",
        "    <h2> [2] MODELLING AND MODEL EVALUATIONS </h2>\n",
        "\n",
        "</div>"
      ]
    },
    {
      "cell_type": "markdown",
      "metadata": {
        "id": "sfEO48Ha4NC6"
      },
      "source": [
        "# Import Libs"
      ]
    },
    {
      "cell_type": "code",
      "execution_count": 57,
      "metadata": {
        "id": "a36se5m_4NC7"
      },
      "outputs": [],
      "source": [
        "import pandas as pd\n",
        "import tensorflow as tf\n",
        "import matplotlib.pyplot as plt\n",
        "import seaborn as sns\n",
        "import numpy as np\n",
        "\n",
        "from tensorflow.keras.preprocessing.text import Tokenizer\n",
        "from tensorflow.keras.preprocessing.sequence import pad_sequences\n",
        "from sklearn.model_selection import train_test_split\n",
        "from sklearn.preprocessing import LabelEncoder\n",
        "from tensorflow.keras.utils import to_categorical\n",
        "from sklearn.preprocessing import LabelEncoder\n",
        "\n",
        "import numpy as np"
      ]
    },
    {
      "cell_type": "markdown",
      "metadata": {
        "id": "DXoaFXZZ4NC7"
      },
      "source": [
        "# [1] Load Data"
      ]
    },
    {
      "cell_type": "code",
      "execution_count": 58,
      "metadata": {
        "id": "gfOQjVqV4NC7"
      },
      "outputs": [],
      "source": [
        "train_df = pd.read_csv(\"StanceDataset/processed_train_balanced.csv\", encoding = \"ISO-8859-1\", engine=\"python\").drop(columns=['Unnamed: 0'])\n",
        "train_df = train_df.sample(frac=1, random_state=42).reset_index(drop=True)\n",
        "train_df = train_df.dropna(subset=['processed_tweet'])\n",
        "train_ori = train_df.copy()\n",
        "\n",
        "test_df = pd.read_csv(\"StanceDataset/processed_test_balanced.csv\", encoding = \"ISO-8859-1\", engine=\"python\").drop(columns=['Unnamed: 0'])\n",
        "# Remove rows where the 'target' column is 5\n",
        "# test_df = test_df[test_df['Target'] != 5]"
      ]
    },
    {
      "cell_type": "markdown",
      "metadata": {
        "id": "zSOnBX9a4NC7"
      },
      "source": [
        "# [2] Prepare label and fit data"
      ]
    },
    {
      "cell_type": "markdown",
      "metadata": {
        "id": "4Sa7uHjM4NC7"
      },
      "source": [
        "## Split test and val"
      ]
    },
    {
      "cell_type": "code",
      "execution_count": 59,
      "metadata": {
        "id": "ZlxRta-S4NC7"
      },
      "outputs": [],
      "source": [
        "train_df, val_df = train_test_split(train_df, test_size=0.2, random_state=42, shuffle=True)"
      ]
    },
    {
      "cell_type": "markdown",
      "metadata": {
        "id": "EJpC2STO4NC8"
      },
      "source": [
        "## Tweets"
      ]
    },
    {
      "cell_type": "code",
      "execution_count": 60,
      "metadata": {
        "id": "Eik3qaTC4NC8"
      },
      "outputs": [],
      "source": [
        "# Load GloVe embeddings\n",
        "embedding_dim = 100  # This should match the GloVe\n",
        "glove_dir = 'path_to_glove'\n",
        "from tqdm import tqdm\n",
        "\n",
        "embeddings_index = {}\n",
        "with open(\"./glove.twitter.27B.100d.txt\", encoding='utf8') as f:\n",
        "    for line in f:\n",
        "        values = line.split()\n",
        "        word = values[0]\n",
        "        coefs = np.asarray(values[1:], dtype='float32')\n",
        "        embeddings_index[word] = coefs\n"
      ]
    },
    {
      "cell_type": "code",
      "execution_count": 61,
      "metadata": {
        "colab": {
          "base_uri": "https://localhost:8080/"
        },
        "id": "L1yCqtY-4NC8",
        "outputId": "80b9b38f-7580-4608-c4c7-93871003add3"
      },
      "outputs": [
        {
          "name": "stdout",
          "output_type": "stream",
          "text": [
            "Unique tokens: 8007\n",
            "Vocab size: 8008\n",
            "Max Pad Length 33\n"
          ]
        }
      ],
      "source": [
        "\n",
        "# Initialize and fit the tokenizer on the training data\n",
        "tokenizer = Tokenizer()\n",
        "tokenizer.fit_on_texts(train_ori['processed_tweet'])\n",
        "\n",
        "# Convert texts to sequences for all datasets\n",
        "train_sequences = tokenizer.texts_to_sequences(train_df['processed_tweet'])\n",
        "test_sequences = tokenizer.texts_to_sequences(test_df['processed_tweet'])\n",
        "val_sequences = tokenizer.texts_to_sequences(val_df['processed_tweet'])\n",
        "\n",
        "MAX_LENGTH = max(\n",
        "    max(len(seq) for seq in train_sequences),\n",
        "    max(len(seq) for seq in val_sequences),\n",
        "    max(len(seq) for seq in test_sequences)\n",
        ")\n",
        "\n",
        "# Pad the sequences\n",
        "train_pad = pad_sequences(train_sequences, maxlen=MAX_LENGTH, padding='post')\n",
        "test_pad = pad_sequences(test_sequences, maxlen=MAX_LENGTH, padding='post')\n",
        "val_pad = pad_sequences(val_sequences, maxlen=MAX_LENGTH, padding='post')\n",
        "\n",
        "# Extract the word index and vocab size\n",
        "word_index = tokenizer.word_index\n",
        "print(\"Unique tokens: \" + str(len(word_index)))\n",
        "vocab_size = len(word_index) + 1\n",
        "print('Vocab size: ' + str(vocab_size))\n",
        "print('Max Pad Length ' + str(MAX_LENGTH))\n",
        "\n",
        "# Create an embedding matrix\n",
        "embedding_matrix = np.zeros((vocab_size, embedding_dim))\n",
        "for word, i in word_index.items():\n",
        "    embedding_vector = embeddings_index.get(word)\n",
        "    if embedding_vector is not None:\n",
        "        embedding_matrix[i] = embedding_vector"
      ]
    },
    {
      "cell_type": "code",
      "execution_count": 62,
      "metadata": {
        "colab": {
          "base_uri": "https://localhost:8080/"
        },
        "id": "_KxZpSwO4NC8",
        "outputId": "90cf9b70-2f3f-44fa-dafc-66567afb6a08"
      },
      "outputs": [
        {
          "name": "stdout",
          "output_type": "stream",
          "text": [
            "3030\n",
            "758\n",
            "1956\n"
          ]
        }
      ],
      "source": [
        "print(len(train_pad))\n",
        "print(len(val_df))\n",
        "print(len(test_pad))"
      ]
    },
    {
      "cell_type": "markdown",
      "metadata": {
        "id": "K-HMFPxP4NC8"
      },
      "source": [
        "## Stances"
      ]
    },
    {
      "cell_type": "code",
      "execution_count": 63,
      "metadata": {
        "id": "1I0JnVMF4NC8"
      },
      "outputs": [],
      "source": [
        "def categorized_label(df, label_name):\n",
        "    label_encoder = LabelEncoder()\n",
        "    encoded_labels = label_encoder.fit_transform(df[label_name])\n",
        "    categorical_labels = to_categorical(encoded_labels)\n",
        "    return categorical_labels"
      ]
    },
    {
      "cell_type": "code",
      "execution_count": 64,
      "metadata": {
        "id": "DZ3NOFOF4NC9"
      },
      "outputs": [],
      "source": [
        "train_labels = categorized_label(train_df, \"Stance\")\n",
        "test_labels = categorized_label(test_df, \"Stance\")\n",
        "val_labels = categorized_label(val_df, \"Stance\")"
      ]
    },
    {
      "cell_type": "markdown",
      "metadata": {
        "id": "rErj4sRD4NC9"
      },
      "source": [
        "# [3] Create Model"
      ]
    },
    {
      "cell_type": "code",
      "execution_count": 65,
      "metadata": {
        "id": "JZQYSung4NC9"
      },
      "outputs": [],
      "source": [
        "from keras import backend as K\n",
        "from tensorflow.keras.optimizers.legacy import Adam\n",
        "from hyperopt import hp\n",
        "from hyperopt import hp, fmin, tpe, STATUS_OK, Trials\n",
        "import keras_tuner as kt\n",
        "\n",
        "def f1_score_class(y_true, y_pred):\n",
        "    true_positives = K.sum(K.round(K.clip(y_true * y_pred, 0, 1)))\n",
        "    possible_positives = K.sum(K.round(K.clip(y_true, 0, 1)))\n",
        "    predicted_positives = K.sum(K.round(K.clip(y_pred, 0, 1)))\n",
        "\n",
        "    precision = true_positives / (predicted_positives + K.epsilon())\n",
        "    recall = true_positives / (possible_positives + K.epsilon())\n",
        "    return 2 * ((precision * recall) / (precision + recall + K.epsilon()))\n",
        "\n",
        "def f1_score(y_true, y_pred):\n",
        "    # Convert predictions to one-hot format\n",
        "    y_pred_one_hot = K.one_hot(K.argmax(y_pred), num_classes=3)\n",
        "\n",
        "    # Calculate F1 score for each class\n",
        "    f1s = [f1_score_class(y_true[:, i], y_pred_one_hot[:, i]) for i in range(3)]\n",
        "\n",
        "    # Average F1 scores across all classes\n",
        "    return K.mean(K.stack(f1s), axis=0)"
      ]
    },
    {
      "cell_type": "markdown",
      "metadata": {
        "id": "RzS8a9l64NC9"
      },
      "source": [
        "Set up call backs and learning rates"
      ]
    },
    {
      "cell_type": "code",
      "execution_count": 66,
      "metadata": {
        "id": "o3WL0NZp4NC9"
      },
      "outputs": [],
      "source": [
        "from tensorflow.keras.callbacks import EarlyStopping, ReduceLROnPlateau, ModelCheckpoint\n",
        "\n",
        "\n",
        "# Define the EarlyStopping and ReduceLROnPlateau callbacks\n",
        "early_stopping = EarlyStopping(\n",
        "    monitor='val_loss',\n",
        "    patience=10,\n",
        "    verbose=1,\n",
        "    restore_best_weights=True,\n",
        ")\n",
        "\n",
        "lr_scheduler = ReduceLROnPlateau(\n",
        "    monitor='val_loss',\n",
        "    factor=0.2,\n",
        "    patience=5,\n",
        "    min_lr=1e-5,\n",
        "    verbose=1,\n",
        ")\n",
        "\n",
        "# Define the ModelCheckpoint callback\n",
        "checkpoint_path = \"stance_best_model_tuned_weights_balanced.h5\"\n",
        "model_checkpoint_callback = ModelCheckpoint(\n",
        "    filepath=checkpoint_path,\n",
        "    save_weights_only=True,    # Only save a model if 'val_loss' has improved\n",
        "    monitor='val_loss',     # Monitor 'val_loss' during training\n",
        "    mode='min',             # The model is saved when 'val_loss' is minimized\n",
        "    verbose=1)\n",
        "\n",
        "# Combine all callbacks in a list\n",
        "callbacks = [\n",
        "    early_stopping,\n",
        "    lr_scheduler,\n",
        "    model_checkpoint_callback\n",
        "]\n",
        "\n",
        "\n",
        "# Combine all callbacks in a list\n",
        "callbacks1 = [\n",
        "    early_stopping,\n",
        "    # lr_scheduler,\n",
        "    model_checkpoint_callback\n",
        "]"
      ]
    },
    {
      "cell_type": "markdown",
      "metadata": {
        "id": "Hzg0wAFK4NC9"
      },
      "source": [
        "Set up keras tuner"
      ]
    },
    {
      "cell_type": "code",
      "execution_count": 67,
      "metadata": {
        "id": "1led1Np04NC9"
      },
      "outputs": [],
      "source": [
        "from tensorflow.keras.models import Sequential\n",
        "from tensorflow.keras.layers import Embedding, LSTM, Dense, Dropout, BatchNormalization, Bidirectional, Flatten\n",
        "from tensorflow.keras.regularizers import l2\n",
        "from tensorflow.keras.optimizers.legacy import Adam\n",
        "from sklearn.metrics import classification_report\n",
        "import numpy as np\n",
        "import keras_tuner as kt\n",
        "\n",
        "def build_model(hp):\n",
        "    model = Sequential()\n",
        "    model.add(Embedding(vocab_size, embedding_dim, weights=[embedding_matrix], input_length=MAX_LENGTH, trainable=False))\n",
        "\n",
        "    # Tuning the number of units in the first biLSTM layer\n",
        "    model.add(Bidirectional(LSTM(units=hp.Int('units1', min_value=32, max_value=512, step=32),\n",
        "                   return_sequences=True,\n",
        "                   dropout=hp.Float('dropout1', min_value=0, max_value=0.8, step=0.1),\n",
        "                   recurrent_dropout=hp.Float('recurrent_dropout1', min_value=0, max_value=0.5, step=0.1),\n",
        "                   kernel_regularizer=l2(hp.Float('l2_reg1', min_value=0.0001, max_value=0.01, sampling='LOG')))))\n",
        "\n",
        "    model.add(Flatten())\n",
        "\n",
        "    # Dense layer with tunable units\n",
        "    model.add(Dense(\n",
        "        units=hp.Int('dense_layer_units_1', min_value=32, max_value=512, step=32),\n",
        "        activation=\"relu\",\n",
        "        kernel_regularizer=l2(hp.Float('dense_l2_reg', min_value=0.0001, max_value=0.005, sampling='LOG'))\n",
        "    ))\n",
        "\n",
        "    # Tunable dropout rate for the second layer\n",
        "    dropout_rate_3 = hp.Float('dropout__layer_3', min_value=0.0, max_value=0.8, step=0.1)\n",
        "    model.add(Dropout(dropout_rate_3))\n",
        "\n",
        "    # Final Layer\n",
        "    model.add(Dense(3, activation='softmax'))\n",
        "\n",
        "    # Tuning the learning rate for the optimizer\n",
        "    model.compile(optimizer=Adam(hp.Float('learning_rate', min_value=1e-5, max_value=1e-2, sampling='LOG')),\n",
        "                  loss='categorical_crossentropy',\n",
        "                  metrics=['categorical_accuracy', f1_score])\n",
        "\n",
        "    return model\n"
      ]
    },
    {
      "cell_type": "code",
      "execution_count": 68,
      "metadata": {},
      "outputs": [
        {
          "ename": "NameError",
          "evalue": "name 'stop' is not defined",
          "output_type": "error",
          "traceback": [
            "\u001b[0;31m---------------------------------------------------------------------------\u001b[0m",
            "\u001b[0;31mNameError\u001b[0m                                 Traceback (most recent call last)",
            "Cell \u001b[0;32mIn[68], line 1\u001b[0m\n\u001b[0;32m----> 1\u001b[0m \u001b[43mstop\u001b[49m\n",
            "\u001b[0;31mNameError\u001b[0m: name 'stop' is not defined"
          ]
        }
      ],
      "source": [
        "stop"
      ]
    },
    {
      "cell_type": "markdown",
      "metadata": {
        "id": "ndoyS0GZ4NC9"
      },
      "source": [
        "KERAS TUNER WILL FIND THE BEST HPS then further tune the model with the best hps"
      ]
    },
    {
      "cell_type": "code",
      "execution_count": null,
      "metadata": {
        "colab": {
          "base_uri": "https://localhost:8080/"
        },
        "id": "Ti9UOTBq4NC-",
        "outputId": "838a6fe8-b616-472d-ce92-d04b53bcd2d8"
      },
      "outputs": [
        {
          "name": "stdout",
          "output_type": "stream",
          "text": [
            "Trial 90 Complete [00h 07m 32s]\n",
            "val_f1_score: 0.5390790104866028\n",
            "\n",
            "Best val_f1_score So Far: 0.5714267492294312\n",
            "Total elapsed time: 01h 44m 41s\n"
          ]
        },
        {
          "name": "stderr",
          "output_type": "stream",
          "text": [
            "WARNING:tensorflow:Layer lstm will not use cuDNN kernels since it doesn't meet the criteria. It will use a generic GPU kernel as fallback when running on GPU.\n",
            "WARNING:tensorflow:Layer lstm will not use cuDNN kernels since it doesn't meet the criteria. It will use a generic GPU kernel as fallback when running on GPU.\n",
            "WARNING:tensorflow:Layer lstm will not use cuDNN kernels since it doesn't meet the criteria. It will use a generic GPU kernel as fallback when running on GPU.\n",
            "/usr/local/lib/python3.10/dist-packages/keras/src/engine/training.py:3103: UserWarning: You are saving your model as an HDF5 file via `model.save()`. This file format is considered legacy. We recommend using instead the native Keras format, e.g. `model.save('my_model.keras')`.\n",
            "  saving_api.save_model(\n"
          ]
        }
      ],
      "source": [
        "best_model = None\n",
        "best_hps = None\n",
        "\n",
        "# Hyperparameter tuning configuration\n",
        "objective = kt.Objective(\"val_f1_score\", direction=\"max\")\n",
        "tuning_config = {\n",
        "    'objective': objective,\n",
        "    'max_epochs': 30,\n",
        "    'directory': 'keras_tuner_dir',\n",
        "    'project_name': 'lstm_stance_classification_balanced'\n",
        "}\n",
        "\n",
        "# Early stopping callback\n",
        "stop_early = tf.keras.callbacks.EarlyStopping(monitor='val_loss', patience=5, restore_best_weights=True)\n",
        "\n",
        "batch_size = 32\n",
        "\n",
        "# for batch_size in batch_sizes:\n",
        "print(f\"Trying batch size: {batch_size}\")\n",
        "\n",
        "# Initialize the tuner\n",
        "tuner = kt.Hyperband(build_model, **tuning_config)\n",
        "\n",
        "# Search for the best hyperparameters\n",
        "tuner.search(train_pad, train_labels,\n",
        "            epochs=50,\n",
        "            validation_data=(val_pad, val_labels),\n",
        "            callbacks=[stop_early],\n",
        "            batch_size=batch_size)\n",
        "\n",
        "best_model = tuner.get_best_models(num_models=1)[0]\n",
        "best_hps = tuner.get_best_hyperparameters(num_trials=1)[0]\n",
        "best_model.save('stance_best_model_model_balanced.h5')\n",
        "best_model.save_weights(\"stance_best_model_weights_balanced.h5\")"
      ]
    },
    {
      "cell_type": "markdown",
      "metadata": {},
      "source": [
        "Evaluate best keras tuner model"
      ]
    },
    {
      "cell_type": "code",
      "execution_count": null,
      "metadata": {
        "colab": {
          "base_uri": "https://localhost:8080/"
        },
        "id": "pzCz5GmhdqUw",
        "outputId": "e6efd85b-93bc-484f-ffba-6d6e818c39b1"
      },
      "outputs": [
        {
          "name": "stdout",
          "output_type": "stream",
          "text": [
            "62/62 [==============================] - 2s 22ms/step - loss: 1.1217 - categorical_accuracy: 0.5112 - f1_score: 0.3721\n",
            "Test accuracy: [1.121686339378357, 0.511247456073761, 0.37207382917404175]\n"
          ]
        }
      ],
      "source": [
        "results = best_model.evaluate(test_pad, test_labels)\n",
        "print('Test accuracy:', results)"
      ]
    },
    {
      "cell_type": "code",
      "execution_count": null,
      "metadata": {
        "colab": {
          "base_uri": "https://localhost:8080/"
        },
        "id": "gqXCc2x0dpYa",
        "outputId": "21105edb-0769-40a0-f26b-670fb7bedb2b"
      },
      "outputs": [
        {
          "name": "stdout",
          "output_type": "stream",
          "text": [
            "62/62 [==============================] - 2s 20ms/step\n",
            "              precision    recall  f1-score   support\n",
            "\n",
            "           0       0.62      0.61      0.61      1014\n",
            "           1       0.41      0.39      0.40       452\n",
            "           2       0.39      0.42      0.40       490\n",
            "\n",
            "    accuracy                           0.51      1956\n",
            "   macro avg       0.47      0.47      0.47      1956\n",
            "weighted avg       0.51      0.51      0.51      1956\n",
            "\n"
          ]
        }
      ],
      "source": [
        "# Get model predictions\n",
        "predictions = best_model.predict(test_pad)\n",
        "\n",
        "# Convert predictions to class labels\n",
        "predicted_labels = np.argmax(predictions, axis=1)\n",
        "\n",
        "# Assuming test_labels are one-hot encoded, convert them to class labels\n",
        "true_labels = np.argmax(test_labels, axis=1)\n",
        "\n",
        "# Generate classification report\n",
        "report = classification_report(true_labels, predicted_labels)\n",
        "print(report)"
      ]
    },
    {
      "cell_type": "code",
      "execution_count": null,
      "metadata": {
        "id": "u-zaXCv_4NC-"
      },
      "outputs": [],
      "source": [
        "with open('./glove_lstm_best_hyperparameters_balanced.txt', 'w') as f:\n",
        "    for hparam in best_hps.values:\n",
        "        f.write(f\"{hparam}: {best_hps.get(hparam)}\\n\")"
      ]
    },
    {
      "cell_type": "markdown",
      "metadata": {
        "id": "4XHtdHvV4NC-"
      },
      "source": [
        "Recreate the best model with more training time"
      ]
    },
    {
      "cell_type": "code",
      "execution_count": null,
      "metadata": {
        "id": "OZpuRbkI4NC-"
      },
      "outputs": [],
      "source": [
        "def load_hyperparameters(file_path):\n",
        "    hyperparameters = {}\n",
        "    with open(file_path, 'r') as file:\n",
        "        for line in file:\n",
        "            key, value = line.strip().split(': ')\n",
        "            # Convert value to the appropriate type\n",
        "            if value.isdigit():\n",
        "                value = int(value)  # Convert to integer if possible\n",
        "            elif value.replace('.', '', 1).isdigit() and '.' in value:\n",
        "                value = float(value)  # Convert to float if possible\n",
        "            hyperparameters[key] = value\n",
        "    return hyperparameters\n",
        "\n",
        "# Load the hyperparameters\n",
        "file_path = './glove_lstm_best_hyperparameters_balanced.txt'  # Replace with your file path\n",
        "best_hps = load_hyperparameters(file_path)"
      ]
    },
    {
      "cell_type": "code",
      "execution_count": null,
      "metadata": {
        "colab": {
          "base_uri": "https://localhost:8080/"
        },
        "id": "JVftKFEJ4NC-",
        "outputId": "90a3c20a-dcb0-4eab-8e3a-3cb119059c4c"
      },
      "outputs": [
        {
          "data": {
            "text/plain": [
              "{'units1': 32,\n",
              " 'dropout1': 0.7000000000000001,\n",
              " 'recurrent_dropout1': 0.30000000000000004,\n",
              " 'l2_reg1': 0.00020902709378457082,\n",
              " 'dense_layer_units_1': 352,\n",
              " 'dense_l2_reg': 0.00039925647645921823,\n",
              " 'dropout__layer_3': 0.2,\n",
              " 'learning_rate': 0.0016767367974422334,\n",
              " 'tuner/epochs': 30,\n",
              " 'tuner/initial_epoch': 10,\n",
              " 'tuner/bracket': 1,\n",
              " 'tuner/round': 1,\n",
              " 'tuner/trial_id': 79}"
            ]
          },
          "execution_count": 38,
          "metadata": {},
          "output_type": "execute_result"
        }
      ],
      "source": [
        "best_hps"
      ]
    },
    {
      "cell_type": "code",
      "execution_count": null,
      "metadata": {
        "id": "6nLjkqzF4NC-"
      },
      "outputs": [],
      "source": [
        "def build_model_from_dict(hp_dict):\n",
        "    model = Sequential()\n",
        "    model.add(Embedding(vocab_size, embedding_dim, weights=[embedding_matrix], input_length=MAX_LENGTH, trainable=False))\n",
        "\n",
        "    # Use the hyperparameter values from the dictionary\n",
        "    model.add(Bidirectional(LSTM(units=hp_dict['units1'],\n",
        "                   return_sequences=True,\n",
        "                   dropout=hp_dict['dropout1'],\n",
        "                   recurrent_dropout=hp_dict['recurrent_dropout1'],\n",
        "                   kernel_regularizer=l2(hp_dict['l2_reg1']))))\n",
        "\n",
        "    model.add(Flatten())\n",
        "\n",
        "    # Dense layer with tunable units\n",
        "    model.add(Dense(\n",
        "        units=hp_dict['dense_layer_units_1'],\n",
        "        activation=\"relu\",\n",
        "        kernel_regularizer=l2(hp_dict['dense_l2_reg'])\n",
        "    ))\n",
        "\n",
        "    # Tunable dropout rate for the second layer\n",
        "    dropout_rate_3 = hp_dict['dropout__layer_3']\n",
        "    model.add(Dropout(dropout_rate_3))\n",
        "\n",
        "    # Final Layer\n",
        "    model.add(Dense(3, activation='softmax'))\n",
        "\n",
        "    # Tuning the learning rate for the optimizer\n",
        "    model.compile(optimizer=Adam(hp_dict['learning_rate']),\n",
        "                  loss='categorical_crossentropy',\n",
        "                  metrics=['categorical_accuracy', f1_score])\n",
        "\n",
        "    return model"
      ]
    },
    {
      "cell_type": "code",
      "execution_count": null,
      "metadata": {
        "colab": {
          "base_uri": "https://localhost:8080/",
          "height": 828
        },
        "id": "THrzwI8W4NC-",
        "outputId": "4ef8cab4-84ed-43e9-f7c4-16f715811080"
      },
      "outputs": [
        {
          "name": "stderr",
          "output_type": "stream",
          "text": [
            "WARNING:tensorflow:Layer lstm_1 will not use cuDNN kernels since it doesn't meet the criteria. It will use a generic GPU kernel as fallback when running on GPU.\n",
            "WARNING:tensorflow:Layer lstm_1 will not use cuDNN kernels since it doesn't meet the criteria. It will use a generic GPU kernel as fallback when running on GPU.\n",
            "WARNING:tensorflow:Layer lstm_1 will not use cuDNN kernels since it doesn't meet the criteria. It will use a generic GPU kernel as fallback when running on GPU.\n"
          ]
        },
        {
          "data": {
            "image/png": "[encoded data removed]",
            "text/plain": [
              "<IPython.core.display.Image object>"
            ]
          },
          "execution_count": 40,
          "metadata": {},
          "output_type": "execute_result"
        }
      ],
      "source": [
        "from tensorflow.keras.utils import plot_model\n",
        "model = build_model_from_dict(best_hps)\n",
        "plot_model(model, show_layer_names=False, show_shapes=True, to_file='tuned_stance_model_balanced.png')"
      ]
    },
    {
      "cell_type": "code",
      "execution_count": null,
      "metadata": {
        "colab": {
          "base_uri": "https://localhost:8080/"
        },
        "id": "r6WVUEAX4NC-",
        "outputId": "89414576-63dc-4c87-8aec-113db94f5972"
      },
      "outputs": [
        {
          "name": "stdout",
          "output_type": "stream",
          "text": [
            "Epoch 1/100\n",
            "95/95 [==============================] - ETA: 0s - loss: 1.2813 - categorical_accuracy: 0.4373 - f1_score: 0.3035\n",
            "Epoch 1: saving model to stance_best_model_tuned_weights_balanced.h5\n",
            "95/95 [==============================] - 20s 157ms/step - loss: 1.2813 - categorical_accuracy: 0.4373 - f1_score: 0.3035 - val_loss: 1.1881 - val_categorical_accuracy: 0.4921 - val_f1_score: 0.3569\n",
            "Epoch 2/100\n",
            "95/95 [==============================] - ETA: 0s - loss: 1.1583 - categorical_accuracy: 0.4937 - f1_score: 0.4001\n",
            "Epoch 2: saving model to stance_best_model_tuned_weights_balanced.h5\n",
            "95/95 [==============================] - 14s 144ms/step - loss: 1.1583 - categorical_accuracy: 0.4937 - f1_score: 0.4001 - val_loss: 1.1217 - val_categorical_accuracy: 0.5422 - val_f1_score: 0.4674\n",
            "Epoch 3/100\n",
            "95/95 [==============================] - ETA: 0s - loss: 1.1188 - categorical_accuracy: 0.5178 - f1_score: 0.4409\n",
            "Epoch 3: saving model to stance_best_model_tuned_weights_balanced.h5\n",
            "95/95 [==============================] - 14s 148ms/step - loss: 1.1188 - categorical_accuracy: 0.5178 - f1_score: 0.4409 - val_loss: 1.1210 - val_categorical_accuracy: 0.5198 - val_f1_score: 0.4104\n",
            "Epoch 4/100\n",
            "95/95 [==============================] - ETA: 0s - loss: 1.0851 - categorical_accuracy: 0.5304 - f1_score: 0.4584\n",
            "Epoch 4: saving model to stance_best_model_tuned_weights_balanced.h5\n",
            "95/95 [==============================] - 14s 151ms/step - loss: 1.0851 - categorical_accuracy: 0.5304 - f1_score: 0.4584 - val_loss: 1.0813 - val_categorical_accuracy: 0.5330 - val_f1_score: 0.4937\n",
            "Epoch 5/100\n",
            "95/95 [==============================] - ETA: 0s - loss: 1.0668 - categorical_accuracy: 0.5370 - f1_score: 0.4707\n",
            "Epoch 5: saving model to stance_best_model_tuned_weights_balanced.h5\n",
            "95/95 [==============================] - 14s 150ms/step - loss: 1.0668 - categorical_accuracy: 0.5370 - f1_score: 0.4707 - val_loss: 1.1266 - val_categorical_accuracy: 0.5264 - val_f1_score: 0.4315\n",
            "Epoch 6/100\n",
            "95/95 [==============================] - ETA: 0s - loss: 1.0457 - categorical_accuracy: 0.5518 - f1_score: 0.4930\n",
            "Epoch 6: saving model to stance_best_model_tuned_weights_balanced.h5\n",
            "95/95 [==============================] - 14s 151ms/step - loss: 1.0457 - categorical_accuracy: 0.5518 - f1_score: 0.4930 - val_loss: 1.0656 - val_categorical_accuracy: 0.5528 - val_f1_score: 0.5205\n",
            "Epoch 7/100\n",
            "95/95 [==============================] - ETA: 0s - loss: 1.0232 - categorical_accuracy: 0.5729 - f1_score: 0.5249\n",
            "Epoch 7: saving model to stance_best_model_tuned_weights_balanced.h5\n",
            "95/95 [==============================] - 14s 149ms/step - loss: 1.0232 - categorical_accuracy: 0.5729 - f1_score: 0.5249 - val_loss: 1.0727 - val_categorical_accuracy: 0.5580 - val_f1_score: 0.5194\n",
            "Epoch 8/100\n",
            "95/95 [==============================] - ETA: 0s - loss: 1.0136 - categorical_accuracy: 0.5815 - f1_score: 0.5287\n",
            "Epoch 8: saving model to stance_best_model_tuned_weights_balanced.h5\n",
            "95/95 [==============================] - 14s 150ms/step - loss: 1.0136 - categorical_accuracy: 0.5815 - f1_score: 0.5287 - val_loss: 1.1081 - val_categorical_accuracy: 0.5633 - val_f1_score: 0.5097\n",
            "Epoch 9/100\n",
            "95/95 [==============================] - ETA: 0s - loss: 0.9913 - categorical_accuracy: 0.5993 - f1_score: 0.5525\n",
            "Epoch 9: saving model to stance_best_model_tuned_weights_balanced.h5\n",
            "95/95 [==============================] - 14s 151ms/step - loss: 0.9913 - categorical_accuracy: 0.5993 - f1_score: 0.5525 - val_loss: 1.0796 - val_categorical_accuracy: 0.5633 - val_f1_score: 0.5140\n",
            "Epoch 10/100\n",
            "95/95 [==============================] - ETA: 0s - loss: 0.9995 - categorical_accuracy: 0.6050 - f1_score: 0.5683\n",
            "Epoch 10: saving model to stance_best_model_tuned_weights_balanced.h5\n",
            "95/95 [==============================] - 14s 149ms/step - loss: 0.9995 - categorical_accuracy: 0.6050 - f1_score: 0.5683 - val_loss: 1.0586 - val_categorical_accuracy: 0.5726 - val_f1_score: 0.5288\n",
            "Epoch 11/100\n",
            "95/95 [==============================] - ETA: 0s - loss: 0.9762 - categorical_accuracy: 0.6099 - f1_score: 0.5645\n",
            "Epoch 11: saving model to stance_best_model_tuned_weights_balanced.h5\n",
            "95/95 [==============================] - 14s 152ms/step - loss: 0.9762 - categorical_accuracy: 0.6099 - f1_score: 0.5645 - val_loss: 1.0890 - val_categorical_accuracy: 0.5712 - val_f1_score: 0.5274\n",
            "Epoch 12/100\n",
            "95/95 [==============================] - ETA: 0s - loss: 0.9752 - categorical_accuracy: 0.6168 - f1_score: 0.5831\n",
            "Epoch 12: saving model to stance_best_model_tuned_weights_balanced.h5\n",
            "95/95 [==============================] - 14s 151ms/step - loss: 0.9752 - categorical_accuracy: 0.6168 - f1_score: 0.5831 - val_loss: 1.0895 - val_categorical_accuracy: 0.5646 - val_f1_score: 0.5361\n",
            "Epoch 13/100\n",
            "95/95 [==============================] - ETA: 0s - loss: 0.9568 - categorical_accuracy: 0.6277 - f1_score: 0.5896\n",
            "Epoch 13: saving model to stance_best_model_tuned_weights_balanced.h5\n",
            "95/95 [==============================] - 14s 151ms/step - loss: 0.9568 - categorical_accuracy: 0.6277 - f1_score: 0.5896 - val_loss: 1.0996 - val_categorical_accuracy: 0.5752 - val_f1_score: 0.5435\n",
            "Epoch 14/100\n",
            "95/95 [==============================] - ETA: 0s - loss: 0.9521 - categorical_accuracy: 0.6409 - f1_score: 0.6042\n",
            "Epoch 14: saving model to stance_best_model_tuned_weights_balanced.h5\n",
            "95/95 [==============================] - 14s 150ms/step - loss: 0.9521 - categorical_accuracy: 0.6409 - f1_score: 0.6042 - val_loss: 1.0878 - val_categorical_accuracy: 0.5752 - val_f1_score: 0.5351\n",
            "Epoch 15/100\n",
            "95/95 [==============================] - ETA: 0s - loss: 0.9405 - categorical_accuracy: 0.6465 - f1_score: 0.6124\n",
            "Epoch 15: saving model to stance_best_model_tuned_weights_balanced.h5\n",
            "95/95 [==============================] - 14s 149ms/step - loss: 0.9405 - categorical_accuracy: 0.6465 - f1_score: 0.6124 - val_loss: 1.1067 - val_categorical_accuracy: 0.5792 - val_f1_score: 0.5662\n",
            "Epoch 16/100\n",
            "95/95 [==============================] - ETA: 0s - loss: 0.9442 - categorical_accuracy: 0.6396 - f1_score: 0.6070\n",
            "Epoch 16: saving model to stance_best_model_tuned_weights_balanced.h5\n",
            "95/95 [==============================] - 14s 149ms/step - loss: 0.9442 - categorical_accuracy: 0.6396 - f1_score: 0.6070 - val_loss: 1.0862 - val_categorical_accuracy: 0.6003 - val_f1_score: 0.5719\n",
            "Epoch 17/100\n",
            "95/95 [==============================] - ETA: 0s - loss: 0.9332 - categorical_accuracy: 0.6647 - f1_score: 0.6344\n",
            "Epoch 17: saving model to stance_best_model_tuned_weights_balanced.h5\n",
            "95/95 [==============================] - 14s 150ms/step - loss: 0.9332 - categorical_accuracy: 0.6647 - f1_score: 0.6344 - val_loss: 1.1475 - val_categorical_accuracy: 0.5607 - val_f1_score: 0.5441\n",
            "Epoch 18/100\n",
            "95/95 [==============================] - ETA: 0s - loss: 0.9253 - categorical_accuracy: 0.6677 - f1_score: 0.6379\n",
            "Epoch 18: saving model to stance_best_model_tuned_weights_balanced.h5\n",
            "95/95 [==============================] - 14s 152ms/step - loss: 0.9253 - categorical_accuracy: 0.6677 - f1_score: 0.6379 - val_loss: 1.1054 - val_categorical_accuracy: 0.6082 - val_f1_score: 0.5888\n",
            "Epoch 19/100\n",
            "95/95 [==============================] - ETA: 0s - loss: 0.9208 - categorical_accuracy: 0.6700 - f1_score: 0.6369\n",
            "Epoch 19: saving model to stance_best_model_tuned_weights_balanced.h5\n",
            "95/95 [==============================] - 14s 149ms/step - loss: 0.9208 - categorical_accuracy: 0.6700 - f1_score: 0.6369 - val_loss: 1.1260 - val_categorical_accuracy: 0.5805 - val_f1_score: 0.5404\n",
            "Epoch 20/100\n",
            "70/95 [=====================>........] - ETA: 3s - loss: 0.8965 - categorical_accuracy: 0.6960 - f1_score: 0.6671"
          ]
        }
      ],
      "source": [
        "history = {}\n",
        "history['tuned_stance_model'] = model.fit(train_pad, train_labels,\n",
        "                    epochs=100,\n",
        "                    validation_data=(val_pad, val_labels),\n",
        "                    batch_size=32,\n",
        "                    callbacks=callbacks1,\n",
        "                    shuffle = True)"
      ]
    },
    {
      "cell_type": "code",
      "execution_count": null,
      "metadata": {
        "id": "vbghHehR4NC-"
      },
      "outputs": [],
      "source": [
        "results = model.evaluate(test_pad, test_labels)\n",
        "print('Test accuracy:', results)"
      ]
    },
    {
      "cell_type": "code",
      "execution_count": null,
      "metadata": {
        "id": "5qAsG84t4NC_"
      },
      "outputs": [],
      "source": [
        "from sklearn.metrics import classification_report\n",
        "import numpy as np\n",
        "# Get model predictions\n",
        "predictions = model.predict(test_pad)\n",
        "\n",
        "# Convert predictions to class labels\n",
        "predicted_labels = np.argmax(predictions, axis=1)\n",
        "\n",
        "# Assuming test_labels are one-hot encoded, convert them to class labels\n",
        "true_labels = np.argmax(test_labels, axis=1)\n",
        "\n",
        "# Generate classification report\n",
        "report = classification_report(true_labels, predicted_labels)\n",
        "print(report)"
      ]
    },
    {
      "cell_type": "code",
      "execution_count": null,
      "metadata": {
        "id": "YWImh36S4NC_"
      },
      "outputs": [],
      "source": [
        "results = model.evaluate(val_pad, val_labels)\n",
        "print('Test accuracy:', results)"
      ]
    },
    {
      "cell_type": "code",
      "execution_count": null,
      "metadata": {
        "id": "OovjIYJ0pbW_"
      },
      "outputs": [],
      "source": [
        "model.save('stance_best_model_model_extra_balanced.h5')\n",
        "model.save_weights(\"stance_best_model_weights_extra_balanced.h5\")"
      ]
    },
    {
      "cell_type": "markdown",
      "metadata": {},
      "source": [
        "# [4] Evaluation"
      ]
    },
    {
      "cell_type": "code",
      "execution_count": 69,
      "metadata": {},
      "outputs": [
        {
          "name": "stdout",
          "output_type": "stream",
          "text": [
            "WARNING:tensorflow:Layer lstm will not use cuDNN kernels since it doesn't meet the criteria. It will use a generic GPU kernel as fallback when running on GPU.\n",
            "WARNING:tensorflow:Layer lstm will not use cuDNN kernels since it doesn't meet the criteria. It will use a generic GPU kernel as fallback when running on GPU.\n",
            "WARNING:tensorflow:Layer lstm will not use cuDNN kernels since it doesn't meet the criteria. It will use a generic GPU kernel as fallback when running on GPU.\n"
          ]
        },
        {
          "name": "stderr",
          "output_type": "stream",
          "text": [
            "2024-01-01 10:51:42.181739: I metal_plugin/src/device/metal_device.cc:1154] Metal device set to: Apple M1 Max\n",
            "2024-01-01 10:51:42.181768: I metal_plugin/src/device/metal_device.cc:296] systemMemory: 32.00 GB\n",
            "2024-01-01 10:51:42.181782: I metal_plugin/src/device/metal_device.cc:313] maxCacheSize: 10.67 GB\n",
            "2024-01-01 10:51:42.181848: I tensorflow/core/common_runtime/pluggable_device/pluggable_device_factory.cc:303] Could not identify NUMA node of platform GPU ID 0, defaulting to 0. Your kernel may not have been built with NUMA support.\n",
            "2024-01-01 10:51:42.181881: I tensorflow/core/common_runtime/pluggable_device/pluggable_device_factory.cc:269] Created TensorFlow device (/job:localhost/replica:0/task:0/device:GPU:0 with 0 MB memory) -> physical PluggableDevice (device: 0, name: METAL, pci bus id: <undefined>)\n"
          ]
        },
        {
          "name": "stdout",
          "output_type": "stream",
          "text": [
            "WARNING:tensorflow:Error in loading the saved optimizer state. As a result, your model is starting with a freshly initialized optimizer.\n"
          ]
        },
        {
          "name": "stderr",
          "output_type": "stream",
          "text": [
            "2024-01-01 10:51:42.819934: I tensorflow/core/grappler/optimizers/custom_graph_optimizer_registry.cc:114] Plugin optimizer for device_type GPU is enabled.\n"
          ]
        },
        {
          "name": "stdout",
          "output_type": "stream",
          "text": [
            "62/62 [==============================] - 13s 200ms/step\n",
            "              precision    recall  f1-score   support\n",
            "\n",
            "           0       0.64      0.47      0.54      1014\n",
            "           1       0.32      0.51      0.39       452\n",
            "           2       0.37      0.37      0.37       490\n",
            "\n",
            "    accuracy                           0.46      1956\n",
            "   macro avg       0.44      0.45      0.44      1956\n",
            "weighted avg       0.50      0.46      0.46      1956\n",
            "\n"
          ]
        }
      ],
      "source": [
        "from tensorflow.keras.models import load_model\n",
        "\n",
        "model_path = './Keras_tuner_items_balanced/stance_best_model_model_balanced.h5'  # Replace with your model's file path\n",
        "best_model = load_model(model_path, custom_objects={'f1_score': f1_score})\n",
        "\n",
        "from sklearn.metrics import classification_report\n",
        "import numpy as np\n",
        "# Get model predictions\n",
        "predictions = best_model.predict(test_pad)\n",
        "\n",
        "# Convert predictions to class labels\n",
        "predicted_labels = np.argmax(predictions, axis=1)\n",
        "\n",
        "# Assuming test_labels are one-hot encoded, convert them to class labels\n",
        "true_labels = np.argmax(test_labels, axis=1)\n",
        "\n",
        "# Generate classification report\n",
        "report = classification_report(true_labels, predicted_labels)\n",
        "print(report)"
      ]
    },
    {
      "cell_type": "code",
      "execution_count": 70,
      "metadata": {},
      "outputs": [],
      "source": [
        "def load_classification_rp_per_target(model):\n",
        "    targets = test_df.Target.unique()\n",
        "    metrics_df = pd.DataFrame()\n",
        "    for target in targets:\n",
        "        extracted_df = test_df[test_df['Target'] == target]\n",
        "        sequences = tokenizer.texts_to_sequences(extracted_df['processed_tweet'])\n",
        "        pad = pad_sequences(sequences, maxlen=MAX_LENGTH, padding='post')\n",
        "        # Assuming categorized_label returns a one-hot encoded DataFrame\n",
        "        # Get labels using the categorized_label function\n",
        "        labels = categorized_label(extracted_df, \"Stance\")\n",
        "        \n",
        "        # Convert one-hot encoded labels to single integer class labels\n",
        "        true_labels = np.argmax(labels, axis=1)\n",
        "\n",
        "        # Get model predictions\n",
        "        predictions = best_model.predict(pad)\n",
        "\n",
        "        # Convert predictions to class labels\n",
        "        predicted_labels = np.argmax(predictions, axis=1)\n",
        "\n",
        "        # Generate a classification report\n",
        "        report = classification_report(true_labels, predicted_labels, target_names=['AGAINST', 'FAVOR', 'NONE'])\n",
        "        target_name = \"\"\n",
        "        if target == 0:\n",
        "            target_name = \"Hillary Clinton\"\n",
        "        if target == 1:\n",
        "            target_name = \"Legalization of Abortion\"\n",
        "        if target == 2:\n",
        "            target_name = \"Atheism\"\n",
        "        if target == 3:\n",
        "            target_name = \"Climate Change is a Real Concern\"\n",
        "        if target == 4:\n",
        "            target_name = \"Feminist Movement\"\n",
        "        if target == 5:\n",
        "            target_name = \"Donald Trump\"\n",
        "\n",
        "        print('Target: ', target_name)\n",
        "        print(report)\n",
        "        print(\"-----------------------------------------\", \"\\n\")\n",
        "\n",
        "        # Flatten the report into a single row and add target name\n",
        "        report = classification_report(true_labels, predicted_labels, target_names=['AGAINST', 'FAVOR', 'NONE'], output_dict=True)\n",
        "\n",
        "        # Extract weighted f1, macro f1, and accuracy\n",
        "        report_data = {\n",
        "            'Target': target_name,\n",
        "            'Weighted F1': report['weighted avg']['f1-score'],\n",
        "            'Macro F1': report['macro avg']['f1-score'],\n",
        "            'Accuracy': report['accuracy']\n",
        "        }\n",
        "\n",
        "        # Append to the DataFrame\n",
        "        metrics_df = metrics_df.append(report_data, ignore_index=True)\n",
        "    metrics_df.set_index('Target', inplace=True)\n",
        " \n",
        "    return metrics_df"
      ]
    },
    {
      "cell_type": "code",
      "execution_count": 71,
      "metadata": {},
      "outputs": [
        {
          "name": "stdout",
          "output_type": "stream",
          "text": [
            "7/7 [==============================] - 1s 211ms/step\n",
            "Target:  Atheism\n",
            "              precision    recall  f1-score   support\n",
            "\n",
            "     AGAINST       0.82      0.68      0.74       160\n",
            "       FAVOR       0.16      0.34      0.22        32\n",
            "        NONE       0.24      0.18      0.20        28\n",
            "\n",
            "    accuracy                           0.56       220\n",
            "   macro avg       0.41      0.40      0.39       220\n",
            "weighted avg       0.65      0.56      0.60       220\n",
            "\n",
            "----------------------------------------- \n",
            "\n"
          ]
        },
        {
          "name": "stderr",
          "output_type": "stream",
          "text": [
            "/var/folders/fw/d2x7nnxd3f90qrnsdxzvsjqw0000gn/T/ipykernel_66004/887463637.py:53: FutureWarning: The frame.append method is deprecated and will be removed from pandas in a future version. Use pandas.concat instead.\n",
            "  metrics_df = metrics_df.append(report_data, ignore_index=True)\n"
          ]
        },
        {
          "name": "stdout",
          "output_type": "stream",
          "text": [
            "6/6 [==============================] - 2s 290ms/step\n",
            "Target:  Climate Change is a Real Concern\n",
            "              precision    recall  f1-score   support\n",
            "\n",
            "     AGAINST       0.17      0.09      0.12        11\n",
            "       FAVOR       0.81      0.89      0.85       123\n",
            "        NONE       0.50      0.40      0.44        35\n",
            "\n",
            "    accuracy                           0.74       169\n",
            "   macro avg       0.49      0.46      0.47       169\n",
            "weighted avg       0.71      0.74      0.72       169\n",
            "\n",
            "----------------------------------------- \n",
            "\n"
          ]
        },
        {
          "name": "stderr",
          "output_type": "stream",
          "text": [
            "/var/folders/fw/d2x7nnxd3f90qrnsdxzvsjqw0000gn/T/ipykernel_66004/887463637.py:53: FutureWarning: The frame.append method is deprecated and will be removed from pandas in a future version. Use pandas.concat instead.\n",
            "  metrics_df = metrics_df.append(report_data, ignore_index=True)\n"
          ]
        },
        {
          "name": "stdout",
          "output_type": "stream",
          "text": [
            "9/9 [==============================] - 2s 229ms/step\n",
            "Target:  Feminist Movement\n",
            "              precision    recall  f1-score   support\n",
            "\n",
            "     AGAINST       0.73      0.46      0.57       183\n",
            "       FAVOR       0.25      0.53      0.34        58\n",
            "        NONE       0.52      0.50      0.51        44\n",
            "\n",
            "    accuracy                           0.48       285\n",
            "   macro avg       0.50      0.50      0.47       285\n",
            "weighted avg       0.60      0.48      0.51       285\n",
            "\n",
            "----------------------------------------- \n",
            "\n"
          ]
        },
        {
          "name": "stderr",
          "output_type": "stream",
          "text": [
            "/var/folders/fw/d2x7nnxd3f90qrnsdxzvsjqw0000gn/T/ipykernel_66004/887463637.py:53: FutureWarning: The frame.append method is deprecated and will be removed from pandas in a future version. Use pandas.concat instead.\n",
            "  metrics_df = metrics_df.append(report_data, ignore_index=True)\n"
          ]
        },
        {
          "name": "stdout",
          "output_type": "stream",
          "text": [
            "10/10 [==============================] - 2s 234ms/step\n",
            "Target:  Hillary Clinton\n",
            "              precision    recall  f1-score   support\n",
            "\n",
            "     AGAINST       0.70      0.64      0.67       172\n",
            "       FAVOR       0.21      0.22      0.22        45\n",
            "        NONE       0.37      0.42      0.39        78\n",
            "\n",
            "    accuracy                           0.52       295\n",
            "   macro avg       0.43      0.43      0.43       295\n",
            "weighted avg       0.54      0.52      0.53       295\n",
            "\n",
            "----------------------------------------- \n",
            "\n"
          ]
        },
        {
          "name": "stderr",
          "output_type": "stream",
          "text": [
            "/var/folders/fw/d2x7nnxd3f90qrnsdxzvsjqw0000gn/T/ipykernel_66004/887463637.py:53: FutureWarning: The frame.append method is deprecated and will be removed from pandas in a future version. Use pandas.concat instead.\n",
            "  metrics_df = metrics_df.append(report_data, ignore_index=True)\n"
          ]
        },
        {
          "name": "stdout",
          "output_type": "stream",
          "text": [
            "9/9 [==============================] - 2s 210ms/step\n",
            "Target:  Legalization of Abortion\n",
            "              precision    recall  f1-score   support\n",
            "\n",
            "     AGAINST       0.73      0.51      0.60       189\n",
            "       FAVOR       0.24      0.57      0.33        46\n",
            "        NONE       0.34      0.29      0.31        45\n",
            "\n",
            "    accuracy                           0.49       280\n",
            "   macro avg       0.44      0.46      0.42       280\n",
            "weighted avg       0.59      0.49      0.51       280\n",
            "\n",
            "----------------------------------------- \n",
            "\n"
          ]
        },
        {
          "name": "stderr",
          "output_type": "stream",
          "text": [
            "/var/folders/fw/d2x7nnxd3f90qrnsdxzvsjqw0000gn/T/ipykernel_66004/887463637.py:53: FutureWarning: The frame.append method is deprecated and will be removed from pandas in a future version. Use pandas.concat instead.\n",
            "  metrics_df = metrics_df.append(report_data, ignore_index=True)\n"
          ]
        },
        {
          "name": "stdout",
          "output_type": "stream",
          "text": [
            "23/23 [==============================] - 5s 228ms/step\n",
            "Target:  Donald Trump\n",
            "              precision    recall  f1-score   support\n",
            "\n",
            "     AGAINST       0.37      0.26      0.31       299\n",
            "       FAVOR       0.19      0.28      0.22       148\n",
            "        NONE       0.35      0.36      0.35       260\n",
            "\n",
            "    accuracy                           0.30       707\n",
            "   macro avg       0.30      0.30      0.30       707\n",
            "weighted avg       0.32      0.30      0.31       707\n",
            "\n",
            "----------------------------------------- \n",
            "\n"
          ]
        },
        {
          "name": "stderr",
          "output_type": "stream",
          "text": [
            "/var/folders/fw/d2x7nnxd3f90qrnsdxzvsjqw0000gn/T/ipykernel_66004/887463637.py:53: FutureWarning: The frame.append method is deprecated and will be removed from pandas in a future version. Use pandas.concat instead.\n",
            "  metrics_df = metrics_df.append(report_data, ignore_index=True)\n"
          ]
        },
        {
          "data": {
            "text/html": [
              "<div>\n",
              "<style scoped>\n",
              "    .dataframe tbody tr th:only-of-type {\n",
              "        vertical-align: middle;\n",
              "    }\n",
              "\n",
              "    .dataframe tbody tr th {\n",
              "        vertical-align: top;\n",
              "    }\n",
              "\n",
              "    .dataframe thead th {\n",
              "        text-align: right;\n",
              "    }\n",
              "</style>\n",
              "<table border=\"1\" class=\"dataframe\">\n",
              "  <thead>\n",
              "    <tr style=\"text-align: right;\">\n",
              "      <th></th>\n",
              "      <th>Weighted F1</th>\n",
              "      <th>Macro F1</th>\n",
              "      <th>Accuracy</th>\n",
              "    </tr>\n",
              "    <tr>\n",
              "      <th>Target</th>\n",
              "      <th></th>\n",
              "      <th></th>\n",
              "      <th></th>\n",
              "    </tr>\n",
              "  </thead>\n",
              "  <tbody>\n",
              "    <tr>\n",
              "      <th>Atheism</th>\n",
              "      <td>0.596280</td>\n",
              "      <td>0.388677</td>\n",
              "      <td>0.563636</td>\n",
              "    </tr>\n",
              "    <tr>\n",
              "      <th>Climate Change is a Real Concern</th>\n",
              "      <td>0.720316</td>\n",
              "      <td>0.471602</td>\n",
              "      <td>0.739645</td>\n",
              "    </tr>\n",
              "    <tr>\n",
              "      <th>Feminist Movement</th>\n",
              "      <td>0.511421</td>\n",
              "      <td>0.471750</td>\n",
              "      <td>0.484211</td>\n",
              "    </tr>\n",
              "    <tr>\n",
              "      <th>Hillary Clinton</th>\n",
              "      <td>0.526561</td>\n",
              "      <td>0.425535</td>\n",
              "      <td>0.518644</td>\n",
              "    </tr>\n",
              "    <tr>\n",
              "      <th>Legalization of Abortion</th>\n",
              "      <td>0.513050</td>\n",
              "      <td>0.416983</td>\n",
              "      <td>0.485714</td>\n",
              "    </tr>\n",
              "    <tr>\n",
              "      <th>Donald Trump</th>\n",
              "      <td>0.306964</td>\n",
              "      <td>0.295045</td>\n",
              "      <td>0.302687</td>\n",
              "    </tr>\n",
              "  </tbody>\n",
              "</table>\n",
              "</div>"
            ],
            "text/plain": [
              "                                  Weighted F1  Macro F1  Accuracy\n",
              "Target                                                           \n",
              "Atheism                              0.596280  0.388677  0.563636\n",
              "Climate Change is a Real Concern     0.720316  0.471602  0.739645\n",
              "Feminist Movement                    0.511421  0.471750  0.484211\n",
              "Hillary Clinton                      0.526561  0.425535  0.518644\n",
              "Legalization of Abortion             0.513050  0.416983  0.485714\n",
              "Donald Trump                         0.306964  0.295045  0.302687"
            ]
          },
          "execution_count": 71,
          "metadata": {},
          "output_type": "execute_result"
        }
      ],
      "source": [
        "# Use the function to get the metrics DataFrame\n",
        "model_metrics_df = load_classification_rp_per_target(best_model)\n",
        "model_metrics_df"
      ]
    }
  ],
  "metadata": {
    "accelerator": "GPU",
    "colab": {
      "gpuType": "V100",
      "machine_shape": "hm",
      "provenance": []
    },
    "kernelspec": {
      "display_name": "Python 3",
      "name": "python3"
    },
    "language_info": {
      "codemirror_mode": {
        "name": "ipython",
        "version": 3
      },
      "file_extension": ".py",
      "mimetype": "text/x-python",
      "name": "python",
      "nbconvert_exporter": "python",
      "pygments_lexer": "ipython3",
      "version": "3.8.17"
    }
  },
  "nbformat": 4,
  "nbformat_minor": 0
}
