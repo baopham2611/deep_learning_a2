{
 "cells": [
  {
   "cell_type": "markdown",
   "metadata": {},
   "source": [
    "# \n",
    "<a id=\"data-prep\"></a>\n",
    "<div style=\"background-color: #000D5B; color: white; text-align: center; padding: 6px 0 22px 0\">\n",
    "    <h3 style=\"background-color: #000D5B; color: white; text-align: left\">RMIT School of Computer Science and Technology</h3>\n",
    "    <br/>\n",
    "    <h1>COSC3007: Deep Learning</h1>\n",
    "    <h2>Assignment 2: Stance Twitter Sentiment Analysis and Detection </h2>\n",
    "    <h2> [2] MODELLING AND MODEL EVALUATIONS </h2>\n",
    "\n",
    "</div>"
   ]
  },
  {
   "cell_type": "markdown",
   "metadata": {},
   "source": [
    "# Import Libs"
   ]
  },
  {
   "cell_type": "code",
   "execution_count": 1,
   "metadata": {},
   "outputs": [],
   "source": [
    "import pandas as pd \n",
    "import tensorflow as tf\n",
    "import matplotlib.pyplot as plt\n",
    "import seaborn as sns\n",
    "import numpy as np \n",
    "\n",
    "from tensorflow.keras.preprocessing.text import Tokenizer\n",
    "from tensorflow.keras.preprocessing.sequence import pad_sequences\n",
    "from sklearn.model_selection import train_test_split\n",
    "from sklearn.preprocessing import LabelEncoder\n",
    "from tensorflow.keras.utils import to_categorical\n",
    "from sklearn.preprocessing import LabelEncoder\n",
    "\n",
    "import numpy as np"
   ]
  },
  {
   "cell_type": "markdown",
   "metadata": {},
   "source": [
    "# [1] Load Data"
   ]
  },
  {
   "cell_type": "code",
   "execution_count": 2,
   "metadata": {},
   "outputs": [],
   "source": [
    "train_df = pd.read_csv(\"./StanceDataset/processed_train.csv\", encoding = \"ISO-8859-1\", engine=\"python\").drop(columns=['Unnamed: 0'])\n",
    "train_df = train_df.sample(frac=1, random_state=42).reset_index(drop=True)\n",
    "train_ori = train_df.copy()\n",
    "\n",
    "test_df = pd.read_csv(\"./StanceDataset/processed_test.csv\", encoding = \"ISO-8859-1\", engine=\"python\").drop(columns=['Unnamed: 0'])\n",
    "# Remove rows where the 'target' column is 5\n",
    "test_df = test_df[test_df['Target'] != 5]"
   ]
  },
  {
   "cell_type": "markdown",
   "metadata": {},
   "source": [
    "# [2] Prepare label and fit data"
   ]
  },
  {
   "cell_type": "markdown",
   "metadata": {},
   "source": [
    "## Split test and val"
   ]
  },
  {
   "cell_type": "code",
   "execution_count": 3,
   "metadata": {},
   "outputs": [],
   "source": [
    "train_df, val_df = train_test_split(train_df, test_size=0.2, random_state=42, shuffle=True)"
   ]
  },
  {
   "cell_type": "markdown",
   "metadata": {},
   "source": [
    "## Tweets"
   ]
  },
  {
   "cell_type": "code",
   "execution_count": 4,
   "metadata": {},
   "outputs": [],
   "source": [
    "# Load GloVe embeddings\n",
    "embedding_dim = 100  # This should match the GloVe\n",
    "glove_dir = 'path_to_glove' \n",
    "\n",
    "embeddings_index = {}\n",
    "with open(\"./glove.6B.100d.txt\", encoding='utf8') as f:\n",
    "    for line in f:\n",
    "        values = line.split()\n",
    "        word = values[0]\n",
    "        coefs = np.asarray(values[1:], dtype='float32')\n",
    "        embeddings_index[word] = coefs"
   ]
  },
  {
   "cell_type": "code",
   "execution_count": 5,
   "metadata": {},
   "outputs": [
    {
     "name": "stdout",
     "output_type": "stream",
     "text": [
      "Unique tokens: 6256\n",
      "Vocab size: 6257\n"
     ]
    }
   ],
   "source": [
    "\n",
    "# Initialize and fit the tokenizer on the training data\n",
    "tokenizer = Tokenizer()\n",
    "tokenizer.fit_on_texts(train_ori['processed_tweet'])\n",
    "\n",
    "# Convert texts to sequences for all datasets\n",
    "train_sequences = tokenizer.texts_to_sequences(train_df['processed_tweet'])\n",
    "test_sequences = tokenizer.texts_to_sequences(test_df['processed_tweet'])\n",
    "val_sequences = tokenizer.texts_to_sequences(val_df['processed_tweet'])\n",
    "\n",
    "MAX_LENGTH = max(\n",
    "    max(len(seq) for seq in train_sequences), \n",
    "    max(len(seq) for seq in val_sequences), \n",
    "    max(len(seq) for seq in test_sequences)\n",
    ")\n",
    "\n",
    "# Pad the sequences\n",
    "train_pad = pad_sequences(train_sequences, maxlen=MAX_LENGTH, padding='post')\n",
    "test_pad = pad_sequences(test_sequences, maxlen=MAX_LENGTH, padding='post')\n",
    "val_pad = pad_sequences(val_sequences, maxlen=MAX_LENGTH, padding='post')\n",
    "\n",
    "# Extract the word index and vocab size\n",
    "word_index = tokenizer.word_index\n",
    "print(\"Unique tokens: \" + str(len(word_index)))\n",
    "vocab_size = len(word_index) + 1\n",
    "print('Vocab size: ' + str(vocab_size))\n",
    "\n",
    "# Create an embedding matrix\n",
    "embedding_matrix = np.zeros((vocab_size, embedding_dim))\n",
    "for word, i in word_index.items():\n",
    "    embedding_vector = embeddings_index.get(word)\n",
    "    if embedding_vector is not None:\n",
    "        embedding_matrix[i] = embedding_vector\n"
   ]
  },
  {
   "cell_type": "code",
   "execution_count": 6,
   "metadata": {},
   "outputs": [
    {
     "name": "stdout",
     "output_type": "stream",
     "text": [
      "2331\n",
      "583\n",
      "1249\n"
     ]
    }
   ],
   "source": [
    "print(len(train_pad))\n",
    "print(len(val_df))\n",
    "print(len(test_pad))"
   ]
  },
  {
   "cell_type": "markdown",
   "metadata": {},
   "source": [
    "## Stances"
   ]
  },
  {
   "cell_type": "code",
   "execution_count": 7,
   "metadata": {},
   "outputs": [],
   "source": [
    "def categorized_label(df, label_name):\n",
    "    label_encoder = LabelEncoder()\n",
    "    encoded_labels = label_encoder.fit_transform(df[label_name])\n",
    "    categorical_labels = to_categorical(encoded_labels)\n",
    "    return categorical_labels"
   ]
  },
  {
   "cell_type": "code",
   "execution_count": 8,
   "metadata": {},
   "outputs": [],
   "source": [
    "train_labels = categorized_label(train_df, \"Stance\")\n",
    "test_labels = categorized_label(test_df, \"Stance\")\n",
    "val_labels = categorized_label(val_df, \"Stance\")"
   ]
  },
  {
   "cell_type": "markdown",
   "metadata": {},
   "source": [
    "# [3] Create Model"
   ]
  },
  {
   "cell_type": "code",
   "execution_count": 9,
   "metadata": {},
   "outputs": [],
   "source": [
    "from keras import backend as K\n",
    "from tensorflow.keras.optimizers.legacy import Adam\n",
    "from hyperopt import hp\n",
    "from hyperopt import hp, fmin, tpe, STATUS_OK, Trials\n",
    "import keras_tuner as kt"
   ]
  },
  {
   "cell_type": "code",
   "execution_count": 10,
   "metadata": {},
   "outputs": [],
   "source": [
    "def f1_score_class(y_true, y_pred):\n",
    "    true_positives = K.sum(K.round(K.clip(y_true * y_pred, 0, 1)))\n",
    "    possible_positives = K.sum(K.round(K.clip(y_true, 0, 1)))\n",
    "    predicted_positives = K.sum(K.round(K.clip(y_pred, 0, 1)))\n",
    "\n",
    "    precision = true_positives / (predicted_positives + K.epsilon())\n",
    "    recall = true_positives / (possible_positives + K.epsilon())\n",
    "    return 2 * ((precision * recall) / (precision + recall + K.epsilon()))\n",
    "\n",
    "def f1_score(y_true, y_pred):\n",
    "    # Convert predictions to one-hot format\n",
    "    y_pred_one_hot = K.one_hot(K.argmax(y_pred), num_classes=3)\n",
    "\n",
    "    # Calculate F1 score for each class\n",
    "    f1s = [f1_score_class(y_true[:, i], y_pred_one_hot[:, i]) for i in range(3)]\n",
    "\n",
    "    # Average F1 scores across all classes\n",
    "    return K.mean(K.stack(f1s), axis=0)"
   ]
  },
  {
   "cell_type": "code",
   "execution_count": null,
   "metadata": {},
   "outputs": [],
   "source": [
    "def f1_score(y_true, y_pred):\n",
    "    # Convert y_true to one-hot format\n",
    "    y_true_one_hot = tf.one_hot(tf.cast(y_true, tf.int32), depth=tf.shape(y_pred)[-1])\n",
    "\n",
    "    # Convert predictions to one-hot format\n",
    "    y_pred_one_hot = tf.one_hot(tf.argmax(y_pred, axis=1), depth=tf.shape(y_pred)[-1])\n",
    "\n",
    "    # Calculate true positives, predicted positives, and possible positives\n",
    "    true_positives = K.sum(y_true_one_hot * y_pred_one_hot, axis=0)\n",
    "    predicted_positives = K.sum(y_pred_one_hot, axis=0)\n",
    "    possible_positives = K.sum(y_true_one_hot, axis=0)\n",
    "\n",
    "    # Calculate precision and recall for each class\n",
    "    precision = true_positives / (predicted_positives + K.epsilon())\n",
    "    recall = true_positives / (possible_positives + K.epsilon())\n",
    "\n",
    "    # Calculate F1 score for each class\n",
    "    f1 = 2 * (precision * recall) / (precision + recall + K.epsilon())\n",
    "\n",
    "    # Calculate weighted F1 score\n",
    "    weights = possible_positives / K.sum(possible_positives)\n",
    "    weighted_f1 = K.sum(f1 * weights)\n",
    "\n",
    "    return weighted_f1"
   ]
  },
  {
   "cell_type": "markdown",
   "metadata": {},
   "source": [
    "Set up call backs and learning rates"
   ]
  },
  {
   "cell_type": "code",
   "execution_count": 11,
   "metadata": {},
   "outputs": [],
   "source": [
    "from tensorflow.keras.callbacks import EarlyStopping, ReduceLROnPlateau, ModelCheckpoint\n",
    "\n",
    "\n",
    "# Define the EarlyStopping and ReduceLROnPlateau callbacks\n",
    "early_stopping = EarlyStopping(\n",
    "    monitor='val_loss',\n",
    "    patience=10,\n",
    "    verbose=1,\n",
    "    restore_best_weights=True,\n",
    ")\n",
    "\n",
    "lr_scheduler = ReduceLROnPlateau(\n",
    "    monitor='val_loss',\n",
    "    factor=0.2,\n",
    "    patience=5,\n",
    "    min_lr=1e-5,\n",
    "    verbose=1,\n",
    ")\n",
    "\n",
    "# Define the ModelCheckpoint callback\n",
    "checkpoint_path = \"stance_best_model_tuned_weights.h5\"\n",
    "model_checkpoint_callback = ModelCheckpoint(\n",
    "    filepath=checkpoint_path,\n",
    "    save_weights_only=True,    # Only save a model if 'val_loss' has improved\n",
    "    monitor='val_loss',     # Monitor 'val_loss' during training\n",
    "    mode='min',             # The model is saved when 'val_loss' is minimized\n",
    "    verbose=1)\n",
    "\n",
    "# Combine all callbacks in a list\n",
    "callbacks = [\n",
    "    early_stopping,\n",
    "    lr_scheduler,\n",
    "    model_checkpoint_callback\n",
    "]\n",
    "\n",
    "\n",
    "# Combine all callbacks in a list\n",
    "callbacks1 = [\n",
    "    early_stopping,\n",
    "    # lr_scheduler,\n",
    "    model_checkpoint_callback\n",
    "]"
   ]
  },
  {
   "cell_type": "markdown",
   "metadata": {},
   "source": [
    "Set up keras tuner"
   ]
  },
  {
   "cell_type": "code",
   "execution_count": 12,
   "metadata": {},
   "outputs": [],
   "source": [
    "from tensorflow.keras.models import Sequential\n",
    "from tensorflow.keras.layers import Embedding, LSTM, Dense, Dropout, BatchNormalization, Bidirectional, Flatten\n",
    "from tensorflow.keras.regularizers import l2\n",
    "from tensorflow.keras.optimizers.legacy import Adam\n",
    "import keras_tuner as kt\n",
    "\n",
    "def build_model(hp):\n",
    "    model = Sequential()\n",
    "    model.add(Embedding(vocab_size, embedding_dim, weights=[embedding_matrix], input_length=MAX_LENGTH, trainable=False))\n",
    "\n",
    "    # Tuning the number of units in the first biLSTM layer\n",
    "    model.add(Bidirectional(LSTM(units=hp.Int('units1', min_value=32, max_value=512, step=32),\n",
    "                   return_sequences=True, \n",
    "                   dropout=hp.Float('dropout1', min_value=0, max_value=0.8, step=0.1),\n",
    "                   recurrent_dropout=hp.Float('recurrent_dropout1', min_value=0, max_value=0.5, step=0.1),\n",
    "                   kernel_regularizer=l2(hp.Float('l2_reg1', min_value=0.0001, max_value=0.01, sampling='LOG')))))\n",
    "\n",
    "    model.add(Flatten())\n",
    "    \n",
    "    # Dense layer with tunable units\n",
    "    model.add(Dense(\n",
    "        units=hp.Int('dense_layer_units_1', min_value=32, max_value=512, step=32),\n",
    "        activation=\"relu\",\n",
    "        kernel_regularizer=l2(hp.Float('dense_l2_reg', min_value=0.0001, max_value=0.005, sampling='LOG'))\n",
    "    ))\n",
    "\n",
    "    # Tunable dropout rate for the second layer\n",
    "    dropout_rate_3 = hp.Float('dropout__layer_3', min_value=0.0, max_value=0.8, step=0.1)\n",
    "    model.add(Dropout(dropout_rate_3))\n",
    "    \n",
    "    # Final Layer\n",
    "    model.add(Dense(3, activation='softmax'))\n",
    "\n",
    "    # Tuning the learning rate for the optimizer\n",
    "    model.compile(optimizer=Adam(hp.Float('learning_rate', min_value=1e-5, max_value=1e-2, sampling='LOG')),\n",
    "                  loss='categorical_crossentropy', \n",
    "                  metrics=['categorical_accuracy', f1_score])\n",
    "\n",
    "    return model\n"
   ]
  },
  {
   "cell_type": "code",
   "execution_count": 13,
   "metadata": {},
   "outputs": [
    {
     "ename": "NameError",
     "evalue": "name 'stop' is not defined",
     "output_type": "error",
     "traceback": [
      "\u001b[0;31m---------------------------------------------------------------------------\u001b[0m",
      "\u001b[0;31mNameError\u001b[0m                                 Traceback (most recent call last)",
      "Cell \u001b[0;32mIn[13], line 1\u001b[0m\n\u001b[0;32m----> 1\u001b[0m \u001b[43mstop\u001b[49m\n",
      "\u001b[0;31mNameError\u001b[0m: name 'stop' is not defined"
     ]
    }
   ],
   "source": [
    "stop"
   ]
  },
  {
   "cell_type": "code",
   "execution_count": null,
   "metadata": {},
   "outputs": [
    {
     "name": "stdout",
     "output_type": "stream",
     "text": [
      "Trial 90 Complete [00h 44m 31s]\n",
      "val_f1_score: 0.42871424555778503\n",
      "\n",
      "Best val_f1_score So Far: 0.5491897463798523\n",
      "Total elapsed time: 23h 35m 24s\n",
      "WARNING:tensorflow:Layer lstm will not use cuDNN kernels since it doesn't meet the criteria. It will use a generic GPU kernel as fallback when running on GPU.\n",
      "WARNING:tensorflow:Layer lstm will not use cuDNN kernels since it doesn't meet the criteria. It will use a generic GPU kernel as fallback when running on GPU.\n",
      "WARNING:tensorflow:Layer lstm will not use cuDNN kernels since it doesn't meet the criteria. It will use a generic GPU kernel as fallback when running on GPU.\n"
     ]
    },
    {
     "name": "stderr",
     "output_type": "stream",
     "text": [
      "/Users/vuvoquoc/miniforge3/envs/tf/lib/python3.8/site-packages/keras/src/engine/training.py:3000: UserWarning: You are saving your model as an HDF5 file via `model.save()`. This file format is considered legacy. We recommend using instead the native Keras format, e.g. `model.save('my_model.keras')`.\n",
      "  saving_api.save_model(\n"
     ]
    }
   ],
   "source": [
    "best_model = None\n",
    "best_hps = None\n",
    "\n",
    "# Hyperparameter tuning configuration\n",
    "objective = kt.Objective(\"val_f1_score\", direction=\"max\")\n",
    "tuning_config = {\n",
    "    'objective': objective,\n",
    "    'max_epochs': 30,\n",
    "    'directory': 'keras_tuner_dir',\n",
    "    'project_name': 'lstm_stance_classification'\n",
    "}\n",
    "\n",
    "# Early stopping callback\n",
    "stop_early = tf.keras.callbacks.EarlyStopping(monitor='val_loss', patience=5)\n",
    "\n",
    "batch_size = 32\n",
    "\n",
    "# for batch_size in batch_sizes:\n",
    "print(f\"Trying batch size: {batch_size}\")\n",
    "\n",
    "# Initialize the tuner\n",
    "tuner = kt.Hyperband(build_model, **tuning_config)\n",
    "\n",
    "# Search for the best hyperparameters\n",
    "tuner.search(train_pad, train_labels, \n",
    "            epochs=50, \n",
    "            validation_data=(val_pad, val_labels), \n",
    "            callbacks=[stop_early],\n",
    "            batch_size=batch_size)\n",
    "\n",
    "best_model = tuner.get_best_models(num_models=1)[0]\n",
    "best_hps = tuner.get_best_hyperparameters(num_trials=1)[0]\n",
    "best_model.save('initial_tuned_stance_best_model.h5')"
   ]
  },
  {
   "cell_type": "code",
   "execution_count": null,
   "metadata": {},
   "outputs": [],
   "source": [
    "with open('glove_lstm_best_hyperparameters.txt', 'w') as f:\n",
    "    for hparam in best_hps.values:\n",
    "        f.write(f\"{hparam}: {best_hps.get(hparam)}\\n\")"
   ]
  },
  {
   "cell_type": "code",
   "execution_count": null,
   "metadata": {},
   "outputs": [
    {
     "name": "stdout",
     "output_type": "stream",
     "text": [
      "WARNING:tensorflow:Detecting that an object or model or tf.train.Checkpoint is being deleted with unrestored values. See the following logs for the specific values in question. To silence these warnings, use `status.expect_partial()`. See https://www.tensorflow.org/api_docs/python/tf/train/Checkpoint#restorefor details about the status object returned by the restore function.\n",
      "WARNING:tensorflow:Value in checkpoint could not be found in the restored object: (root).optimizer.iter\n",
      "WARNING:tensorflow:Value in checkpoint could not be found in the restored object: (root).optimizer.beta_1\n",
      "WARNING:tensorflow:Value in checkpoint could not be found in the restored object: (root).optimizer.beta_2\n",
      "WARNING:tensorflow:Value in checkpoint could not be found in the restored object: (root).optimizer.decay\n",
      "WARNING:tensorflow:Value in checkpoint could not be found in the restored object: (root).optimizer.learning_rate\n",
      "WARNING:tensorflow:Layer lstm will not use cuDNN kernels since it doesn't meet the criteria. It will use a generic GPU kernel as fallback when running on GPU.\n",
      "WARNING:tensorflow:Layer lstm will not use cuDNN kernels since it doesn't meet the criteria. It will use a generic GPU kernel as fallback when running on GPU.\n",
      "WARNING:tensorflow:Layer lstm will not use cuDNN kernels since it doesn't meet the criteria. It will use a generic GPU kernel as fallback when running on GPU.\n"
     ]
    },
    {
     "name": "stderr",
     "output_type": "stream",
     "text": [
      "2023-12-28 21:07:48.234923: I tensorflow/core/grappler/optimizers/custom_graph_optimizer_registry.cc:114] Plugin optimizer for device_type GPU is enabled.\n"
     ]
    },
    {
     "name": "stdout",
     "output_type": "stream",
     "text": [
      "62/62 [==============================] - 45s 632ms/step - loss: 1.0927 - categorical_accuracy: 0.4959 - f1_score: 0.3529\n",
      "Test accuracy: [1.0927460193634033, 0.49591001868247986, 0.35286110639572144]\n"
     ]
    }
   ],
   "source": [
    "best_stance_only_model = tuner.get_best_models(num_models=1)[0]\n",
    "results = best_stance_only_model.evaluate(test_pad, test_labels)\n",
    "print('Test accuracy:', results)"
   ]
  },
  {
   "cell_type": "code",
   "execution_count": null,
   "metadata": {},
   "outputs": [],
   "source": [
    "best_stance_only_model.save_weights(\"stance_best_model_weights.h5\")"
   ]
  },
  {
   "cell_type": "markdown",
   "metadata": {},
   "source": [
    "Recreate the best model with more training time"
   ]
  },
  {
   "cell_type": "code",
   "execution_count": 14,
   "metadata": {},
   "outputs": [],
   "source": [
    "def load_hyperparameters(file_path):\n",
    "    hyperparameters = {}\n",
    "    with open(file_path, 'r') as file:\n",
    "        for line in file:\n",
    "            key, value = line.strip().split(': ')\n",
    "            # Convert value to the appropriate type\n",
    "            if value.isdigit():\n",
    "                value = int(value)  # Convert to integer if possible\n",
    "            elif value.replace('.', '', 1).isdigit() and '.' in value:\n",
    "                value = float(value)  # Convert to float if possible\n",
    "            hyperparameters[key] = value\n",
    "    return hyperparameters\n",
    "\n",
    "# Load the hyperparameters\n",
    "file_path = './keras_tuner_items/glove_lstm_best_hyperparameters.txt'  # Replace with your file path\n",
    "best_hps = load_hyperparameters(file_path)"
   ]
  },
  {
   "cell_type": "code",
   "execution_count": 15,
   "metadata": {},
   "outputs": [
    {
     "data": {
      "text/plain": [
       "{'units1': 224,\n",
       " 'dropout1': 0.2,\n",
       " 'recurrent_dropout1': 0.1,\n",
       " 'l2_reg1': 0.001243738627494935,\n",
       " 'dense_layer_units_1': 96,\n",
       " 'dense_l2_reg': 0.0007627558408220018,\n",
       " 'dropout__layer_3': 0.4,\n",
       " 'learning_rate': 0.0014187919793086125,\n",
       " 'tuner/epochs': 10,\n",
       " 'tuner/initial_epoch': 0,\n",
       " 'tuner/bracket': 1,\n",
       " 'tuner/round': 0}"
      ]
     },
     "execution_count": 15,
     "metadata": {},
     "output_type": "execute_result"
    }
   ],
   "source": [
    "best_hps"
   ]
  },
  {
   "cell_type": "code",
   "execution_count": 16,
   "metadata": {},
   "outputs": [],
   "source": [
    "def build_model_from_dict(hp_dict):\n",
    "    model = Sequential()\n",
    "    model.add(Embedding(vocab_size, embedding_dim, weights=[embedding_matrix], input_length=MAX_LENGTH, trainable=False))\n",
    "\n",
    "    # Use the hyperparameter values from the dictionary\n",
    "    model.add(Bidirectional(LSTM(units=hp_dict['units1'],\n",
    "                   return_sequences=True, \n",
    "                   dropout=hp_dict['dropout1'],\n",
    "                   recurrent_dropout=hp_dict['recurrent_dropout1'],\n",
    "                   kernel_regularizer=l2(hp_dict['l2_reg1']))))\n",
    "\n",
    "    model.add(Flatten())\n",
    "    \n",
    "    # Dense layer with tunable units\n",
    "    model.add(Dense(\n",
    "        units=hp_dict['dense_layer_units_1'],\n",
    "        activation=\"relu\",\n",
    "        kernel_regularizer=l2(hp_dict['dense_l2_reg'])\n",
    "    ))\n",
    "\n",
    "    # Tunable dropout rate for the second layer\n",
    "    dropout_rate_3 = hp_dict['dropout__layer_3']\n",
    "    model.add(Dropout(dropout_rate_3))\n",
    "    \n",
    "    # Final Layer\n",
    "    model.add(Dense(3, activation='softmax'))\n",
    "\n",
    "    # Tuning the learning rate for the optimizer\n",
    "    model.compile(optimizer=Adam(hp_dict['learning_rate']),\n",
    "                  loss='categorical_crossentropy', \n",
    "                  metrics=['categorical_accuracy', f1_score])\n",
    "\n",
    "    return model"
   ]
  },
  {
   "cell_type": "code",
   "execution_count": 17,
   "metadata": {},
   "outputs": [
    {
     "name": "stdout",
     "output_type": "stream",
     "text": [
      "WARNING:tensorflow:Layer lstm will not use cuDNN kernels since it doesn't meet the criteria. It will use a generic GPU kernel as fallback when running on GPU.\n",
      "WARNING:tensorflow:Layer lstm will not use cuDNN kernels since it doesn't meet the criteria. It will use a generic GPU kernel as fallback when running on GPU.\n",
      "WARNING:tensorflow:Layer lstm will not use cuDNN kernels since it doesn't meet the criteria. It will use a generic GPU kernel as fallback when running on GPU.\n"
     ]
    },
    {
     "name": "stderr",
     "output_type": "stream",
     "text": [
      "2023-12-29 18:32:39.347217: I metal_plugin/src/device/metal_device.cc:1154] Metal device set to: Apple M1 Max\n",
      "2023-12-29 18:32:39.347239: I metal_plugin/src/device/metal_device.cc:296] systemMemory: 32.00 GB\n",
      "2023-12-29 18:32:39.347243: I metal_plugin/src/device/metal_device.cc:313] maxCacheSize: 10.67 GB\n",
      "2023-12-29 18:32:39.347274: I tensorflow/core/common_runtime/pluggable_device/pluggable_device_factory.cc:303] Could not identify NUMA node of platform GPU ID 0, defaulting to 0. Your kernel may not have been built with NUMA support.\n",
      "2023-12-29 18:32:39.347291: I tensorflow/core/common_runtime/pluggable_device/pluggable_device_factory.cc:269] Created TensorFlow device (/job:localhost/replica:0/task:0/device:GPU:0 with 0 MB memory) -> physical PluggableDevice (device: 0, name: METAL, pci bus id: <undefined>)\n"
     ]
    },
    {
     "data": {
      "image/png": "[encoded data removed]",
      "text/plain": [
       "<IPython.core.display.Image object>"
      ]
     },
     "execution_count": 17,
     "metadata": {},
     "output_type": "execute_result"
    }
   ],
   "source": [
    "from tensorflow.keras.utils import plot_model\n",
    "model = build_model_from_dict(best_hps)\n",
    "plot_model(model, show_layer_names=False, show_shapes=True, to_file='tuned_stance_model.png')"
   ]
  },
  {
   "cell_type": "code",
   "execution_count": 18,
   "metadata": {},
   "outputs": [
    {
     "name": "stdout",
     "output_type": "stream",
     "text": [
      "Epoch 1/100\n"
     ]
    },
    {
     "name": "stderr",
     "output_type": "stream",
     "text": [
      "2023-12-29 18:32:42.822398: I tensorflow/core/grappler/optimizers/custom_graph_optimizer_registry.cc:114] Plugin optimizer for device_type GPU is enabled.\n"
     ]
    },
    {
     "name": "stdout",
     "output_type": "stream",
     "text": [
      "73/73 [==============================] - ETA: 0s - loss: 1.5476 - categorical_accuracy: 0.4715 - f1_score: 0.4008"
     ]
    },
    {
     "name": "stderr",
     "output_type": "stream",
     "text": [
      "2023-12-29 18:35:16.953995: I tensorflow/core/grappler/optimizers/custom_graph_optimizer_registry.cc:114] Plugin optimizer for device_type GPU is enabled.\n"
     ]
    },
    {
     "name": "stdout",
     "output_type": "stream",
     "text": [
      "\n",
      "Epoch 1: saving model to stance_best_model_tuned_weights.h5\n",
      "73/73 [==============================] - 161s 2s/step - loss: 1.5476 - categorical_accuracy: 0.4715 - f1_score: 0.4008 - val_loss: 1.1976 - val_categorical_accuracy: 0.5266 - val_f1_score: 0.3609\n",
      "Epoch 2/100\n",
      "73/73 [==============================] - ETA: 0s - loss: 1.1887 - categorical_accuracy: 0.5294 - f1_score: 0.4550\n",
      "Epoch 2: saving model to stance_best_model_tuned_weights.h5\n",
      "73/73 [==============================] - 151s 2s/step - loss: 1.1887 - categorical_accuracy: 0.5294 - f1_score: 0.4550 - val_loss: 1.1155 - val_categorical_accuracy: 0.5403 - val_f1_score: 0.4680\n",
      "Epoch 3/100\n",
      "73/73 [==============================] - ETA: 0s - loss: 1.2153 - categorical_accuracy: 0.5019 - f1_score: 0.4372\n",
      "Epoch 3: saving model to stance_best_model_tuned_weights.h5\n",
      "73/73 [==============================] - 151s 2s/step - loss: 1.2153 - categorical_accuracy: 0.5019 - f1_score: 0.4372 - val_loss: 1.0917 - val_categorical_accuracy: 0.5592 - val_f1_score: 0.4776\n",
      "Epoch 4/100\n",
      "73/73 [==============================] - ETA: 0s - loss: 1.0878 - categorical_accuracy: 0.5440 - f1_score: 0.4673\n",
      "Epoch 4: saving model to stance_best_model_tuned_weights.h5\n",
      "73/73 [==============================] - 144s 2s/step - loss: 1.0878 - categorical_accuracy: 0.5440 - f1_score: 0.4673 - val_loss: 1.0586 - val_categorical_accuracy: 0.5334 - val_f1_score: 0.5020\n",
      "Epoch 5/100\n",
      "73/73 [==============================] - ETA: 0s - loss: 1.1121 - categorical_accuracy: 0.5350 - f1_score: 0.4610\n",
      "Epoch 5: saving model to stance_best_model_tuned_weights.h5\n",
      "73/73 [==============================] - 145s 2s/step - loss: 1.1121 - categorical_accuracy: 0.5350 - f1_score: 0.4610 - val_loss: 1.0703 - val_categorical_accuracy: 0.5283 - val_f1_score: 0.5059\n",
      "Epoch 6/100\n",
      "73/73 [==============================] - ETA: 0s - loss: 1.1213 - categorical_accuracy: 0.5431 - f1_score: 0.4753\n",
      "Epoch 6: saving model to stance_best_model_tuned_weights.h5\n",
      "73/73 [==============================] - 142s 2s/step - loss: 1.1213 - categorical_accuracy: 0.5431 - f1_score: 0.4753 - val_loss: 1.1503 - val_categorical_accuracy: 0.5060 - val_f1_score: 0.4566\n",
      "Epoch 7/100\n",
      "73/73 [==============================] - ETA: 0s - loss: 1.0899 - categorical_accuracy: 0.5448 - f1_score: 0.4680\n",
      "Epoch 7: saving model to stance_best_model_tuned_weights.h5\n",
      "73/73 [==============================] - 232s 3s/step - loss: 1.0899 - categorical_accuracy: 0.5448 - f1_score: 0.4680 - val_loss: 1.0358 - val_categorical_accuracy: 0.5506 - val_f1_score: 0.4550\n",
      "Epoch 8/100\n",
      "73/73 [==============================] - ETA: 0s - loss: 1.0185 - categorical_accuracy: 0.5611 - f1_score: 0.4963 \n",
      "Epoch 8: saving model to stance_best_model_tuned_weights.h5\n",
      "73/73 [==============================] - 1385s 19s/step - loss: 1.0185 - categorical_accuracy: 0.5611 - f1_score: 0.4963 - val_loss: 1.0843 - val_categorical_accuracy: 0.4974 - val_f1_score: 0.4247\n",
      "Epoch 9/100\n",
      "73/73 [==============================] - ETA: 0s - loss: 1.0489 - categorical_accuracy: 0.5435 - f1_score: 0.4766\n",
      "Epoch 9: saving model to stance_best_model_tuned_weights.h5\n",
      "73/73 [==============================] - 312s 4s/step - loss: 1.0489 - categorical_accuracy: 0.5435 - f1_score: 0.4766 - val_loss: 1.0708 - val_categorical_accuracy: 0.5146 - val_f1_score: 0.4817\n",
      "Epoch 10/100\n",
      "73/73 [==============================] - ETA: 0s - loss: 1.0666 - categorical_accuracy: 0.5384 - f1_score: 0.4717\n",
      "Epoch 10: saving model to stance_best_model_tuned_weights.h5\n",
      "73/73 [==============================] - 157s 2s/step - loss: 1.0666 - categorical_accuracy: 0.5384 - f1_score: 0.4717 - val_loss: 1.0541 - val_categorical_accuracy: 0.5472 - val_f1_score: 0.4711\n",
      "Epoch 11/100\n",
      "73/73 [==============================] - ETA: 0s - loss: 1.0749 - categorical_accuracy: 0.5453 - f1_score: 0.4727\n",
      "Epoch 11: saving model to stance_best_model_tuned_weights.h5\n",
      "73/73 [==============================] - 150s 2s/step - loss: 1.0749 - categorical_accuracy: 0.5453 - f1_score: 0.4727 - val_loss: 1.0834 - val_categorical_accuracy: 0.5094 - val_f1_score: 0.4834\n",
      "Epoch 12/100\n",
      "73/73 [==============================] - ETA: 0s - loss: 1.0244 - categorical_accuracy: 0.5590 - f1_score: 0.4827\n",
      "Epoch 12: saving model to stance_best_model_tuned_weights.h5\n",
      "73/73 [==============================] - 149s 2s/step - loss: 1.0244 - categorical_accuracy: 0.5590 - f1_score: 0.4827 - val_loss: 1.0466 - val_categorical_accuracy: 0.5352 - val_f1_score: 0.4769\n",
      "Epoch 13/100\n",
      "73/73 [==============================] - ETA: 0s - loss: 0.9962 - categorical_accuracy: 0.5740 - f1_score: 0.5170\n",
      "Epoch 13: saving model to stance_best_model_tuned_weights.h5\n",
      "73/73 [==============================] - 152s 2s/step - loss: 0.9962 - categorical_accuracy: 0.5740 - f1_score: 0.5170 - val_loss: 1.0336 - val_categorical_accuracy: 0.5626 - val_f1_score: 0.4970\n",
      "Epoch 14/100\n",
      "73/73 [==============================] - ETA: 0s - loss: 0.9941 - categorical_accuracy: 0.5813 - f1_score: 0.5143\n",
      "Epoch 14: saving model to stance_best_model_tuned_weights.h5\n",
      "73/73 [==============================] - 149s 2s/step - loss: 0.9941 - categorical_accuracy: 0.5813 - f1_score: 0.5143 - val_loss: 1.0442 - val_categorical_accuracy: 0.5523 - val_f1_score: 0.4987\n",
      "Epoch 15/100\n",
      "73/73 [==============================] - ETA: 0s - loss: 1.0113 - categorical_accuracy: 0.5877 - f1_score: 0.5277\n",
      "Epoch 15: saving model to stance_best_model_tuned_weights.h5\n",
      "73/73 [==============================] - 149s 2s/step - loss: 1.0113 - categorical_accuracy: 0.5877 - f1_score: 0.5277 - val_loss: 1.0486 - val_categorical_accuracy: 0.5334 - val_f1_score: 0.4902\n",
      "Epoch 16/100\n",
      "73/73 [==============================] - ETA: 0s - loss: 1.0016 - categorical_accuracy: 0.5959 - f1_score: 0.5377\n",
      "Epoch 16: saving model to stance_best_model_tuned_weights.h5\n",
      "73/73 [==============================] - 140s 2s/step - loss: 1.0016 - categorical_accuracy: 0.5959 - f1_score: 0.5377 - val_loss: 1.0548 - val_categorical_accuracy: 0.5317 - val_f1_score: 0.4712\n",
      "Epoch 17/100\n",
      "73/73 [==============================] - ETA: 0s - loss: 0.9678 - categorical_accuracy: 0.5997 - f1_score: 0.5462\n",
      "Epoch 17: saving model to stance_best_model_tuned_weights.h5\n",
      "73/73 [==============================] - 145s 2s/step - loss: 0.9678 - categorical_accuracy: 0.5997 - f1_score: 0.5462 - val_loss: 1.0486 - val_categorical_accuracy: 0.5592 - val_f1_score: 0.4890\n",
      "Epoch 18/100\n",
      "73/73 [==============================] - ETA: 0s - loss: 0.9495 - categorical_accuracy: 0.6169 - f1_score: 0.5718\n",
      "Epoch 18: saving model to stance_best_model_tuned_weights.h5\n",
      "73/73 [==============================] - 146s 2s/step - loss: 0.9495 - categorical_accuracy: 0.6169 - f1_score: 0.5718 - val_loss: 1.0626 - val_categorical_accuracy: 0.5540 - val_f1_score: 0.4820\n",
      "Epoch 19/100\n",
      "73/73 [==============================] - ETA: 0s - loss: 0.9347 - categorical_accuracy: 0.6221 - f1_score: 0.5676\n",
      "Epoch 19: saving model to stance_best_model_tuned_weights.h5\n",
      "73/73 [==============================] - 145s 2s/step - loss: 0.9347 - categorical_accuracy: 0.6221 - f1_score: 0.5676 - val_loss: 1.0766 - val_categorical_accuracy: 0.5678 - val_f1_score: 0.5189\n",
      "Epoch 20/100\n",
      "73/73 [==============================] - ETA: 0s - loss: 0.9680 - categorical_accuracy: 0.6148 - f1_score: 0.5570\n",
      "Epoch 20: saving model to stance_best_model_tuned_weights.h5\n",
      "73/73 [==============================] - 144s 2s/step - loss: 0.9680 - categorical_accuracy: 0.6148 - f1_score: 0.5570 - val_loss: 1.0525 - val_categorical_accuracy: 0.5695 - val_f1_score: 0.5201\n",
      "Epoch 21/100\n",
      "73/73 [==============================] - ETA: 0s - loss: 0.9309 - categorical_accuracy: 0.6375 - f1_score: 0.5893\n",
      "Epoch 21: saving model to stance_best_model_tuned_weights.h5\n",
      "73/73 [==============================] - 145s 2s/step - loss: 0.9309 - categorical_accuracy: 0.6375 - f1_score: 0.5893 - val_loss: 1.0568 - val_categorical_accuracy: 0.5815 - val_f1_score: 0.5306\n",
      "Epoch 22/100\n",
      "73/73 [==============================] - ETA: 0s - loss: 0.9215 - categorical_accuracy: 0.6298 - f1_score: 0.5763\n",
      "Epoch 22: saving model to stance_best_model_tuned_weights.h5\n",
      "73/73 [==============================] - 146s 2s/step - loss: 0.9215 - categorical_accuracy: 0.6298 - f1_score: 0.5763 - val_loss: 1.1605 - val_categorical_accuracy: 0.5077 - val_f1_score: 0.4864\n",
      "Epoch 23/100\n",
      "73/73 [==============================] - ETA: 0s - loss: 0.9092 - categorical_accuracy: 0.6448 - f1_score: 0.6103Restoring model weights from the end of the best epoch: 13.\n",
      "\n",
      "Epoch 23: saving model to stance_best_model_tuned_weights.h5\n",
      "73/73 [==============================] - 151s 2s/step - loss: 0.9092 - categorical_accuracy: 0.6448 - f1_score: 0.6103 - val_loss: 1.0814 - val_categorical_accuracy: 0.5746 - val_f1_score: 0.5248\n",
      "Epoch 23: early stopping\n"
     ]
    }
   ],
   "source": [
    "history = {}\n",
    "history['tuned_stance_model'] = model.fit(train_pad, train_labels, \n",
    "                    epochs=100, \n",
    "                    validation_data=(val_pad, val_labels), \n",
    "                    batch_size=32, \n",
    "                    callbacks=callbacks1,\n",
    "                    shuffle = True)"
   ]
  },
  {
   "cell_type": "code",
   "execution_count": 19,
   "metadata": {},
   "outputs": [
    {
     "name": "stdout",
     "output_type": "stream",
     "text": [
      "40/40 [==============================] - 7s 165ms/step - loss: 0.9794 - categorical_accuracy: 0.5789 - f1_score: 0.4011\n",
      "Test accuracy: [0.979374885559082, 0.5788630843162537, 0.4011463224887848]\n"
     ]
    }
   ],
   "source": [
    "results = model.evaluate(test_pad, test_labels)\n",
    "print('Test accuracy:', results)"
   ]
  },
  {
   "cell_type": "code",
   "execution_count": 21,
   "metadata": {},
   "outputs": [
    {
     "name": "stderr",
     "output_type": "stream",
     "text": [
      "2023-12-29 19:56:12.665296: I tensorflow/core/grappler/optimizers/custom_graph_optimizer_registry.cc:114] Plugin optimizer for device_type GPU is enabled.\n"
     ]
    },
    {
     "name": "stdout",
     "output_type": "stream",
     "text": [
      "40/40 [==============================] - 6s 140ms/step\n",
      "              precision    recall  f1-score   support\n",
      "\n",
      "           0       0.71      0.69      0.70       715\n",
      "           1       0.65      0.30      0.41       304\n",
      "           2       0.34      0.61      0.44       230\n",
      "\n",
      "    accuracy                           0.58      1249\n",
      "   macro avg       0.57      0.53      0.51      1249\n",
      "weighted avg       0.63      0.58      0.58      1249\n",
      "\n"
     ]
    }
   ],
   "source": [
    "from sklearn.metrics import classification_report\n",
    "import numpy as np\n",
    "# Get model predictions\n",
    "predictions = model.predict(test_pad)\n",
    "\n",
    "# Convert predictions to class labels\n",
    "predicted_labels = np.argmax(predictions, axis=1)\n",
    "\n",
    "# Assuming test_labels are one-hot encoded, convert them to class labels\n",
    "true_labels = np.argmax(test_labels, axis=1)\n",
    "\n",
    "# Generate classification report\n",
    "report = classification_report(true_labels, predicted_labels)\n",
    "print(report)"
   ]
  },
  {
   "cell_type": "code",
   "execution_count": 22,
   "metadata": {},
   "outputs": [
    {
     "name": "stdout",
     "output_type": "stream",
     "text": [
      "19/19 [==============================] - 3s 163ms/step - loss: 1.0336 - categorical_accuracy: 0.5626 - f1_score: 0.4970\n",
      "Test accuracy: [1.0336124897003174, 0.5626072287559509, 0.49704989790916443]\n"
     ]
    }
   ],
   "source": [
    "results = model.evaluate(val_pad, val_labels)\n",
    "print('Test accuracy:', results)"
   ]
  }
 ],
 "metadata": {
  "kernelspec": {
   "display_name": "Python 3",
   "language": "python",
   "name": "python3"
  },
  "language_info": {
   "codemirror_mode": {
    "name": "ipython",
    "version": 3
   },
   "file_extension": ".py",
   "mimetype": "text/x-python",
   "name": "python",
   "nbconvert_exporter": "python",
   "pygments_lexer": "ipython3",
   "version": "3.8.17"
  }
 },
 "nbformat": 4,
 "nbformat_minor": 2
}
