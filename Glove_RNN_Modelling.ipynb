{
  "cells": [
    {
      "cell_type": "code",
      "execution_count": 46,
      "metadata": {
        "id": "YMUi67Rs4pzR"
      },
      "outputs": [],
      "source": [
        "# !pip install plotly\n",
        "# !pip install seaborn\n",
        "# !pip install matplotlib\n",
        "# !pip install transformers\n",
        "# !pip install tokenizers\n",
        "# !pip install scikit-learn\n",
        "# !pip install tensorflow\n",
        "# !pip install pandas\n",
        "# !pip install numpy\n",
        "# !pip install keras_tuner"
      ]
    },
    {
      "cell_type": "code",
      "execution_count": 47,
      "metadata": {
        "colab": {
          "base_uri": "https://localhost:8080/"
        },
        "id": "QAuRRSep48HP",
        "outputId": "9d4e45aa-8bc3-482d-bcfa-f6369042a881"
      },
      "outputs": [
        {
          "name": "stdout",
          "output_type": "stream",
          "text": [
            "Drive already mounted at /content/drive; to attempt to forcibly remount, call drive.mount(\"/content/drive\", force_remount=True).\n"
          ]
        }
      ],
      "source": [
        "from google.colab import drive\n",
        "drive.mount('/content/drive')"
      ]
    },
    {
      "cell_type": "markdown",
      "metadata": {
        "id": "PrF9hCpi4NC5"
      },
      "source": [
        "#\n",
        "<a id=\"data-prep\"></a>\n",
        "<div style=\"background-color: #000D5B; color: white; text-align: center; padding: 6px 0 22px 0\">\n",
        "    <h3 style=\"background-color: #000D5B; color: white; text-align: left\">RMIT School of Computer Science and Technology</h3>\n",
        "    <br/>\n",
        "    <h1>COSC3007: Deep Learning</h1>\n",
        "    <h2>Assignment 2: Stance Twitter Sentiment Analysis and Detection </h2>\n",
        "    <h2> [2] MODELLING AND MODEL EVALUATIONS </h2>\n",
        "\n",
        "</div>"
      ]
    },
    {
      "cell_type": "markdown",
      "metadata": {
        "id": "sfEO48Ha4NC6"
      },
      "source": [
        "# Import Libs"
      ]
    },
    {
      "cell_type": "code",
      "execution_count": 48,
      "metadata": {
        "id": "a36se5m_4NC7"
      },
      "outputs": [],
      "source": [
        "import pandas as pd\n",
        "import tensorflow as tf\n",
        "import matplotlib.pyplot as plt\n",
        "import seaborn as sns\n",
        "import numpy as np\n",
        "\n",
        "from tensorflow.keras.preprocessing.text import Tokenizer\n",
        "from tensorflow.keras.preprocessing.sequence import pad_sequences\n",
        "from sklearn.model_selection import train_test_split\n",
        "from sklearn.preprocessing import LabelEncoder\n",
        "from tensorflow.keras.utils import to_categorical\n",
        "from sklearn.preprocessing import LabelEncoder\n",
        "\n",
        "import numpy as np"
      ]
    },
    {
      "cell_type": "markdown",
      "metadata": {
        "id": "DXoaFXZZ4NC7"
      },
      "source": [
        "# [1] Load Data"
      ]
    },
    {
      "cell_type": "code",
      "execution_count": 49,
      "metadata": {
        "id": "gfOQjVqV4NC7"
      },
      "outputs": [],
      "source": [
        "train_df = pd.read_csv(\"./StanceDataset/processed_train.csv\", encoding = \"ISO-8859-1\", engine=\"python\").drop(columns=['Unnamed: 0'])\n",
        "train_df = train_df.sample(frac=1, random_state=42).reset_index(drop=True)\n",
        "train_ori = train_df.copy()\n",
        "\n",
        "test_df = pd.read_csv(\"./StanceDataset/processed_test.csv\", encoding = \"ISO-8859-1\", engine=\"python\").drop(columns=['Unnamed: 0'])\n",
        "# Remove rows where the 'target' column is 5\n",
        "test_df = test_df[test_df['Target'] != 5]"
      ]
    },
    {
      "cell_type": "markdown",
      "metadata": {
        "id": "zSOnBX9a4NC7"
      },
      "source": [
        "# [2] Prepare label and fit data"
      ]
    },
    {
      "cell_type": "markdown",
      "metadata": {
        "id": "4Sa7uHjM4NC7"
      },
      "source": [
        "## Split test and val"
      ]
    },
    {
      "cell_type": "code",
      "execution_count": 50,
      "metadata": {
        "id": "ZlxRta-S4NC7"
      },
      "outputs": [],
      "source": [
        "train_df, val_df = train_test_split(train_df, test_size=0.2, random_state=42, shuffle=True)"
      ]
    },
    {
      "cell_type": "markdown",
      "metadata": {
        "id": "EJpC2STO4NC8"
      },
      "source": [
        "## Tweets"
      ]
    },
    {
      "cell_type": "code",
      "execution_count": 51,
      "metadata": {
        "id": "Eik3qaTC4NC8"
      },
      "outputs": [],
      "source": [
        "# Load GloVe embeddings\n",
        "embedding_dim = 100  # This should match the GloVe\n",
        "glove_dir = 'path_to_glove'\n",
        "from tqdm import tqdm\n",
        "\n",
        "embeddings_index = {}\n",
        "with open(\"./glove.twitter.27B.100d.txt\", encoding='utf8') as f:\n",
        "    for line in f:\n",
        "        values = line.split()\n",
        "        word = values[0]\n",
        "        coefs = np.asarray(values[1:], dtype='float32')\n",
        "        embeddings_index[word] = coefs\n"
      ]
    },
    {
      "cell_type": "code",
      "execution_count": 52,
      "metadata": {
        "colab": {
          "base_uri": "https://localhost:8080/"
        },
        "id": "L1yCqtY-4NC8",
        "outputId": "67313264-f2d9-4825-9309-b5ba07d7c8b5"
      },
      "outputs": [
        {
          "name": "stdout",
          "output_type": "stream",
          "text": [
            "Unique tokens: 6256\n",
            "Vocab size: 6257\n"
          ]
        }
      ],
      "source": [
        "\n",
        "# Initialize and fit the tokenizer on the training data\n",
        "tokenizer = Tokenizer()\n",
        "tokenizer.fit_on_texts(train_ori['processed_tweet'])\n",
        "\n",
        "# Convert texts to sequences for all datasets\n",
        "train_sequences = tokenizer.texts_to_sequences(train_df['processed_tweet'])\n",
        "test_sequences = tokenizer.texts_to_sequences(test_df['processed_tweet'])\n",
        "val_sequences = tokenizer.texts_to_sequences(val_df['processed_tweet'])\n",
        "\n",
        "MAX_LENGTH = max(\n",
        "    max(len(seq) for seq in train_sequences),\n",
        "    max(len(seq) for seq in val_sequences),\n",
        "    max(len(seq) for seq in test_sequences)\n",
        ")\n",
        "\n",
        "# Pad the sequences\n",
        "train_pad = pad_sequences(train_sequences, maxlen=MAX_LENGTH, padding='post')\n",
        "test_pad = pad_sequences(test_sequences, maxlen=MAX_LENGTH, padding='post')\n",
        "val_pad = pad_sequences(val_sequences, maxlen=MAX_LENGTH, padding='post')\n",
        "\n",
        "# Extract the word index and vocab size\n",
        "word_index = tokenizer.word_index\n",
        "print(\"Unique tokens: \" + str(len(word_index)))\n",
        "vocab_size = len(word_index) + 1\n",
        "print('Vocab size: ' + str(vocab_size))\n",
        "\n",
        "# Create an embedding matrix\n",
        "embedding_matrix = np.zeros((vocab_size, embedding_dim))\n",
        "for word, i in word_index.items():\n",
        "    embedding_vector = embeddings_index.get(word)\n",
        "    if embedding_vector is not None:\n",
        "        embedding_matrix[i] = embedding_vector"
      ]
    },
    {
      "cell_type": "code",
      "execution_count": 53,
      "metadata": {
        "colab": {
          "base_uri": "https://localhost:8080/"
        },
        "id": "_KxZpSwO4NC8",
        "outputId": "c4abded5-f4ff-47e1-ec13-e9d3e128d5b1"
      },
      "outputs": [
        {
          "name": "stdout",
          "output_type": "stream",
          "text": [
            "2331\n",
            "583\n",
            "1249\n"
          ]
        }
      ],
      "source": [
        "print(len(train_pad))\n",
        "print(len(val_df))\n",
        "print(len(test_pad))"
      ]
    },
    {
      "cell_type": "markdown",
      "metadata": {
        "id": "K-HMFPxP4NC8"
      },
      "source": [
        "## Stances"
      ]
    },
    {
      "cell_type": "code",
      "execution_count": 54,
      "metadata": {
        "id": "1I0JnVMF4NC8"
      },
      "outputs": [],
      "source": [
        "def categorized_label(df, label_name):\n",
        "    label_encoder = LabelEncoder()\n",
        "    encoded_labels = label_encoder.fit_transform(df[label_name])\n",
        "    categorical_labels = to_categorical(encoded_labels)\n",
        "    return categorical_labels"
      ]
    },
    {
      "cell_type": "code",
      "execution_count": 55,
      "metadata": {
        "id": "DZ3NOFOF4NC9"
      },
      "outputs": [],
      "source": [
        "train_labels = categorized_label(train_df, \"Stance\")\n",
        "test_labels = categorized_label(test_df, \"Stance\")\n",
        "val_labels = categorized_label(val_df, \"Stance\")"
      ]
    },
    {
      "cell_type": "markdown",
      "metadata": {
        "id": "rErj4sRD4NC9"
      },
      "source": [
        "# [3] Create Model"
      ]
    },
    {
      "cell_type": "code",
      "execution_count": 56,
      "metadata": {
        "id": "JZQYSung4NC9"
      },
      "outputs": [],
      "source": [
        "def f1_score_class(y_true, y_pred):\n",
        "    true_positives = K.sum(K.round(K.clip(y_true * y_pred, 0, 1)))\n",
        "    possible_positives = K.sum(K.round(K.clip(y_true, 0, 1)))\n",
        "    predicted_positives = K.sum(K.round(K.clip(y_pred, 0, 1)))\n",
        "\n",
        "    precision = true_positives / (predicted_positives + K.epsilon())\n",
        "    recall = true_positives / (possible_positives + K.epsilon())\n",
        "    return 2 * ((precision * recall) / (precision + recall + K.epsilon()))\n",
        "\n",
        "def f1_score(y_true, y_pred):\n",
        "    # Convert predictions to one-hot format\n",
        "    y_pred_one_hot = K.one_hot(K.argmax(y_pred), num_classes=3)\n",
        "\n",
        "    # Calculate F1 score for each class\n",
        "    f1s = [f1_score_class(y_true[:, i], y_pred_one_hot[:, i]) for i in range(3)]\n",
        "\n",
        "    # Average F1 scores across all classes\n",
        "    return K.mean(K.stack(f1s), axis=0)"
      ]
    },
    {
      "cell_type": "code",
      "execution_count": 57,
      "metadata": {
        "id": "dxH6T2wb4NC9"
      },
      "outputs": [],
      "source": [
        "from keras import backend as K\n",
        "from tensorflow.keras.optimizers.legacy import Adam\n",
        "from hyperopt import hp\n",
        "from hyperopt import hp, fmin, tpe, STATUS_OK, Trials\n",
        "import keras_tuner as kt"
      ]
    },
    {
      "cell_type": "markdown",
      "metadata": {
        "id": "RzS8a9l64NC9"
      },
      "source": [
        "Set up call backs and learning rates"
      ]
    },
    {
      "cell_type": "code",
      "execution_count": 58,
      "metadata": {
        "id": "o3WL0NZp4NC9"
      },
      "outputs": [],
      "source": [
        "from tensorflow.keras.callbacks import EarlyStopping, ReduceLROnPlateau, ModelCheckpoint\n",
        "\n",
        "\n",
        "# Define the EarlyStopping and ReduceLROnPlateau callbacks\n",
        "early_stopping = EarlyStopping(\n",
        "    monitor='val_loss',\n",
        "    patience=10,\n",
        "    verbose=1,\n",
        "    restore_best_weights=True,\n",
        ")\n",
        "\n",
        "lr_scheduler = ReduceLROnPlateau(\n",
        "    monitor='val_loss',\n",
        "    factor=0.2,\n",
        "    patience=5,\n",
        "    min_lr=1e-5,\n",
        "    verbose=1,\n",
        ")\n",
        "\n",
        "# Define the ModelCheckpoint callback\n",
        "checkpoint_path = \"stance_best_model_tuned_weights.h5\"\n",
        "model_checkpoint_callback = ModelCheckpoint(\n",
        "    filepath=checkpoint_path,\n",
        "    save_weights_only=True,    # Only save a model if 'val_loss' has improved\n",
        "    monitor='val_loss',     # Monitor 'val_loss' during training\n",
        "    mode='min',             # The model is saved when 'val_loss' is minimized\n",
        "    verbose=1)\n",
        "\n",
        "# Combine all callbacks in a list\n",
        "callbacks = [\n",
        "    early_stopping,\n",
        "    lr_scheduler,\n",
        "    model_checkpoint_callback\n",
        "]\n",
        "\n",
        "\n",
        "# Combine all callbacks in a list\n",
        "callbacks1 = [\n",
        "    early_stopping,\n",
        "    # lr_scheduler,\n",
        "    model_checkpoint_callback\n",
        "]"
      ]
    },
    {
      "cell_type": "markdown",
      "metadata": {
        "id": "Hzg0wAFK4NC9"
      },
      "source": [
        "Set up keras tuner"
      ]
    },
    {
      "cell_type": "code",
      "execution_count": 59,
      "metadata": {
        "id": "1led1Np04NC9"
      },
      "outputs": [],
      "source": [
        "from tensorflow.keras.models import Sequential\n",
        "from tensorflow.keras.layers import Embedding, LSTM, Dense, Dropout, BatchNormalization, Bidirectional, Flatten\n",
        "from tensorflow.keras.regularizers import l2\n",
        "from tensorflow.keras.optimizers.legacy import Adam\n",
        "from sklearn.metrics import classification_report\n",
        "import numpy as np\n",
        "import keras_tuner as kt\n",
        "\n",
        "def build_model(hp):\n",
        "    model = Sequential()\n",
        "    model.add(Embedding(vocab_size, embedding_dim, weights=[embedding_matrix], input_length=MAX_LENGTH, trainable=False))\n",
        "\n",
        "    # Tuning the number of units in the first biLSTM layer\n",
        "    model.add(Bidirectional(LSTM(units=hp.Int('units1', min_value=32, max_value=512, step=32),\n",
        "                   return_sequences=True,\n",
        "                   dropout=hp.Float('dropout1', min_value=0, max_value=0.8, step=0.1),\n",
        "                   recurrent_dropout=hp.Float('recurrent_dropout1', min_value=0, max_value=0.5, step=0.1),\n",
        "                   kernel_regularizer=l2(hp.Float('l2_reg1', min_value=0.0001, max_value=0.01, sampling='LOG')))))\n",
        "\n",
        "    model.add(Flatten())\n",
        "\n",
        "    # Dense layer with tunable units\n",
        "    model.add(Dense(\n",
        "        units=hp.Int('dense_layer_units_1', min_value=32, max_value=512, step=32),\n",
        "        activation=\"relu\",\n",
        "        kernel_regularizer=l2(hp.Float('dense_l2_reg', min_value=0.0001, max_value=0.005, sampling='LOG'))\n",
        "    ))\n",
        "\n",
        "    # Tunable dropout rate for the second layer\n",
        "    dropout_rate_3 = hp.Float('dropout__layer_3', min_value=0.0, max_value=0.8, step=0.1)\n",
        "    model.add(Dropout(dropout_rate_3))\n",
        "\n",
        "    # Final Layer\n",
        "    model.add(Dense(3, activation='softmax'))\n",
        "\n",
        "    # Tuning the learning rate for the optimizer\n",
        "    model.compile(optimizer=Adam(hp.Float('learning_rate', min_value=1e-5, max_value=1e-2, sampling='LOG')),\n",
        "                  loss='categorical_crossentropy',\n",
        "                  metrics=['categorical_accuracy', f1_score])\n",
        "\n",
        "    return model\n"
      ]
    },
    {
      "cell_type": "markdown",
      "metadata": {
        "id": "ndoyS0GZ4NC9"
      },
      "source": [
        "KERAS TUNER WILL FIND THE BEST HPS then further tune the model with the best hps"
      ]
    },
    {
      "cell_type": "code",
      "execution_count": 60,
      "metadata": {
        "colab": {
          "base_uri": "https://localhost:8080/"
        },
        "id": "Ti9UOTBq4NC-",
        "outputId": "600920b7-829e-4c2a-be2d-c5e6e7ebe03c"
      },
      "outputs": [
        {
          "name": "stdout",
          "output_type": "stream",
          "text": [
            "Trying batch size: 32\n",
            "Reloading Tuner from keras_tuner_dir/lstm_stance_classification/tuner0.json\n"
          ]
        },
        {
          "name": "stderr",
          "output_type": "stream",
          "text": [
            "WARNING:tensorflow:Detecting that an object or model or tf.train.Checkpoint is being deleted with unrestored values. See the following logs for the specific values in question. To silence these warnings, use `status.expect_partial()`. See https://www.tensorflow.org/api_docs/python/tf/train/Checkpoint#restorefor details about the status object returned by the restore function.\n",
            "WARNING:tensorflow:Value in checkpoint could not be found in the restored object: (root).optimizer.iter\n",
            "WARNING:tensorflow:Value in checkpoint could not be found in the restored object: (root).optimizer.beta_1\n",
            "WARNING:tensorflow:Value in checkpoint could not be found in the restored object: (root).optimizer.beta_2\n",
            "WARNING:tensorflow:Value in checkpoint could not be found in the restored object: (root).optimizer.decay\n",
            "WARNING:tensorflow:Value in checkpoint could not be found in the restored object: (root).optimizer.learning_rate\n",
            "WARNING:tensorflow:Detecting that an object or model or tf.train.Checkpoint is being deleted with unrestored values. See the following logs for the specific values in question. To silence these warnings, use `status.expect_partial()`. See https://www.tensorflow.org/api_docs/python/tf/train/Checkpoint#restorefor details about the status object returned by the restore function.\n",
            "WARNING:tensorflow:Value in checkpoint could not be found in the restored object: (root).optimizer.iter\n",
            "WARNING:tensorflow:Value in checkpoint could not be found in the restored object: (root).optimizer.beta_1\n",
            "WARNING:tensorflow:Value in checkpoint could not be found in the restored object: (root).optimizer.beta_2\n",
            "WARNING:tensorflow:Value in checkpoint could not be found in the restored object: (root).optimizer.decay\n",
            "WARNING:tensorflow:Value in checkpoint could not be found in the restored object: (root).optimizer.learning_rate\n",
            "WARNING:tensorflow:Layer lstm will not use cuDNN kernels since it doesn't meet the criteria. It will use a generic GPU kernel as fallback when running on GPU.\n",
            "WARNING:tensorflow:Layer lstm will not use cuDNN kernels since it doesn't meet the criteria. It will use a generic GPU kernel as fallback when running on GPU.\n",
            "WARNING:tensorflow:Layer lstm will not use cuDNN kernels since it doesn't meet the criteria. It will use a generic GPU kernel as fallback when running on GPU.\n",
            "/usr/local/lib/python3.10/dist-packages/keras/src/engine/training.py:3103: UserWarning: You are saving your model as an HDF5 file via `model.save()`. This file format is considered legacy. We recommend using instead the native Keras format, e.g. `model.save('my_model.keras')`.\n",
            "  saving_api.save_model(\n"
          ]
        }
      ],
      "source": [
        "best_model = None\n",
        "best_hps = None\n",
        "\n",
        "# Hyperparameter tuning configuration\n",
        "objective = kt.Objective(\"val_f1_score\", direction=\"max\")\n",
        "tuning_config = {\n",
        "    'objective': objective,\n",
        "    'max_epochs': 30,\n",
        "    'directory': 'keras_tuner_dir',\n",
        "    'project_name': 'lstm_stance_classification'\n",
        "}\n",
        "\n",
        "# Early stopping callback\n",
        "stop_early = tf.keras.callbacks.EarlyStopping(monitor='val_loss', patience=5, restore_best_weights=True)\n",
        "\n",
        "batch_size = 32\n",
        "\n",
        "# for batch_size in batch_sizes:\n",
        "print(f\"Trying batch size: {batch_size}\")\n",
        "\n",
        "# Initialize the tuner\n",
        "tuner = kt.Hyperband(build_model, **tuning_config)\n",
        "\n",
        "# Search for the best hyperparameters\n",
        "tuner.search(train_pad, train_labels,\n",
        "            epochs=50,\n",
        "            validation_data=(val_pad, val_labels),\n",
        "            callbacks=[stop_early],\n",
        "            batch_size=batch_size)\n",
        "\n",
        "best_model = tuner.get_best_models(num_models=1)[0]\n",
        "best_hps = tuner.get_best_hyperparameters(num_trials=1)[0]\n",
        "best_model.save('stance_best_model_model.h5')\n",
        "best_model.save_weights(\"stance_best_model_weights.h5\")"
      ]
    },
    {
      "cell_type": "code",
      "execution_count": 61,
      "metadata": {
        "colab": {
          "base_uri": "https://localhost:8080/"
        },
        "id": "pzCz5GmhdqUw",
        "outputId": "ee8c688a-ab47-4068-ad2f-de790d078bd9"
      },
      "outputs": [
        {
          "name": "stdout",
          "output_type": "stream",
          "text": [
            "40/40 [==============================] - 1s 14ms/step - loss: 1.0688 - categorical_accuracy: 0.4972 - f1_score: 0.3779\n",
            "Test accuracy: [1.0688453912734985, 0.4971977472305298, 0.3779294788837433]\n"
          ]
        }
      ],
      "source": [
        "results = best_model.evaluate(test_pad, test_labels)\n",
        "print('Test accuracy:', results)"
      ]
    },
    {
      "cell_type": "code",
      "execution_count": 62,
      "metadata": {
        "colab": {
          "base_uri": "https://localhost:8080/"
        },
        "id": "gqXCc2x0dpYa",
        "outputId": "09bfa6ac-9670-432e-90de-4d7013579cc0"
      },
      "outputs": [
        {
          "name": "stdout",
          "output_type": "stream",
          "text": [
            "40/40 [==============================] - 1s 11ms/step\n",
            "              precision    recall  f1-score   support\n",
            "\n",
            "           0       0.68      0.56      0.61       715\n",
            "           1       0.33      0.38      0.35       304\n",
            "           2       0.33      0.45      0.38       230\n",
            "\n",
            "    accuracy                           0.50      1249\n",
            "   macro avg       0.45      0.46      0.45      1249\n",
            "weighted avg       0.53      0.50      0.51      1249\n",
            "\n"
          ]
        }
      ],
      "source": [
        "# Get model predictions\n",
        "predictions = best_model.predict(test_pad)\n",
        "\n",
        "# Convert predictions to class labels\n",
        "predicted_labels = np.argmax(predictions, axis=1)\n",
        "\n",
        "# Assuming test_labels are one-hot encoded, convert them to class labels\n",
        "true_labels = np.argmax(test_labels, axis=1)\n",
        "\n",
        "# Generate classification report\n",
        "report = classification_report(true_labels, predicted_labels)\n",
        "print(report)"
      ]
    },
    {
      "cell_type": "code",
      "execution_count": 63,
      "metadata": {
        "id": "u-zaXCv_4NC-"
      },
      "outputs": [],
      "source": [
        "with open('./glove_lstm_best_hyperparameters.txt', 'w') as f:\n",
        "    for hparam in best_hps.values:\n",
        "        f.write(f\"{hparam}: {best_hps.get(hparam)}\\n\")"
      ]
    },
    {
      "cell_type": "markdown",
      "metadata": {
        "id": "4XHtdHvV4NC-"
      },
      "source": [
        "Recreate the best model with more training time"
      ]
    },
    {
      "cell_type": "code",
      "execution_count": 64,
      "metadata": {
        "id": "OZpuRbkI4NC-"
      },
      "outputs": [],
      "source": [
        "def load_hyperparameters(file_path):\n",
        "    hyperparameters = {}\n",
        "    with open(file_path, 'r') as file:\n",
        "        for line in file:\n",
        "            key, value = line.strip().split(': ')\n",
        "            # Convert value to the appropriate type\n",
        "            if value.isdigit():\n",
        "                value = int(value)  # Convert to integer if possible\n",
        "            elif value.replace('.', '', 1).isdigit() and '.' in value:\n",
        "                value = float(value)  # Convert to float if possible\n",
        "            hyperparameters[key] = value\n",
        "    return hyperparameters\n",
        "\n",
        "# Load the hyperparameters\n",
        "file_path = './glove_lstm_best_hyperparameters.txt'  # Replace with your file path\n",
        "best_hps = load_hyperparameters(file_path)"
      ]
    },
    {
      "cell_type": "code",
      "execution_count": 65,
      "metadata": {
        "colab": {
          "base_uri": "https://localhost:8080/"
        },
        "id": "JVftKFEJ4NC-",
        "outputId": "bda17cfa-556e-4ea0-f6ed-41a83fec376c"
      },
      "outputs": [
        {
          "data": {
            "text/plain": [
              "{'units1': 256,\n",
              " 'dropout1': 0.2,\n",
              " 'recurrent_dropout1': 0.30000000000000004,\n",
              " 'l2_reg1': 0.00036558483095598383,\n",
              " 'dense_layer_units_1': 256,\n",
              " 'dense_l2_reg': 0.0001748525746692403,\n",
              " 'dropout__layer_3': 0.0,\n",
              " 'learning_rate': 0.0003035816062006696,\n",
              " 'tuner/epochs': 10,\n",
              " 'tuner/initial_epoch': 4,\n",
              " 'tuner/bracket': 3,\n",
              " 'tuner/round': 2,\n",
              " 'tuner/trial_id': 37}"
            ]
          },
          "execution_count": 65,
          "metadata": {},
          "output_type": "execute_result"
        }
      ],
      "source": [
        "best_hps"
      ]
    },
    {
      "cell_type": "code",
      "execution_count": 66,
      "metadata": {
        "id": "6nLjkqzF4NC-"
      },
      "outputs": [],
      "source": [
        "def build_model_from_dict(hp_dict):\n",
        "    model = Sequential()\n",
        "    model.add(Embedding(vocab_size, embedding_dim, weights=[embedding_matrix], input_length=MAX_LENGTH, trainable=False))\n",
        "\n",
        "    # Use the hyperparameter values from the dictionary\n",
        "    model.add(Bidirectional(LSTM(units=hp_dict['units1'],\n",
        "                   return_sequences=True,\n",
        "                   dropout=hp_dict['dropout1'],\n",
        "                   recurrent_dropout=hp_dict['recurrent_dropout1'],\n",
        "                   kernel_regularizer=l2(hp_dict['l2_reg1']))))\n",
        "\n",
        "    model.add(Flatten())\n",
        "\n",
        "    # Dense layer with tunable units\n",
        "    model.add(Dense(\n",
        "        units=hp_dict['dense_layer_units_1'],\n",
        "        activation=\"relu\",\n",
        "        kernel_regularizer=l2(hp_dict['dense_l2_reg'])\n",
        "    ))\n",
        "\n",
        "    # Tunable dropout rate for the second layer\n",
        "    dropout_rate_3 = hp_dict['dropout__layer_3']\n",
        "    model.add(Dropout(dropout_rate_3))\n",
        "\n",
        "    # Final Layer\n",
        "    model.add(Dense(3, activation='softmax'))\n",
        "\n",
        "    # Tuning the learning rate for the optimizer\n",
        "    model.compile(optimizer=Adam(hp_dict['learning_rate']),\n",
        "                  loss='categorical_crossentropy',\n",
        "                  metrics=['categorical_accuracy', f1_score])\n",
        "\n",
        "    return model"
      ]
    },
    {
      "cell_type": "code",
      "execution_count": 67,
      "metadata": {
        "colab": {
          "base_uri": "https://localhost:8080/",
          "height": 828
        },
        "id": "THrzwI8W4NC-",
        "outputId": "f8496904-b271-4d0b-a3e0-76ad83c6a33a"
      },
      "outputs": [
        {
          "name": "stderr",
          "output_type": "stream",
          "text": [
            "WARNING:tensorflow:Layer lstm_1 will not use cuDNN kernels since it doesn't meet the criteria. It will use a generic GPU kernel as fallback when running on GPU.\n",
            "WARNING:tensorflow:Layer lstm_1 will not use cuDNN kernels since it doesn't meet the criteria. It will use a generic GPU kernel as fallback when running on GPU.\n",
            "WARNING:tensorflow:Layer lstm_1 will not use cuDNN kernels since it doesn't meet the criteria. It will use a generic GPU kernel as fallback when running on GPU.\n"
          ]
        },
        {
          "data": {
            "image/png": "[encoded data removed]",
            "text/plain": [
              "<IPython.core.display.Image object>"
            ]
          },
          "execution_count": 67,
          "metadata": {},
          "output_type": "execute_result"
        }
      ],
      "source": [
        "from tensorflow.keras.utils import plot_model\n",
        "model = build_model_from_dict(best_hps)\n",
        "plot_model(model, show_layer_names=False, show_shapes=True, to_file='tuned_stance_model.png')"
      ]
    },
    {
      "cell_type": "code",
      "execution_count": 68,
      "metadata": {
        "colab": {
          "base_uri": "https://localhost:8080/"
        },
        "id": "r6WVUEAX4NC-",
        "outputId": "e4f04eb0-4bed-4ea9-adbe-2a753ff9abbe"
      },
      "outputs": [
        {
          "name": "stdout",
          "output_type": "stream",
          "text": [
            "Epoch 1/100\n",
            "73/73 [==============================] - ETA: 0s - loss: 1.1987 - categorical_accuracy: 0.5290 - f1_score: 0.3935\n",
            "Epoch 1: saving model to stance_best_model_tuned_weights.h5\n",
            "73/73 [==============================] - 11s 90ms/step - loss: 1.1987 - categorical_accuracy: 0.5290 - f1_score: 0.3935 - val_loss: 1.1296 - val_categorical_accuracy: 0.5403 - val_f1_score: 0.3786\n",
            "Epoch 2/100\n",
            "73/73 [==============================] - ETA: 0s - loss: 1.0598 - categorical_accuracy: 0.5822 - f1_score: 0.5137\n",
            "Epoch 2: saving model to stance_best_model_tuned_weights.h5\n",
            "73/73 [==============================] - 6s 82ms/step - loss: 1.0598 - categorical_accuracy: 0.5822 - f1_score: 0.5137 - val_loss: 1.0737 - val_categorical_accuracy: 0.5609 - val_f1_score: 0.4720\n",
            "Epoch 3/100\n",
            "73/73 [==============================] - ETA: 0s - loss: 0.9714 - categorical_accuracy: 0.6221 - f1_score: 0.5626\n",
            "Epoch 3: saving model to stance_best_model_tuned_weights.h5\n",
            "73/73 [==============================] - 6s 81ms/step - loss: 0.9714 - categorical_accuracy: 0.6221 - f1_score: 0.5626 - val_loss: 1.0496 - val_categorical_accuracy: 0.5746 - val_f1_score: 0.5102\n",
            "Epoch 4/100\n",
            "73/73 [==============================] - ETA: 0s - loss: 0.9054 - categorical_accuracy: 0.6662 - f1_score: 0.6097\n",
            "Epoch 4: saving model to stance_best_model_tuned_weights.h5\n",
            "73/73 [==============================] - 6s 84ms/step - loss: 0.9054 - categorical_accuracy: 0.6662 - f1_score: 0.6097 - val_loss: 1.0142 - val_categorical_accuracy: 0.6158 - val_f1_score: 0.5626\n",
            "Epoch 5/100\n",
            "73/73 [==============================] - ETA: 0s - loss: 0.8225 - categorical_accuracy: 0.6963 - f1_score: 0.6518\n",
            "Epoch 5: saving model to stance_best_model_tuned_weights.h5\n",
            "73/73 [==============================] - 6s 80ms/step - loss: 0.8225 - categorical_accuracy: 0.6963 - f1_score: 0.6518 - val_loss: 1.0298 - val_categorical_accuracy: 0.5883 - val_f1_score: 0.5498\n",
            "Epoch 6/100\n",
            "73/73 [==============================] - ETA: 0s - loss: 0.7585 - categorical_accuracy: 0.7302 - f1_score: 0.6961\n",
            "Epoch 6: saving model to stance_best_model_tuned_weights.h5\n",
            "73/73 [==============================] - 6s 82ms/step - loss: 0.7585 - categorical_accuracy: 0.7302 - f1_score: 0.6961 - val_loss: 1.0454 - val_categorical_accuracy: 0.5883 - val_f1_score: 0.5516\n",
            "Epoch 7/100\n",
            "73/73 [==============================] - ETA: 0s - loss: 0.6817 - categorical_accuracy: 0.7881 - f1_score: 0.7625\n",
            "Epoch 7: saving model to stance_best_model_tuned_weights.h5\n",
            "73/73 [==============================] - 6s 81ms/step - loss: 0.6817 - categorical_accuracy: 0.7881 - f1_score: 0.7625 - val_loss: 1.0954 - val_categorical_accuracy: 0.5952 - val_f1_score: 0.5577\n",
            "Epoch 8/100\n",
            "73/73 [==============================] - ETA: 0s - loss: 0.6240 - categorical_accuracy: 0.8039 - f1_score: 0.7807\n",
            "Epoch 8: saving model to stance_best_model_tuned_weights.h5\n",
            "73/73 [==============================] - 6s 83ms/step - loss: 0.6240 - categorical_accuracy: 0.8039 - f1_score: 0.7807 - val_loss: 1.1348 - val_categorical_accuracy: 0.5901 - val_f1_score: 0.5488\n",
            "Epoch 9/100\n",
            "73/73 [==============================] - ETA: 0s - loss: 0.5617 - categorical_accuracy: 0.8498 - f1_score: 0.8311\n",
            "Epoch 9: saving model to stance_best_model_tuned_weights.h5\n",
            "73/73 [==============================] - 6s 81ms/step - loss: 0.5617 - categorical_accuracy: 0.8498 - f1_score: 0.8311 - val_loss: 1.1559 - val_categorical_accuracy: 0.5729 - val_f1_score: 0.5366\n",
            "Epoch 10/100\n",
            "73/73 [==============================] - ETA: 0s - loss: 0.5144 - categorical_accuracy: 0.8666 - f1_score: 0.8513\n",
            "Epoch 10: saving model to stance_best_model_tuned_weights.h5\n",
            "73/73 [==============================] - 6s 83ms/step - loss: 0.5144 - categorical_accuracy: 0.8666 - f1_score: 0.8513 - val_loss: 1.2160 - val_categorical_accuracy: 0.5678 - val_f1_score: 0.5160\n",
            "Epoch 11/100\n",
            "73/73 [==============================] - ETA: 0s - loss: 0.4662 - categorical_accuracy: 0.8919 - f1_score: 0.8790\n",
            "Epoch 11: saving model to stance_best_model_tuned_weights.h5\n",
            "73/73 [==============================] - 6s 80ms/step - loss: 0.4662 - categorical_accuracy: 0.8919 - f1_score: 0.8790 - val_loss: 1.2864 - val_categorical_accuracy: 0.5660 - val_f1_score: 0.5089\n",
            "Epoch 12/100\n",
            "73/73 [==============================] - ETA: 0s - loss: 0.4163 - categorical_accuracy: 0.9151 - f1_score: 0.9049\n",
            "Epoch 12: saving model to stance_best_model_tuned_weights.h5\n",
            "73/73 [==============================] - 6s 81ms/step - loss: 0.4163 - categorical_accuracy: 0.9151 - f1_score: 0.9049 - val_loss: 1.3150 - val_categorical_accuracy: 0.5506 - val_f1_score: 0.5133\n",
            "Epoch 13/100\n",
            "73/73 [==============================] - ETA: 0s - loss: 0.3798 - categorical_accuracy: 0.9215 - f1_score: 0.9132\n",
            "Epoch 13: saving model to stance_best_model_tuned_weights.h5\n",
            "73/73 [==============================] - 6s 81ms/step - loss: 0.3798 - categorical_accuracy: 0.9215 - f1_score: 0.9132 - val_loss: 1.4295 - val_categorical_accuracy: 0.5660 - val_f1_score: 0.5134\n",
            "Epoch 14/100\n",
            "73/73 [==============================] - ETA: 0s - loss: 0.3578 - categorical_accuracy: 0.9318 - f1_score: 0.9227Restoring model weights from the end of the best epoch: 4.\n",
            "\n",
            "Epoch 14: saving model to stance_best_model_tuned_weights.h5\n",
            "73/73 [==============================] - 6s 81ms/step - loss: 0.3578 - categorical_accuracy: 0.9318 - f1_score: 0.9227 - val_loss: 1.4351 - val_categorical_accuracy: 0.5712 - val_f1_score: 0.5340\n",
            "Epoch 14: early stopping\n"
          ]
        }
      ],
      "source": [
        "history = {}\n",
        "history['tuned_stance_model'] = model.fit(train_pad, train_labels,\n",
        "                    epochs=100,\n",
        "                    validation_data=(val_pad, val_labels),\n",
        "                    batch_size=32,\n",
        "                    callbacks=callbacks1,\n",
        "                    shuffle = True)"
      ]
    },
    {
      "cell_type": "code",
      "execution_count": 69,
      "metadata": {
        "colab": {
          "base_uri": "https://localhost:8080/"
        },
        "id": "vbghHehR4NC-",
        "outputId": "a8a7c814-89cc-4a64-8cc9-3c3d872680aa"
      },
      "outputs": [
        {
          "name": "stdout",
          "output_type": "stream",
          "text": [
            "40/40 [==============================] - 1s 13ms/step - loss: 0.9728 - categorical_accuracy: 0.5981 - f1_score: 0.4167\n",
            "Test accuracy: [0.972820520401001, 0.5980784893035889, 0.4167199730873108]\n"
          ]
        }
      ],
      "source": [
        "results = model.evaluate(test_pad, test_labels)\n",
        "print('Test accuracy:', results)"
      ]
    },
    {
      "cell_type": "code",
      "execution_count": 70,
      "metadata": {
        "colab": {
          "base_uri": "https://localhost:8080/"
        },
        "id": "5qAsG84t4NC_",
        "outputId": "092cef50-1092-4fb2-cc62-f7e91d2c80c7"
      },
      "outputs": [
        {
          "name": "stdout",
          "output_type": "stream",
          "text": [
            "40/40 [==============================] - 1s 12ms/step\n",
            "              precision    recall  f1-score   support\n",
            "\n",
            "           0       0.71      0.72      0.71       715\n",
            "           1       0.48      0.44      0.46       304\n",
            "           2       0.41      0.43      0.42       230\n",
            "\n",
            "    accuracy                           0.60      1249\n",
            "   macro avg       0.53      0.53      0.53      1249\n",
            "weighted avg       0.60      0.60      0.60      1249\n",
            "\n"
          ]
        }
      ],
      "source": [
        "from sklearn.metrics import classification_report\n",
        "import numpy as np\n",
        "# Get model predictions\n",
        "predictions = model.predict(test_pad)\n",
        "\n",
        "# Convert predictions to class labels\n",
        "predicted_labels = np.argmax(predictions, axis=1)\n",
        "\n",
        "# Assuming test_labels are one-hot encoded, convert them to class labels\n",
        "true_labels = np.argmax(test_labels, axis=1)\n",
        "\n",
        "# Generate classification report\n",
        "report = classification_report(true_labels, predicted_labels)\n",
        "print(report)"
      ]
    },
    {
      "cell_type": "code",
      "execution_count": 71,
      "metadata": {
        "colab": {
          "base_uri": "https://localhost:8080/"
        },
        "id": "YWImh36S4NC_",
        "outputId": "8ce33250-f43f-4186-c827-0d59ea6b02eb"
      },
      "outputs": [
        {
          "name": "stdout",
          "output_type": "stream",
          "text": [
            "19/19 [==============================] - 0s 13ms/step - loss: 1.0142 - categorical_accuracy: 0.6158 - f1_score: 0.5626\n",
            "Test accuracy: [1.0141512155532837, 0.6157804727554321, 0.5626338720321655]\n"
          ]
        }
      ],
      "source": [
        "results = model.evaluate(val_pad, val_labels)\n",
        "print('Test accuracy:', results)"
      ]
    }
  ],
  "metadata": {
    "accelerator": "GPU",
    "colab": {
      "gpuType": "T4",
      "machine_shape": "hm",
      "provenance": []
    },
    "kernelspec": {
      "display_name": "Python 3",
      "name": "python3"
    },
    "language_info": {
      "codemirror_mode": {
        "name": "ipython",
        "version": 3
      },
      "file_extension": ".py",
      "mimetype": "text/x-python",
      "name": "python",
      "nbconvert_exporter": "python",
      "pygments_lexer": "ipython3",
      "version": "3.8.17"
    }
  },
  "nbformat": 4,
  "nbformat_minor": 0
}
