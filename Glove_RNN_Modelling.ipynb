{
  "cells": [
    {
      "cell_type": "code",
      "execution_count": 72,
      "metadata": {
        "id": "YMUi67Rs4pzR"
      },
      "outputs": [],
      "source": [
        "# !pip install plotly\n",
        "# !pip install seaborn\n",
        "# !pip install matplotlib\n",
        "# !pip install transformers\n",
        "# !pip install tokenizers\n",
        "# !pip install scikit-learn\n",
        "# !pip install tensorflow\n",
        "# !pip install pandas\n",
        "# !pip install numpy\n",
        "# !pip install keras_tuner\n",
        "\n"
      ]
    },
    {
      "cell_type": "code",
      "execution_count": 73,
      "metadata": {
        "colab": {
          "base_uri": "https://localhost:8080/"
        },
        "id": "QAuRRSep48HP",
        "outputId": "fb21c243-23ea-429c-b9d0-8990beaaaf89"
      },
      "outputs": [
        {
          "name": "stdout",
          "output_type": "stream",
          "text": [
            "Drive already mounted at /content/drive; to attempt to forcibly remount, call drive.mount(\"/content/drive\", force_remount=True).\n"
          ]
        }
      ],
      "source": [
        "from google.colab import drive\n",
        "drive.mount('/content/drive')"
      ]
    },
    {
      "cell_type": "markdown",
      "metadata": {
        "id": "PrF9hCpi4NC5"
      },
      "source": [
        "#\n",
        "<a id=\"data-prep\"></a>\n",
        "<div style=\"background-color: #000D5B; color: white; text-align: center; padding: 6px 0 22px 0\">\n",
        "    <h3 style=\"background-color: #000D5B; color: white; text-align: left\">RMIT School of Computer Science and Technology</h3>\n",
        "    <br/>\n",
        "    <h1>COSC3007: Deep Learning</h1>\n",
        "    <h2>Assignment 2: Stance Twitter Sentiment Analysis and Detection </h2>\n",
        "    <h2> [2] MODELLING AND MODEL EVALUATIONS </h2>\n",
        "\n",
        "</div>"
      ]
    },
    {
      "cell_type": "markdown",
      "metadata": {
        "id": "sfEO48Ha4NC6"
      },
      "source": [
        "# Import Libs"
      ]
    },
    {
      "cell_type": "code",
      "execution_count": 74,
      "metadata": {
        "id": "a36se5m_4NC7"
      },
      "outputs": [],
      "source": [
        "import pandas as pd\n",
        "import tensorflow as tf\n",
        "import matplotlib.pyplot as plt\n",
        "import seaborn as sns\n",
        "import numpy as np\n",
        "\n",
        "from tensorflow.keras.preprocessing.text import Tokenizer\n",
        "from tensorflow.keras.preprocessing.sequence import pad_sequences\n",
        "from sklearn.model_selection import train_test_split\n",
        "from sklearn.preprocessing import LabelEncoder\n",
        "from tensorflow.keras.utils import to_categorical\n",
        "from sklearn.preprocessing import LabelEncoder\n",
        "\n",
        "import numpy as np"
      ]
    },
    {
      "cell_type": "markdown",
      "metadata": {
        "id": "DXoaFXZZ4NC7"
      },
      "source": [
        "# [1] Load Data"
      ]
    },
    {
      "cell_type": "code",
      "execution_count": 75,
      "metadata": {
        "id": "gfOQjVqV4NC7"
      },
      "outputs": [],
      "source": [
        "train_df = pd.read_csv(\"./StanceDataset/processed_train.csv\", encoding = \"ISO-8859-1\", engine=\"python\").drop(columns=['Unnamed: 0'])\n",
        "train_df = train_df.sample(frac=1, random_state=42).reset_index(drop=True)\n",
        "train_ori = train_df.copy()\n",
        "\n",
        "test_df = pd.read_csv(\"./StanceDataset/processed_test.csv\", encoding = \"ISO-8859-1\", engine=\"python\").drop(columns=['Unnamed: 0'])\n",
        "# Remove rows where the 'target' column is 5\n",
        "test_df = test_df[test_df['Target'] != 5]"
      ]
    },
    {
      "cell_type": "markdown",
      "metadata": {
        "id": "zSOnBX9a4NC7"
      },
      "source": [
        "# [2] Prepare label and fit data"
      ]
    },
    {
      "cell_type": "markdown",
      "metadata": {
        "id": "4Sa7uHjM4NC7"
      },
      "source": [
        "## Split test and val"
      ]
    },
    {
      "cell_type": "code",
      "execution_count": 76,
      "metadata": {
        "id": "ZlxRta-S4NC7"
      },
      "outputs": [],
      "source": [
        "train_df, val_df = train_test_split(train_df, test_size=0.2, random_state=42, shuffle=True)"
      ]
    },
    {
      "cell_type": "markdown",
      "metadata": {
        "id": "EJpC2STO4NC8"
      },
      "source": [
        "## Tweets"
      ]
    },
    {
      "cell_type": "code",
      "execution_count": 77,
      "metadata": {
        "id": "Eik3qaTC4NC8"
      },
      "outputs": [],
      "source": [
        "# Load GloVe embeddings\n",
        "embedding_dim = 100  # This should match the GloVe\n",
        "glove_dir = 'path_to_glove'\n",
        "from tqdm import tqdm\n",
        "\n",
        "embeddings_index = {}\n",
        "with open(\"./glove.twitter.27B.100d.txt\", encoding='utf8') as f:\n",
        "    for line in f:\n",
        "        values = line.split()\n",
        "        word = values[0]\n",
        "        coefs = np.asarray(values[1:], dtype='float32')\n",
        "        embeddings_index[word] = coefs\n"
      ]
    },
    {
      "cell_type": "code",
      "execution_count": 78,
      "metadata": {
        "colab": {
          "base_uri": "https://localhost:8080/"
        },
        "id": "L1yCqtY-4NC8",
        "outputId": "96f22bec-e1ef-4404-9d28-fc450f666c1d"
      },
      "outputs": [
        {
          "name": "stdout",
          "output_type": "stream",
          "text": [
            "Unique tokens: 6256\n",
            "Vocab size: 6257\n"
          ]
        }
      ],
      "source": [
        "\n",
        "# Initialize and fit the tokenizer on the training data\n",
        "tokenizer = Tokenizer()\n",
        "tokenizer.fit_on_texts(train_ori['processed_tweet'])\n",
        "\n",
        "# Convert texts to sequences for all datasets\n",
        "train_sequences = tokenizer.texts_to_sequences(train_df['processed_tweet'])\n",
        "test_sequences = tokenizer.texts_to_sequences(test_df['processed_tweet'])\n",
        "val_sequences = tokenizer.texts_to_sequences(val_df['processed_tweet'])\n",
        "\n",
        "MAX_LENGTH = max(\n",
        "    max(len(seq) for seq in train_sequences),\n",
        "    max(len(seq) for seq in val_sequences),\n",
        "    max(len(seq) for seq in test_sequences)\n",
        ")\n",
        "\n",
        "# Pad the sequences\n",
        "train_pad = pad_sequences(train_sequences, maxlen=MAX_LENGTH, padding='post')\n",
        "test_pad = pad_sequences(test_sequences, maxlen=MAX_LENGTH, padding='post')\n",
        "val_pad = pad_sequences(val_sequences, maxlen=MAX_LENGTH, padding='post')\n",
        "\n",
        "# Extract the word index and vocab size\n",
        "word_index = tokenizer.word_index\n",
        "print(\"Unique tokens: \" + str(len(word_index)))\n",
        "vocab_size = len(word_index) + 1\n",
        "print('Vocab size: ' + str(vocab_size))\n",
        "\n",
        "# Create an embedding matrix\n",
        "embedding_matrix = np.zeros((vocab_size, embedding_dim))\n",
        "for word, i in word_index.items():\n",
        "    embedding_vector = embeddings_index.get(word)\n",
        "    if embedding_vector is not None:\n",
        "        embedding_matrix[i] = embedding_vector"
      ]
    },
    {
      "cell_type": "code",
      "execution_count": 79,
      "metadata": {
        "colab": {
          "base_uri": "https://localhost:8080/"
        },
        "id": "_KxZpSwO4NC8",
        "outputId": "97226fb9-12f0-4e53-a36e-97a6c09389d6"
      },
      "outputs": [
        {
          "name": "stdout",
          "output_type": "stream",
          "text": [
            "2331\n",
            "583\n",
            "1249\n"
          ]
        }
      ],
      "source": [
        "print(len(train_pad))\n",
        "print(len(val_df))\n",
        "print(len(test_pad))"
      ]
    },
    {
      "cell_type": "markdown",
      "metadata": {
        "id": "K-HMFPxP4NC8"
      },
      "source": [
        "## Stances"
      ]
    },
    {
      "cell_type": "code",
      "execution_count": 80,
      "metadata": {
        "id": "1I0JnVMF4NC8"
      },
      "outputs": [],
      "source": [
        "def categorized_label(df, label_name):\n",
        "    label_encoder = LabelEncoder()\n",
        "    encoded_labels = label_encoder.fit_transform(df[label_name])\n",
        "    categorical_labels = to_categorical(encoded_labels)\n",
        "    return categorical_labels"
      ]
    },
    {
      "cell_type": "code",
      "execution_count": 81,
      "metadata": {
        "id": "DZ3NOFOF4NC9"
      },
      "outputs": [],
      "source": [
        "train_labels = categorized_label(train_df, \"Stance\")\n",
        "test_labels = categorized_label(test_df, \"Stance\")\n",
        "val_labels = categorized_label(val_df, \"Stance\")"
      ]
    },
    {
      "cell_type": "markdown",
      "metadata": {
        "id": "rErj4sRD4NC9"
      },
      "source": [
        "# [3] Create Model"
      ]
    },
    {
      "cell_type": "code",
      "execution_count": 82,
      "metadata": {
        "id": "JZQYSung4NC9"
      },
      "outputs": [],
      "source": [
        "from keras import backend as K\n",
        "from tensorflow.keras.optimizers.legacy import Adam\n",
        "from hyperopt import hp\n",
        "from hyperopt import hp, fmin, tpe, STATUS_OK, Trials\n",
        "import keras_tuner as kt\n",
        "\n",
        "def f1_score_class(y_true, y_pred):\n",
        "    true_positives = K.sum(K.round(K.clip(y_true * y_pred, 0, 1)))\n",
        "    possible_positives = K.sum(K.round(K.clip(y_true, 0, 1)))\n",
        "    predicted_positives = K.sum(K.round(K.clip(y_pred, 0, 1)))\n",
        "\n",
        "    precision = true_positives / (predicted_positives + K.epsilon())\n",
        "    recall = true_positives / (possible_positives + K.epsilon())\n",
        "    return 2 * ((precision * recall) / (precision + recall + K.epsilon()))\n",
        "\n",
        "def f1_score(y_true, y_pred):\n",
        "    # Convert predictions to one-hot format\n",
        "    y_pred_one_hot = K.one_hot(K.argmax(y_pred), num_classes=3)\n",
        "\n",
        "    # Calculate F1 score for each class\n",
        "    f1s = [f1_score_class(y_true[:, i], y_pred_one_hot[:, i]) for i in range(3)]\n",
        "\n",
        "    # Average F1 scores across all classes\n",
        "    return K.mean(K.stack(f1s), axis=0)"
      ]
    },
    {
      "cell_type": "markdown",
      "metadata": {
        "id": "RzS8a9l64NC9"
      },
      "source": [
        "Set up call backs and learning rates"
      ]
    },
    {
      "cell_type": "code",
      "execution_count": 84,
      "metadata": {
        "id": "o3WL0NZp4NC9"
      },
      "outputs": [],
      "source": [
        "from tensorflow.keras.callbacks import EarlyStopping, ReduceLROnPlateau, ModelCheckpoint\n",
        "\n",
        "\n",
        "# Define the EarlyStopping and ReduceLROnPlateau callbacks\n",
        "early_stopping = EarlyStopping(\n",
        "    monitor='val_loss',\n",
        "    patience=10,\n",
        "    verbose=1,\n",
        "    restore_best_weights=True,\n",
        ")\n",
        "\n",
        "lr_scheduler = ReduceLROnPlateau(\n",
        "    monitor='val_loss',\n",
        "    factor=0.2,\n",
        "    patience=5,\n",
        "    min_lr=1e-5,\n",
        "    verbose=1,\n",
        ")\n",
        "\n",
        "# Define the ModelCheckpoint callback\n",
        "checkpoint_path = \"stance_best_model_tuned_weights.h5\"\n",
        "model_checkpoint_callback = ModelCheckpoint(\n",
        "    filepath=checkpoint_path,\n",
        "    save_weights_only=True,    # Only save a model if 'val_loss' has improved\n",
        "    monitor='val_loss',     # Monitor 'val_loss' during training\n",
        "    mode='min',             # The model is saved when 'val_loss' is minimized\n",
        "    verbose=1)\n",
        "\n",
        "# Combine all callbacks in a list\n",
        "callbacks = [\n",
        "    early_stopping,\n",
        "    lr_scheduler,\n",
        "    model_checkpoint_callback\n",
        "]\n",
        "\n",
        "\n",
        "# Combine all callbacks in a list\n",
        "callbacks1 = [\n",
        "    early_stopping,\n",
        "    # lr_scheduler,\n",
        "    model_checkpoint_callback\n",
        "]"
      ]
    },
    {
      "cell_type": "markdown",
      "metadata": {
        "id": "Hzg0wAFK4NC9"
      },
      "source": [
        "Set up keras tuner"
      ]
    },
    {
      "cell_type": "code",
      "execution_count": 85,
      "metadata": {
        "id": "1led1Np04NC9"
      },
      "outputs": [],
      "source": [
        "from tensorflow.keras.models import Sequential\n",
        "from tensorflow.keras.layers import Embedding, LSTM, Dense, Dropout, BatchNormalization, Bidirectional, Flatten\n",
        "from tensorflow.keras.regularizers import l2\n",
        "from tensorflow.keras.optimizers.legacy import Adam\n",
        "from sklearn.metrics import classification_report\n",
        "import numpy as np\n",
        "import keras_tuner as kt\n",
        "\n",
        "def build_model(hp):\n",
        "    model = Sequential()\n",
        "    model.add(Embedding(vocab_size, embedding_dim, weights=[embedding_matrix], input_length=MAX_LENGTH, trainable=False))\n",
        "\n",
        "    # Tuning the number of units in the first biLSTM layer\n",
        "    model.add(Bidirectional(LSTM(units=hp.Int('units1', min_value=32, max_value=512, step=32),\n",
        "                   return_sequences=True,\n",
        "                   dropout=hp.Float('dropout1', min_value=0, max_value=0.8, step=0.1),\n",
        "                   recurrent_dropout=hp.Float('recurrent_dropout1', min_value=0, max_value=0.5, step=0.1),\n",
        "                   kernel_regularizer=l2(hp.Float('l2_reg1', min_value=0.0001, max_value=0.01, sampling='LOG')))))\n",
        "\n",
        "    model.add(Flatten())\n",
        "\n",
        "    # Dense layer with tunable units\n",
        "    model.add(Dense(\n",
        "        units=hp.Int('dense_layer_units_1', min_value=32, max_value=512, step=32),\n",
        "        activation=\"relu\",\n",
        "        kernel_regularizer=l2(hp.Float('dense_l2_reg', min_value=0.0001, max_value=0.005, sampling='LOG'))\n",
        "    ))\n",
        "\n",
        "    # Tunable dropout rate for the second layer\n",
        "    dropout_rate_3 = hp.Float('dropout__layer_3', min_value=0.0, max_value=0.8, step=0.1)\n",
        "    model.add(Dropout(dropout_rate_3))\n",
        "\n",
        "    # Final Layer\n",
        "    model.add(Dense(3, activation='softmax'))\n",
        "\n",
        "    # Tuning the learning rate for the optimizer\n",
        "    model.compile(optimizer=Adam(hp.Float('learning_rate', min_value=1e-5, max_value=1e-2, sampling='LOG')),\n",
        "                  loss='categorical_crossentropy',\n",
        "                  metrics=['categorical_accuracy', f1_score])\n",
        "\n",
        "    return model\n"
      ]
    },
    {
      "cell_type": "markdown",
      "metadata": {
        "id": "ndoyS0GZ4NC9"
      },
      "source": [
        "KERAS TUNER WILL FIND THE BEST HPS then further tune the model with the best hps"
      ]
    },
    {
      "cell_type": "code",
      "execution_count": 86,
      "metadata": {
        "colab": {
          "base_uri": "https://localhost:8080/"
        },
        "id": "Ti9UOTBq4NC-",
        "outputId": "ca2bcf96-5df6-41ee-a61f-13e0fb6bd827"
      },
      "outputs": [
        {
          "name": "stdout",
          "output_type": "stream",
          "text": [
            "Trial 90 Complete [00h 01m 19s]\n",
            "val_f1_score: 0.5576887130737305\n",
            "\n",
            "Best val_f1_score So Far: 0.5820213556289673\n",
            "Total elapsed time: 00h 52m 41s\n"
          ]
        },
        {
          "name": "stderr",
          "output_type": "stream",
          "text": [
            "WARNING:tensorflow:Layer lstm will not use cuDNN kernels since it doesn't meet the criteria. It will use a generic GPU kernel as fallback when running on GPU.\n",
            "WARNING:tensorflow:Layer lstm will not use cuDNN kernels since it doesn't meet the criteria. It will use a generic GPU kernel as fallback when running on GPU.\n",
            "WARNING:tensorflow:Layer lstm will not use cuDNN kernels since it doesn't meet the criteria. It will use a generic GPU kernel as fallback when running on GPU.\n",
            "/usr/local/lib/python3.10/dist-packages/keras/src/engine/training.py:3103: UserWarning: You are saving your model as an HDF5 file via `model.save()`. This file format is considered legacy. We recommend using instead the native Keras format, e.g. `model.save('my_model.keras')`.\n",
            "  saving_api.save_model(\n"
          ]
        }
      ],
      "source": [
        "best_model = None\n",
        "best_hps = None\n",
        "\n",
        "# Hyperparameter tuning configuration\n",
        "objective = kt.Objective(\"val_f1_score\", direction=\"max\")\n",
        "tuning_config = {\n",
        "    'objective': objective,\n",
        "    'max_epochs': 30,\n",
        "    'directory': 'keras_tuner_dir',\n",
        "    'project_name': 'lstm_stance_classification_2nd'\n",
        "}\n",
        "\n",
        "# Early stopping callback\n",
        "stop_early = tf.keras.callbacks.EarlyStopping(monitor='val_loss', patience=5, restore_best_weights=True)\n",
        "\n",
        "batch_size = 32\n",
        "\n",
        "# for batch_size in batch_sizes:\n",
        "print(f\"Trying batch size: {batch_size}\")\n",
        "\n",
        "# Initialize the tuner\n",
        "tuner = kt.Hyperband(build_model, **tuning_config)\n",
        "\n",
        "# Search for the best hyperparameters\n",
        "tuner.search(train_pad, train_labels,\n",
        "            epochs=50,\n",
        "            validation_data=(val_pad, val_labels),\n",
        "            callbacks=[stop_early],\n",
        "            batch_size=batch_size)\n",
        "\n",
        "best_model = tuner.get_best_models(num_models=1)[0]\n",
        "best_hps = tuner.get_best_hyperparameters(num_trials=1)[0]\n",
        "best_model.save('stance_best_model_model.h5')\n",
        "best_model.save_weights(\"stance_best_model_weights.h5\")"
      ]
    },
    {
      "cell_type": "code",
      "execution_count": 87,
      "metadata": {
        "colab": {
          "base_uri": "https://localhost:8080/"
        },
        "id": "pzCz5GmhdqUw",
        "outputId": "dd49f6cc-7123-4e05-a17d-a30ec8c102be"
      },
      "outputs": [
        {
          "name": "stdout",
          "output_type": "stream",
          "text": [
            "40/40 [==============================] - 1s 13ms/step - loss: 1.0238 - categorical_accuracy: 0.6325 - f1_score: 0.4458\n",
            "Test accuracy: [1.0238492488861084, 0.6325060129165649, 0.44581443071365356]\n"
          ]
        }
      ],
      "source": [
        "results = best_model.evaluate(test_pad, test_labels)\n",
        "print('Test accuracy:', results)"
      ]
    },
    {
      "cell_type": "code",
      "execution_count": 88,
      "metadata": {
        "colab": {
          "base_uri": "https://localhost:8080/"
        },
        "id": "gqXCc2x0dpYa",
        "outputId": "4a8cf4cf-6601-4f26-9164-5ffc108d143b"
      },
      "outputs": [
        {
          "name": "stdout",
          "output_type": "stream",
          "text": [
            "40/40 [==============================] - 1s 11ms/step\n",
            "              precision    recall  f1-score   support\n",
            "\n",
            "           0       0.73      0.75      0.74       715\n",
            "           1       0.55      0.47      0.51       304\n",
            "           2       0.44      0.48      0.46       230\n",
            "\n",
            "    accuracy                           0.63      1249\n",
            "   macro avg       0.57      0.57      0.57      1249\n",
            "weighted avg       0.63      0.63      0.63      1249\n",
            "\n"
          ]
        }
      ],
      "source": [
        "# Get model predictions\n",
        "predictions = best_model.predict(test_pad)\n",
        "\n",
        "# Convert predictions to class labels\n",
        "predicted_labels = np.argmax(predictions, axis=1)\n",
        "\n",
        "# Assuming test_labels are one-hot encoded, convert them to class labels\n",
        "true_labels = np.argmax(test_labels, axis=1)\n",
        "\n",
        "# Generate classification report\n",
        "report = classification_report(true_labels, predicted_labels)\n",
        "print(report)"
      ]
    },
    {
      "cell_type": "code",
      "execution_count": 89,
      "metadata": {
        "id": "u-zaXCv_4NC-"
      },
      "outputs": [],
      "source": [
        "with open('./glove_lstm_best_hyperparameters.txt', 'w') as f:\n",
        "    for hparam in best_hps.values:\n",
        "        f.write(f\"{hparam}: {best_hps.get(hparam)}\\n\")"
      ]
    },
    {
      "cell_type": "markdown",
      "metadata": {
        "id": "4XHtdHvV4NC-"
      },
      "source": [
        "Recreate the best model with more training time"
      ]
    },
    {
      "cell_type": "code",
      "execution_count": 90,
      "metadata": {
        "id": "OZpuRbkI4NC-"
      },
      "outputs": [],
      "source": [
        "def load_hyperparameters(file_path):\n",
        "    hyperparameters = {}\n",
        "    with open(file_path, 'r') as file:\n",
        "        for line in file:\n",
        "            key, value = line.strip().split(': ')\n",
        "            # Convert value to the appropriate type\n",
        "            if value.isdigit():\n",
        "                value = int(value)  # Convert to integer if possible\n",
        "            elif value.replace('.', '', 1).isdigit() and '.' in value:\n",
        "                value = float(value)  # Convert to float if possible\n",
        "            hyperparameters[key] = value\n",
        "    return hyperparameters\n",
        "\n",
        "# Load the hyperparameters\n",
        "file_path = './glove_lstm_best_hyperparameters.txt'  # Replace with your file path\n",
        "best_hps = load_hyperparameters(file_path)"
      ]
    },
    {
      "cell_type": "code",
      "execution_count": 91,
      "metadata": {
        "colab": {
          "base_uri": "https://localhost:8080/"
        },
        "id": "JVftKFEJ4NC-",
        "outputId": "a6c4e057-3729-4806-c0f5-88e60c3fee2a"
      },
      "outputs": [
        {
          "data": {
            "text/plain": [
              "{'units1': 32,\n",
              " 'dropout1': 0.30000000000000004,\n",
              " 'recurrent_dropout1': 0.30000000000000004,\n",
              " 'l2_reg1': 0.0004055150366826125,\n",
              " 'dense_layer_units_1': 224,\n",
              " 'dense_l2_reg': 0.0016589526278703375,\n",
              " 'dropout__layer_3': 0.8,\n",
              " 'learning_rate': 0.0016844246459205988,\n",
              " 'tuner/epochs': 10,\n",
              " 'tuner/initial_epoch': 4,\n",
              " 'tuner/bracket': 2,\n",
              " 'tuner/round': 1,\n",
              " 'tuner/trial_id': 65}"
            ]
          },
          "execution_count": 91,
          "metadata": {},
          "output_type": "execute_result"
        }
      ],
      "source": [
        "best_hps"
      ]
    },
    {
      "cell_type": "code",
      "execution_count": 92,
      "metadata": {
        "id": "6nLjkqzF4NC-"
      },
      "outputs": [],
      "source": [
        "def build_model_from_dict(hp_dict):\n",
        "    model = Sequential()\n",
        "    model.add(Embedding(vocab_size, embedding_dim, weights=[embedding_matrix], input_length=MAX_LENGTH, trainable=False))\n",
        "\n",
        "    # Use the hyperparameter values from the dictionary\n",
        "    model.add(Bidirectional(LSTM(units=hp_dict['units1'],\n",
        "                   return_sequences=True,\n",
        "                   dropout=hp_dict['dropout1'],\n",
        "                   recurrent_dropout=hp_dict['recurrent_dropout1'],\n",
        "                   kernel_regularizer=l2(hp_dict['l2_reg1']))))\n",
        "\n",
        "    model.add(Flatten())\n",
        "\n",
        "    # Dense layer with tunable units\n",
        "    model.add(Dense(\n",
        "        units=hp_dict['dense_layer_units_1'],\n",
        "        activation=\"relu\",\n",
        "        kernel_regularizer=l2(hp_dict['dense_l2_reg'])\n",
        "    ))\n",
        "\n",
        "    # Tunable dropout rate for the second layer\n",
        "    dropout_rate_3 = hp_dict['dropout__layer_3']\n",
        "    model.add(Dropout(dropout_rate_3))\n",
        "\n",
        "    # Final Layer\n",
        "    model.add(Dense(3, activation='softmax'))\n",
        "\n",
        "    # Tuning the learning rate for the optimizer\n",
        "    model.compile(optimizer=Adam(hp_dict['learning_rate']),\n",
        "                  loss='categorical_crossentropy',\n",
        "                  metrics=['categorical_accuracy', f1_score])\n",
        "\n",
        "    return model"
      ]
    },
    {
      "cell_type": "code",
      "execution_count": 93,
      "metadata": {
        "colab": {
          "base_uri": "https://localhost:8080/",
          "height": 828
        },
        "id": "THrzwI8W4NC-",
        "outputId": "c5e88db5-aafc-4bd1-bfa3-dcef6055e0c4"
      },
      "outputs": [
        {
          "name": "stderr",
          "output_type": "stream",
          "text": [
            "WARNING:tensorflow:Layer lstm_1 will not use cuDNN kernels since it doesn't meet the criteria. It will use a generic GPU kernel as fallback when running on GPU.\n",
            "WARNING:tensorflow:Layer lstm_1 will not use cuDNN kernels since it doesn't meet the criteria. It will use a generic GPU kernel as fallback when running on GPU.\n",
            "WARNING:tensorflow:Layer lstm_1 will not use cuDNN kernels since it doesn't meet the criteria. It will use a generic GPU kernel as fallback when running on GPU.\n"
          ]
        },
        {
          "data": {
            "image/png": "[encoded data removed]",
            "text/plain": [
              "<IPython.core.display.Image object>"
            ]
          },
          "execution_count": 93,
          "metadata": {},
          "output_type": "execute_result"
        }
      ],
      "source": [
        "from tensorflow.keras.utils import plot_model\n",
        "model = build_model_from_dict(best_hps)\n",
        "plot_model(model, show_layer_names=False, show_shapes=True, to_file='tuned_stance_model.png')"
      ]
    },
    {
      "cell_type": "code",
      "execution_count": 94,
      "metadata": {
        "colab": {
          "base_uri": "https://localhost:8080/"
        },
        "id": "r6WVUEAX4NC-",
        "outputId": "2c6e07f9-5353-4026-c355-faae4ff7413f"
      },
      "outputs": [
        {
          "name": "stdout",
          "output_type": "stream",
          "text": [
            "Epoch 1/100\n",
            "73/73 [==============================] - ETA: 0s - loss: 1.5608 - categorical_accuracy: 0.4577 - f1_score: 0.3431\n",
            "Epoch 1: saving model to stance_best_model_tuned_weights.h5\n",
            "73/73 [==============================] - 12s 92ms/step - loss: 1.5608 - categorical_accuracy: 0.4577 - f1_score: 0.3431 - val_loss: 1.3543 - val_categorical_accuracy: 0.5180 - val_f1_score: 0.3701\n",
            "Epoch 2/100\n",
            "73/73 [==============================] - ETA: 0s - loss: 1.2971 - categorical_accuracy: 0.5560 - f1_score: 0.4694\n",
            "Epoch 2: saving model to stance_best_model_tuned_weights.h5\n",
            "73/73 [==============================] - 6s 80ms/step - loss: 1.2971 - categorical_accuracy: 0.5560 - f1_score: 0.4694 - val_loss: 1.2201 - val_categorical_accuracy: 0.5557 - val_f1_score: 0.4486\n",
            "Epoch 3/100\n",
            "73/73 [==============================] - ETA: 0s - loss: 1.1889 - categorical_accuracy: 0.5719 - f1_score: 0.4905\n",
            "Epoch 3: saving model to stance_best_model_tuned_weights.h5\n",
            "73/73 [==============================] - 6s 82ms/step - loss: 1.1889 - categorical_accuracy: 0.5719 - f1_score: 0.4905 - val_loss: 1.1537 - val_categorical_accuracy: 0.5489 - val_f1_score: 0.5057\n",
            "Epoch 4/100\n",
            "73/73 [==============================] - ETA: 0s - loss: 1.1005 - categorical_accuracy: 0.5989 - f1_score: 0.5303\n",
            "Epoch 4: saving model to stance_best_model_tuned_weights.h5\n",
            "73/73 [==============================] - 6s 80ms/step - loss: 1.1005 - categorical_accuracy: 0.5989 - f1_score: 0.5303 - val_loss: 1.1257 - val_categorical_accuracy: 0.5935 - val_f1_score: 0.5432\n",
            "Epoch 5/100\n",
            "73/73 [==============================] - ETA: 0s - loss: 1.0531 - categorical_accuracy: 0.6311 - f1_score: 0.5747\n",
            "Epoch 5: saving model to stance_best_model_tuned_weights.h5\n",
            "73/73 [==============================] - 6s 83ms/step - loss: 1.0531 - categorical_accuracy: 0.6311 - f1_score: 0.5747 - val_loss: 1.0934 - val_categorical_accuracy: 0.6038 - val_f1_score: 0.5563\n",
            "Epoch 6/100\n",
            "73/73 [==============================] - ETA: 0s - loss: 1.0085 - categorical_accuracy: 0.6439 - f1_score: 0.5950\n",
            "Epoch 6: saving model to stance_best_model_tuned_weights.h5\n",
            "73/73 [==============================] - 6s 81ms/step - loss: 1.0085 - categorical_accuracy: 0.6439 - f1_score: 0.5950 - val_loss: 1.0733 - val_categorical_accuracy: 0.6226 - val_f1_score: 0.5828\n",
            "Epoch 7/100\n",
            "73/73 [==============================] - ETA: 0s - loss: 0.9854 - categorical_accuracy: 0.6461 - f1_score: 0.5967\n",
            "Epoch 7: saving model to stance_best_model_tuned_weights.h5\n",
            "73/73 [==============================] - 6s 82ms/step - loss: 0.9854 - categorical_accuracy: 0.6461 - f1_score: 0.5967 - val_loss: 1.0958 - val_categorical_accuracy: 0.6106 - val_f1_score: 0.5438\n",
            "Epoch 8/100\n",
            "73/73 [==============================] - ETA: 0s - loss: 0.9490 - categorical_accuracy: 0.6611 - f1_score: 0.6207\n",
            "Epoch 8: saving model to stance_best_model_tuned_weights.h5\n",
            "73/73 [==============================] - 6s 81ms/step - loss: 0.9490 - categorical_accuracy: 0.6611 - f1_score: 0.6207 - val_loss: 1.0714 - val_categorical_accuracy: 0.6021 - val_f1_score: 0.5549\n",
            "Epoch 9/100\n",
            "73/73 [==============================] - ETA: 0s - loss: 0.9418 - categorical_accuracy: 0.6752 - f1_score: 0.6314\n",
            "Epoch 9: saving model to stance_best_model_tuned_weights.h5\n",
            "73/73 [==============================] - 6s 82ms/step - loss: 0.9418 - categorical_accuracy: 0.6752 - f1_score: 0.6314 - val_loss: 1.0752 - val_categorical_accuracy: 0.6106 - val_f1_score: 0.5649\n",
            "Epoch 10/100\n",
            "73/73 [==============================] - ETA: 0s - loss: 0.9172 - categorical_accuracy: 0.6950 - f1_score: 0.6549\n",
            "Epoch 10: saving model to stance_best_model_tuned_weights.h5\n",
            "73/73 [==============================] - 6s 85ms/step - loss: 0.9172 - categorical_accuracy: 0.6950 - f1_score: 0.6549 - val_loss: 1.1008 - val_categorical_accuracy: 0.5952 - val_f1_score: 0.5431\n",
            "Epoch 11/100\n",
            "73/73 [==============================] - ETA: 0s - loss: 0.9120 - categorical_accuracy: 0.7023 - f1_score: 0.6696\n",
            "Epoch 11: saving model to stance_best_model_tuned_weights.h5\n",
            "73/73 [==============================] - 6s 81ms/step - loss: 0.9120 - categorical_accuracy: 0.7023 - f1_score: 0.6696 - val_loss: 1.1969 - val_categorical_accuracy: 0.5780 - val_f1_score: 0.5170\n",
            "Epoch 12/100\n",
            "73/73 [==============================] - ETA: 0s - loss: 0.8872 - categorical_accuracy: 0.7242 - f1_score: 0.6895\n",
            "Epoch 12: saving model to stance_best_model_tuned_weights.h5\n",
            "73/73 [==============================] - 6s 85ms/step - loss: 0.8872 - categorical_accuracy: 0.7242 - f1_score: 0.6895 - val_loss: 1.1340 - val_categorical_accuracy: 0.6055 - val_f1_score: 0.5668\n",
            "Epoch 13/100\n",
            "73/73 [==============================] - ETA: 0s - loss: 0.8739 - categorical_accuracy: 0.7353 - f1_score: 0.7071\n",
            "Epoch 13: saving model to stance_best_model_tuned_weights.h5\n",
            "73/73 [==============================] - 6s 81ms/step - loss: 0.8739 - categorical_accuracy: 0.7353 - f1_score: 0.7071 - val_loss: 1.1173 - val_categorical_accuracy: 0.6329 - val_f1_score: 0.5793\n",
            "Epoch 14/100\n",
            "73/73 [==============================] - ETA: 0s - loss: 0.8565 - categorical_accuracy: 0.7417 - f1_score: 0.7063\n",
            "Epoch 14: saving model to stance_best_model_tuned_weights.h5\n",
            "73/73 [==============================] - 6s 84ms/step - loss: 0.8565 - categorical_accuracy: 0.7417 - f1_score: 0.7063 - val_loss: 1.1980 - val_categorical_accuracy: 0.5986 - val_f1_score: 0.5672\n",
            "Epoch 15/100\n",
            "73/73 [==============================] - ETA: 0s - loss: 0.8292 - categorical_accuracy: 0.7593 - f1_score: 0.7317\n",
            "Epoch 15: saving model to stance_best_model_tuned_weights.h5\n",
            "73/73 [==============================] - 6s 81ms/step - loss: 0.8292 - categorical_accuracy: 0.7593 - f1_score: 0.7317 - val_loss: 1.1912 - val_categorical_accuracy: 0.6278 - val_f1_score: 0.5885\n",
            "Epoch 16/100\n",
            "73/73 [==============================] - ETA: 0s - loss: 0.8388 - categorical_accuracy: 0.7649 - f1_score: 0.7358\n",
            "Epoch 16: saving model to stance_best_model_tuned_weights.h5\n",
            "73/73 [==============================] - 6s 82ms/step - loss: 0.8388 - categorical_accuracy: 0.7649 - f1_score: 0.7358 - val_loss: 1.2210 - val_categorical_accuracy: 0.6209 - val_f1_score: 0.5639\n",
            "Epoch 17/100\n",
            "73/73 [==============================] - ETA: 0s - loss: 0.8187 - categorical_accuracy: 0.7894 - f1_score: 0.7633\n",
            "Epoch 17: saving model to stance_best_model_tuned_weights.h5\n",
            "73/73 [==============================] - 6s 81ms/step - loss: 0.8187 - categorical_accuracy: 0.7894 - f1_score: 0.7633 - val_loss: 1.2723 - val_categorical_accuracy: 0.6055 - val_f1_score: 0.5633\n",
            "Epoch 18/100\n",
            "73/73 [==============================] - ETA: 0s - loss: 0.8105 - categorical_accuracy: 0.7808 - f1_score: 0.7584Restoring model weights from the end of the best epoch: 8.\n",
            "\n",
            "Epoch 18: saving model to stance_best_model_tuned_weights.h5\n",
            "73/73 [==============================] - 6s 80ms/step - loss: 0.8105 - categorical_accuracy: 0.7808 - f1_score: 0.7584 - val_loss: 1.2764 - val_categorical_accuracy: 0.6244 - val_f1_score: 0.5713\n",
            "Epoch 18: early stopping\n"
          ]
        }
      ],
      "source": [
        "history = {}\n",
        "history['tuned_stance_model'] = model.fit(train_pad, train_labels,\n",
        "                    epochs=100,\n",
        "                    validation_data=(val_pad, val_labels),\n",
        "                    batch_size=32,\n",
        "                    callbacks=callbacks1,\n",
        "                    shuffle = True)"
      ]
    },
    {
      "cell_type": "code",
      "execution_count": 95,
      "metadata": {
        "colab": {
          "base_uri": "https://localhost:8080/"
        },
        "id": "vbghHehR4NC-",
        "outputId": "c8d85666-0c16-499c-ebe8-f45cf94dd66f"
      },
      "outputs": [
        {
          "name": "stdout",
          "output_type": "stream",
          "text": [
            "40/40 [==============================] - 1s 13ms/step - loss: 1.0371 - categorical_accuracy: 0.6021 - f1_score: 0.4147\n",
            "Test accuracy: [1.0370591878890991, 0.6020816564559937, 0.41471409797668457]\n"
          ]
        }
      ],
      "source": [
        "results = model.evaluate(test_pad, test_labels)\n",
        "print('Test accuracy:', results)"
      ]
    },
    {
      "cell_type": "code",
      "execution_count": 96,
      "metadata": {
        "colab": {
          "base_uri": "https://localhost:8080/"
        },
        "id": "5qAsG84t4NC_",
        "outputId": "62385b4f-f911-460a-8a37-8bb61a8e2116"
      },
      "outputs": [
        {
          "name": "stdout",
          "output_type": "stream",
          "text": [
            "40/40 [==============================] - 1s 11ms/step\n",
            "              precision    recall  f1-score   support\n",
            "\n",
            "           0       0.71      0.72      0.71       715\n",
            "           1       0.51      0.49      0.50       304\n",
            "           2       0.38      0.40      0.39       230\n",
            "\n",
            "    accuracy                           0.60      1249\n",
            "   macro avg       0.53      0.53      0.53      1249\n",
            "weighted avg       0.60      0.60      0.60      1249\n",
            "\n"
          ]
        }
      ],
      "source": [
        "from sklearn.metrics import classification_report\n",
        "import numpy as np\n",
        "# Get model predictions\n",
        "predictions = model.predict(test_pad)\n",
        "\n",
        "# Convert predictions to class labels\n",
        "predicted_labels = np.argmax(predictions, axis=1)\n",
        "\n",
        "# Assuming test_labels are one-hot encoded, convert them to class labels\n",
        "true_labels = np.argmax(test_labels, axis=1)\n",
        "\n",
        "# Generate classification report\n",
        "report = classification_report(true_labels, predicted_labels)\n",
        "print(report)"
      ]
    },
    {
      "cell_type": "code",
      "execution_count": 97,
      "metadata": {
        "colab": {
          "base_uri": "https://localhost:8080/"
        },
        "id": "YWImh36S4NC_",
        "outputId": "8b0226b3-e903-44c4-f827-73726b954033"
      },
      "outputs": [
        {
          "name": "stdout",
          "output_type": "stream",
          "text": [
            "19/19 [==============================] - 0s 13ms/step - loss: 1.0714 - categorical_accuracy: 0.6021 - f1_score: 0.5549\n",
            "Test accuracy: [1.071435809135437, 0.6020582914352417, 0.5549015402793884]\n"
          ]
        }
      ],
      "source": [
        "results = model.evaluate(val_pad, val_labels)\n",
        "print('Test accuracy:', results)"
      ]
    },
    {
      "cell_type": "code",
      "execution_count": 98,
      "metadata": {
        "colab": {
          "base_uri": "https://localhost:8080/"
        },
        "id": "OovjIYJ0pbW_",
        "outputId": "f01b6e90-e6f1-4bd2-acb2-30c552d9fc9c"
      },
      "outputs": [
        {
          "name": "stderr",
          "output_type": "stream",
          "text": [
            "/usr/local/lib/python3.10/dist-packages/keras/src/engine/training.py:3103: UserWarning: You are saving your model as an HDF5 file via `model.save()`. This file format is considered legacy. We recommend using instead the native Keras format, e.g. `model.save('my_model.keras')`.\n",
            "  saving_api.save_model(\n"
          ]
        }
      ],
      "source": [
        "model.save('stance_best_model_model_extra.h5')\n",
        "model.save_weights(\"stance_best_model_weights_extra.h5\")"
      ]
    }
  ],
  "metadata": {
    "accelerator": "GPU",
    "colab": {
      "gpuType": "T4",
      "machine_shape": "hm",
      "provenance": []
    },
    "kernelspec": {
      "display_name": "Python 3",
      "name": "python3"
    },
    "language_info": {
      "codemirror_mode": {
        "name": "ipython",
        "version": 3
      },
      "file_extension": ".py",
      "mimetype": "text/x-python",
      "name": "python",
      "nbconvert_exporter": "python",
      "pygments_lexer": "ipython3",
      "version": "3.8.17"
    }
  },
  "nbformat": 4,
  "nbformat_minor": 0
}
