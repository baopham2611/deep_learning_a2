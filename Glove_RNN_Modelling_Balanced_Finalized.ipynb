{
  "cells": [
    {
      "cell_type": "code",
      "execution_count": 16,
      "metadata": {
        "colab": {
          "base_uri": "https://localhost:8080/"
        },
        "id": "YMUi67Rs4pzR",
        "outputId": "33876f16-fa4a-4799-adb4-c7037ed4ee48"
      },
      "outputs": [
        {
          "name": "stdout",
          "output_type": "stream",
          "text": [
            "Collecting keras_tuner\n",
            "  Downloading keras_tuner-1.4.6-py3-none-any.whl (128 kB)\n",
            "\u001b[?25l     \u001b[90m━━━━━━━━━━━━━━━━━━━━━━━━━━━━━━━━━━━━━━━━\u001b[0m \u001b[32m0.0/128.9 kB\u001b[0m \u001b[31m?\u001b[0m eta \u001b[36m-:--:--\u001b[0m\r\u001b[2K     \u001b[91m━━━━━━━━━━━━━━━━━━━━━━━━━━━━\u001b[0m\u001b[91m╸\u001b[0m\u001b[90m━━━━━━━━━━━\u001b[0m \u001b[32m92.2/128.9 kB\u001b[0m \u001b[31m2.8 MB/s\u001b[0m eta \u001b[36m0:00:01\u001b[0m\r\u001b[2K     \u001b[90m━━━━━━━━━━━━━━━━━━━━━━━━━━━━━━━━━━━━━━━━\u001b[0m \u001b[32m128.9/128.9 kB\u001b[0m \u001b[31m3.0 MB/s\u001b[0m eta \u001b[36m0:00:00\u001b[0m\n",
            "\u001b[?25hRequirement already satisfied: keras in /usr/local/lib/python3.10/dist-packages (from keras_tuner) (2.15.0)\n",
            "Requirement already satisfied: packaging in /usr/local/lib/python3.10/dist-packages (from keras_tuner) (23.2)\n",
            "Requirement already satisfied: requests in /usr/local/lib/python3.10/dist-packages (from keras_tuner) (2.31.0)\n",
            "Collecting kt-legacy (from keras_tuner)\n",
            "  Downloading kt_legacy-1.0.5-py3-none-any.whl (9.6 kB)\n",
            "Requirement already satisfied: charset-normalizer<4,>=2 in /usr/local/lib/python3.10/dist-packages (from requests->keras_tuner) (3.3.2)\n",
            "Requirement already satisfied: idna<4,>=2.5 in /usr/local/lib/python3.10/dist-packages (from requests->keras_tuner) (3.6)\n",
            "Requirement already satisfied: urllib3<3,>=1.21.1 in /usr/local/lib/python3.10/dist-packages (from requests->keras_tuner) (2.0.7)\n",
            "Requirement already satisfied: certifi>=2017.4.17 in /usr/local/lib/python3.10/dist-packages (from requests->keras_tuner) (2023.11.17)\n",
            "Installing collected packages: kt-legacy, keras_tuner\n",
            "Successfully installed keras_tuner-1.4.6 kt-legacy-1.0.5\n"
          ]
        }
      ],
      "source": [
        "# !pip install plotly\n",
        "# !pip install seaborn\n",
        "# !pip install matplotlib\n",
        "# !pip install transformers\n",
        "# !pip install tokenizers\n",
        "# !pip install scikit-learn\n",
        "# !pip install tensorflow\n",
        "# !pip install pandas\n",
        "# !pip install numpy\n",
        "# !pip install keras_tuner\n",
        "\n"
      ]
    },
    {
      "cell_type": "code",
      "execution_count": 17,
      "metadata": {
        "colab": {
          "base_uri": "https://localhost:8080/"
        },
        "id": "QAuRRSep48HP",
        "outputId": "423732b6-de71-42c3-a87e-843a1345bb71"
      },
      "outputs": [
        {
          "name": "stdout",
          "output_type": "stream",
          "text": [
            "Drive already mounted at /content/drive; to attempt to forcibly remount, call drive.mount(\"/content/drive\", force_remount=True).\n"
          ]
        }
      ],
      "source": [
        "from google.colab import drive\n",
        "drive.mount('/content/drive')"
      ]
    },
    {
      "cell_type": "markdown",
      "metadata": {
        "id": "PrF9hCpi4NC5"
      },
      "source": [
        "#\n",
        "<a id=\"data-prep\"></a>\n",
        "<div style=\"background-color: #000D5B; color: white; text-align: center; padding: 6px 0 22px 0\">\n",
        "    <h3 style=\"background-color: #000D5B; color: white; text-align: left\">RMIT School of Computer Science and Technology</h3>\n",
        "    <br/>\n",
        "    <h1>COSC3007: Deep Learning</h1>\n",
        "    <h2>Assignment 2: Stance Twitter Sentiment Analysis and Detection </h2>\n",
        "    <h2> [2] MODELLING AND MODEL EVALUATIONS </h2>\n",
        "\n",
        "</div>"
      ]
    },
    {
      "cell_type": "markdown",
      "metadata": {
        "id": "sfEO48Ha4NC6"
      },
      "source": [
        "# Import Libs"
      ]
    },
    {
      "cell_type": "code",
      "execution_count": 18,
      "metadata": {
        "id": "a36se5m_4NC7"
      },
      "outputs": [],
      "source": [
        "import pandas as pd\n",
        "import tensorflow as tf\n",
        "import matplotlib.pyplot as plt\n",
        "import seaborn as sns\n",
        "import numpy as np\n",
        "\n",
        "from tensorflow.keras.preprocessing.text import Tokenizer\n",
        "from tensorflow.keras.preprocessing.sequence import pad_sequences\n",
        "from sklearn.model_selection import train_test_split\n",
        "from sklearn.preprocessing import LabelEncoder\n",
        "from tensorflow.keras.utils import to_categorical\n",
        "from sklearn.preprocessing import LabelEncoder\n",
        "\n",
        "import numpy as np"
      ]
    },
    {
      "cell_type": "markdown",
      "metadata": {
        "id": "DXoaFXZZ4NC7"
      },
      "source": [
        "# [1] Load Data"
      ]
    },
    {
      "cell_type": "code",
      "execution_count": 19,
      "metadata": {
        "id": "gfOQjVqV4NC7"
      },
      "outputs": [],
      "source": [
        "train_df = pd.read_csv(\"./drive/MyDrive/Colab Notebooks/StanceDataset/processed_train_balanced.csv\", encoding = \"ISO-8859-1\", engine=\"python\").drop(columns=['Unnamed: 0'])\n",
        "train_df = train_df.sample(frac=1, random_state=42).reset_index(drop=True)\n",
        "train_df = train_df.dropna(subset=['processed_tweet'])\n",
        "train_ori = train_df.copy()\n",
        "\n",
        "test_df = pd.read_csv(\"./drive/MyDrive/Colab Notebooks/StanceDataset/processed_test_balanced.csv\", encoding = \"ISO-8859-1\", engine=\"python\").drop(columns=['Unnamed: 0'])\n",
        "# Remove rows where the 'target' column is 5\n",
        "# test_df = test_df[test_df['Target'] != 5]"
      ]
    },
    {
      "cell_type": "markdown",
      "metadata": {
        "id": "zSOnBX9a4NC7"
      },
      "source": [
        "# [2] Prepare label and fit data"
      ]
    },
    {
      "cell_type": "markdown",
      "metadata": {
        "id": "4Sa7uHjM4NC7"
      },
      "source": [
        "## Split test and val"
      ]
    },
    {
      "cell_type": "code",
      "execution_count": 20,
      "metadata": {
        "id": "ZlxRta-S4NC7"
      },
      "outputs": [],
      "source": [
        "train_df, val_df = train_test_split(train_df, test_size=0.2, random_state=42, shuffle=True)"
      ]
    },
    {
      "cell_type": "markdown",
      "metadata": {
        "id": "EJpC2STO4NC8"
      },
      "source": [
        "## Tweets"
      ]
    },
    {
      "cell_type": "code",
      "execution_count": 21,
      "metadata": {
        "id": "Eik3qaTC4NC8"
      },
      "outputs": [],
      "source": [
        "# Load GloVe embeddings\n",
        "embedding_dim = 100  # This should match the GloVe\n",
        "glove_dir = 'path_to_glove'\n",
        "from tqdm import tqdm\n",
        "\n",
        "embeddings_index = {}\n",
        "with open(\"./drive/MyDrive/Colab Notebooks/StanceDataset/glove.twitter.27B.100d.txt\", encoding='utf8') as f:\n",
        "    for line in f:\n",
        "        values = line.split()\n",
        "        word = values[0]\n",
        "        coefs = np.asarray(values[1:], dtype='float32')\n",
        "        embeddings_index[word] = coefs\n"
      ]
    },
    {
      "cell_type": "code",
      "execution_count": 22,
      "metadata": {
        "colab": {
          "base_uri": "https://localhost:8080/"
        },
        "id": "L1yCqtY-4NC8",
        "outputId": "2a8e5cdd-a58b-4a91-ef3a-2c0fb43614cf"
      },
      "outputs": [
        {
          "name": "stdout",
          "output_type": "stream",
          "text": [
            "Unique tokens: 8007\n",
            "Vocab size: 8008\n",
            "Max Pad Length 33\n"
          ]
        }
      ],
      "source": [
        "\n",
        "# Initialize and fit the tokenizer on the training data\n",
        "tokenizer = Tokenizer()\n",
        "tokenizer.fit_on_texts(train_ori['processed_tweet'])\n",
        "\n",
        "# Convert texts to sequences for all datasets\n",
        "train_sequences = tokenizer.texts_to_sequences(train_df['processed_tweet'])\n",
        "test_sequences = tokenizer.texts_to_sequences(test_df['processed_tweet'])\n",
        "val_sequences = tokenizer.texts_to_sequences(val_df['processed_tweet'])\n",
        "\n",
        "MAX_LENGTH = max(\n",
        "    max(len(seq) for seq in train_sequences),\n",
        "    max(len(seq) for seq in val_sequences),\n",
        "    max(len(seq) for seq in test_sequences)\n",
        ")\n",
        "\n",
        "# Pad the sequences\n",
        "train_pad = pad_sequences(train_sequences, maxlen=MAX_LENGTH, padding='post')\n",
        "test_pad = pad_sequences(test_sequences, maxlen=MAX_LENGTH, padding='post')\n",
        "val_pad = pad_sequences(val_sequences, maxlen=MAX_LENGTH, padding='post')\n",
        "\n",
        "# Extract the word index and vocab size\n",
        "word_index = tokenizer.word_index\n",
        "print(\"Unique tokens: \" + str(len(word_index)))\n",
        "vocab_size = len(word_index) + 1\n",
        "print('Vocab size: ' + str(vocab_size))\n",
        "print('Max Pad Length ' + str(MAX_LENGTH))\n",
        "\n",
        "# Create an embedding matrix\n",
        "embedding_matrix = np.zeros((vocab_size, embedding_dim))\n",
        "for word, i in word_index.items():\n",
        "    embedding_vector = embeddings_index.get(word)\n",
        "    if embedding_vector is not None:\n",
        "        embedding_matrix[i] = embedding_vector"
      ]
    },
    {
      "cell_type": "code",
      "execution_count": 23,
      "metadata": {
        "colab": {
          "base_uri": "https://localhost:8080/"
        },
        "id": "_KxZpSwO4NC8",
        "outputId": "96983e05-f4ea-4ab4-955a-66dbf484a3f2"
      },
      "outputs": [
        {
          "name": "stdout",
          "output_type": "stream",
          "text": [
            "3030\n",
            "758\n",
            "1956\n"
          ]
        }
      ],
      "source": [
        "print(len(train_pad))\n",
        "print(len(val_df))\n",
        "print(len(test_pad))"
      ]
    },
    {
      "cell_type": "markdown",
      "metadata": {
        "id": "K-HMFPxP4NC8"
      },
      "source": [
        "## Stances"
      ]
    },
    {
      "cell_type": "code",
      "execution_count": 24,
      "metadata": {
        "id": "1I0JnVMF4NC8"
      },
      "outputs": [],
      "source": [
        "def categorized_label(df, label_name):\n",
        "    label_encoder = LabelEncoder()\n",
        "    encoded_labels = label_encoder.fit_transform(df[label_name])\n",
        "    categorical_labels = to_categorical(encoded_labels)\n",
        "    return categorical_labels"
      ]
    },
    {
      "cell_type": "code",
      "execution_count": 25,
      "metadata": {
        "id": "DZ3NOFOF4NC9"
      },
      "outputs": [],
      "source": [
        "train_labels = categorized_label(train_df, \"Stance\")\n",
        "test_labels = categorized_label(test_df, \"Stance\")\n",
        "val_labels = categorized_label(val_df, \"Stance\")"
      ]
    },
    {
      "cell_type": "markdown",
      "metadata": {
        "id": "rErj4sRD4NC9"
      },
      "source": [
        "# [3] Create Model"
      ]
    },
    {
      "cell_type": "code",
      "execution_count": 26,
      "metadata": {
        "id": "JZQYSung4NC9"
      },
      "outputs": [],
      "source": [
        "from keras import backend as K\n",
        "from tensorflow.keras.optimizers.legacy import Adam\n",
        "from hyperopt import hp\n",
        "from hyperopt import hp, fmin, tpe, STATUS_OK, Trials\n",
        "import keras_tuner as kt\n",
        "\n",
        "def f1_score_class(y_true, y_pred):\n",
        "    true_positives = K.sum(K.round(K.clip(y_true * y_pred, 0, 1)))\n",
        "    possible_positives = K.sum(K.round(K.clip(y_true, 0, 1)))\n",
        "    predicted_positives = K.sum(K.round(K.clip(y_pred, 0, 1)))\n",
        "\n",
        "    precision = true_positives / (predicted_positives + K.epsilon())\n",
        "    recall = true_positives / (possible_positives + K.epsilon())\n",
        "    return 2 * ((precision * recall) / (precision + recall + K.epsilon()))\n",
        "\n",
        "def f1_score(y_true, y_pred):\n",
        "    # Convert predictions to one-hot format\n",
        "    y_pred_one_hot = K.one_hot(K.argmax(y_pred), num_classes=3)\n",
        "\n",
        "    # Calculate F1 score for each class\n",
        "    f1s = [f1_score_class(y_true[:, i], y_pred_one_hot[:, i]) for i in range(3)]\n",
        "\n",
        "    # Average F1 scores across all classes\n",
        "    return K.mean(K.stack(f1s), axis=0)"
      ]
    },
    {
      "cell_type": "markdown",
      "metadata": {
        "id": "RzS8a9l64NC9"
      },
      "source": [
        "Set up call backs and learning rates"
      ]
    },
    {
      "cell_type": "code",
      "execution_count": 27,
      "metadata": {
        "id": "o3WL0NZp4NC9"
      },
      "outputs": [],
      "source": [
        "from tensorflow.keras.callbacks import EarlyStopping, ReduceLROnPlateau, ModelCheckpoint\n",
        "\n",
        "\n",
        "# Define the EarlyStopping and ReduceLROnPlateau callbacks\n",
        "early_stopping = EarlyStopping(\n",
        "    monitor='val_loss',\n",
        "    patience=10,\n",
        "    verbose=1,\n",
        "    restore_best_weights=True,\n",
        ")\n",
        "\n",
        "lr_scheduler = ReduceLROnPlateau(\n",
        "    monitor='val_loss',\n",
        "    factor=0.2,\n",
        "    patience=5,\n",
        "    min_lr=1e-5,\n",
        "    verbose=1,\n",
        ")\n",
        "\n",
        "# Define the ModelCheckpoint callback\n",
        "checkpoint_path = \"stance_best_model_tuned_weights_balanced_finalized.h5\"\n",
        "model_checkpoint_callback = ModelCheckpoint(\n",
        "    filepath=checkpoint_path,\n",
        "    save_weights_only=True,    # Only save a model if 'val_loss' has improved\n",
        "    monitor='val_loss',     # Monitor 'val_loss' during training\n",
        "    mode='min',             # The model is saved when 'val_loss' is minimized\n",
        "    verbose=1)\n",
        "\n",
        "# Combine all callbacks in a list\n",
        "callbacks = [\n",
        "    early_stopping,\n",
        "    lr_scheduler,\n",
        "    model_checkpoint_callback\n",
        "]\n",
        "\n",
        "\n",
        "# Combine all callbacks in a list\n",
        "callbacks1 = [\n",
        "    early_stopping,\n",
        "    # lr_scheduler,\n",
        "    model_checkpoint_callback\n",
        "]"
      ]
    },
    {
      "cell_type": "markdown",
      "metadata": {
        "id": "Hzg0wAFK4NC9"
      },
      "source": [
        "Set up keras tuner"
      ]
    },
    {
      "cell_type": "code",
      "execution_count": 28,
      "metadata": {
        "id": "1led1Np04NC9"
      },
      "outputs": [],
      "source": [
        "from tensorflow.keras.models import Sequential\n",
        "from tensorflow.keras.layers import Embedding, LSTM, Dense, Dropout, BatchNormalization, Bidirectional, Flatten\n",
        "from tensorflow.keras.regularizers import l2\n",
        "from tensorflow.keras.optimizers.legacy import Adam\n",
        "from sklearn.metrics import classification_report\n",
        "import numpy as np\n",
        "import keras_tuner as kt\n",
        "\n",
        "def build_model(hp):\n",
        "    model = Sequential()\n",
        "    model.add(Embedding(vocab_size, embedding_dim, weights=[embedding_matrix], input_length=MAX_LENGTH, trainable=False))\n",
        "\n",
        "    # Tuning the number of units in the first biLSTM layer\n",
        "    model.add(Bidirectional(LSTM(units=hp.Int('units1', min_value=32, max_value=512, step=32),\n",
        "                   return_sequences=True,\n",
        "                   dropout=hp.Float('dropout1', min_value=0, max_value=0.8, step=0.1),\n",
        "                   recurrent_dropout=hp.Float('recurrent_dropout1', min_value=0, max_value=0.5, step=0.1),\n",
        "                   kernel_regularizer=l2(hp.Float('l2_reg1', min_value=0.0001, max_value=0.01, sampling='LOG')))))\n",
        "\n",
        "    # Tuning the number of units in the first biLSTM layer\n",
        "    model.add(Bidirectional(LSTM(units=hp.Int('units2', min_value=32, max_value=512, step=32),\n",
        "                   return_sequences=True,\n",
        "                   dropout=hp.Float('dropout2', min_value=0, max_value=0.8, step=0.1),\n",
        "                   recurrent_dropout=hp.Float('recurrent_dropout2', min_value=0, max_value=0.5, step=0.1),\n",
        "                   kernel_regularizer=l2(hp.Float('l2_reg2', min_value=0.0001, max_value=0.01, sampling='LOG')))))\n",
        "\n",
        "    model.add(Flatten())\n",
        "\n",
        "    # Dense layer with tunable units\n",
        "    model.add(Dense(\n",
        "        units=hp.Int('dense_layer_units_1', min_value=32, max_value=512, step=32),\n",
        "        activation=\"relu\",\n",
        "        kernel_regularizer=l2(hp.Float('dense_l2_reg', min_value=0.0001, max_value=0.005, sampling='LOG'))\n",
        "    ))\n",
        "\n",
        "    # Tunable dropout rate for the second layer\n",
        "    dropout_rate_3 = hp.Float('dropout__layer_3', min_value=0.0, max_value=0.8, step=0.1)\n",
        "    model.add(Dropout(dropout_rate_3))\n",
        "\n",
        "    # Final Layer\n",
        "    model.add(Dense(3, activation='softmax'))\n",
        "\n",
        "    # Tuning the learning rate for the optimizer\n",
        "    model.compile(optimizer=Adam(hp.Float('learning_rate', min_value=1e-5, max_value=1e-2, sampling='LOG')),\n",
        "                  loss='categorical_crossentropy',\n",
        "                  metrics=['categorical_accuracy', f1_score])\n",
        "\n",
        "    return model\n"
      ]
    },
    {
      "cell_type": "markdown",
      "metadata": {
        "id": "ndoyS0GZ4NC9"
      },
      "source": [
        "KERAS TUNER WILL FIND THE BEST HPS then further tune the model with the best hps"
      ]
    },
    {
      "cell_type": "code",
      "execution_count": 29,
      "metadata": {
        "colab": {
          "base_uri": "https://localhost:8080/"
        },
        "id": "Ti9UOTBq4NC-",
        "outputId": "1afe303a-e06c-4ea4-ac3c-c0df2a56ea86"
      },
      "outputs": [
        {
          "name": "stdout",
          "output_type": "stream",
          "text": [
            "Trial 90 Complete [00h 00m 43s]\n",
            "val_f1_score: 0.5884187817573547\n",
            "\n",
            "Best val_f1_score So Far: 0.5884187817573547\n",
            "Total elapsed time: 03h 14m 44s\n"
          ]
        },
        {
          "name": "stderr",
          "output_type": "stream",
          "text": [
            "/usr/local/lib/python3.10/dist-packages/keras/src/engine/training.py:3103: UserWarning: You are saving your model as an HDF5 file via `model.save()`. This file format is considered legacy. We recommend using instead the native Keras format, e.g. `model.save('my_model.keras')`.\n",
            "  saving_api.save_model(\n"
          ]
        }
      ],
      "source": [
        "best_model = None\n",
        "best_hps = None\n",
        "\n",
        "# Hyperparameter tuning configuration\n",
        "objective = kt.Objective(\"val_f1_score\", direction=\"max\")\n",
        "tuning_config = {\n",
        "    'objective': objective,\n",
        "    'max_epochs': 30,\n",
        "    'directory': 'keras_tuner_dir',\n",
        "    'project_name': 'lstm_stance_classification_balanced'\n",
        "}\n",
        "\n",
        "# Early stopping callback\n",
        "stop_early = tf.keras.callbacks.EarlyStopping(monitor='val_loss', patience=5, restore_best_weights=True)\n",
        "\n",
        "batch_size = 32\n",
        "\n",
        "# for batch_size in batch_sizes:\n",
        "print(f\"Trying batch size: {batch_size}\")\n",
        "\n",
        "# Initialize the tuner\n",
        "tuner = kt.Hyperband(build_model, **tuning_config)\n",
        "\n",
        "# Search for the best hyperparameters\n",
        "tuner.search(train_pad, train_labels,\n",
        "            epochs=50,\n",
        "            validation_data=(val_pad, val_labels),\n",
        "            callbacks=[stop_early],\n",
        "            batch_size=batch_size)\n",
        "\n",
        "best_model = tuner.get_best_models(num_models=1)[0]\n",
        "best_hps = tuner.get_best_hyperparameters(num_trials=1)[0]\n",
        "best_model.save('stance_best_model_model_balanced_finalized.h5')\n",
        "best_model.save_weights(\"stance_best_model_weights_balanced_finalized.h5\")"
      ]
    },
    {
      "cell_type": "markdown",
      "metadata": {
        "id": "BoMau-7WOYPm"
      },
      "source": [
        "Evaluate best keras tuner model"
      ]
    },
    {
      "cell_type": "code",
      "execution_count": 30,
      "metadata": {
        "colab": {
          "base_uri": "https://localhost:8080/"
        },
        "id": "pzCz5GmhdqUw",
        "outputId": "de1a97ca-526d-43bb-c4c2-94b6cce129a8"
      },
      "outputs": [
        {
          "name": "stdout",
          "output_type": "stream",
          "text": [
            "62/62 [==============================] - 2s 8ms/step - loss: 1.1846 - categorical_accuracy: 0.5424 - f1_score: 0.3964\n",
            "Test accuracy: [1.1846450567245483, 0.5424335598945618, 0.3963702917098999]\n"
          ]
        }
      ],
      "source": [
        "results = best_model.evaluate(test_pad, test_labels)\n",
        "print('Test accuracy:', results)"
      ]
    },
    {
      "cell_type": "code",
      "execution_count": 31,
      "metadata": {
        "colab": {
          "base_uri": "https://localhost:8080/"
        },
        "id": "gqXCc2x0dpYa",
        "outputId": "acc5a81f-422a-4211-f310-7ad4e841db8c"
      },
      "outputs": [
        {
          "name": "stdout",
          "output_type": "stream",
          "text": [
            "62/62 [==============================] - 1s 5ms/step\n",
            "              precision    recall  f1-score   support\n",
            "\n",
            "           0       0.69      0.60      0.64      1014\n",
            "           1       0.43      0.38      0.40       452\n",
            "           2       0.42      0.58      0.49       490\n",
            "\n",
            "    accuracy                           0.54      1956\n",
            "   macro avg       0.51      0.52      0.51      1956\n",
            "weighted avg       0.56      0.54      0.55      1956\n",
            "\n"
          ]
        }
      ],
      "source": [
        "# Get model predictions\n",
        "predictions = best_model.predict(test_pad)\n",
        "\n",
        "# Convert predictions to class labels\n",
        "predicted_labels = np.argmax(predictions, axis=1)\n",
        "\n",
        "# Assuming test_labels are one-hot encoded, convert them to class labels\n",
        "true_labels = np.argmax(test_labels, axis=1)\n",
        "\n",
        "# Generate classification report\n",
        "report = classification_report(true_labels, predicted_labels)\n",
        "print(report)"
      ]
    },
    {
      "cell_type": "code",
      "execution_count": 32,
      "metadata": {
        "id": "u-zaXCv_4NC-"
      },
      "outputs": [],
      "source": [
        "with open('./glove_lstm_best_hyperparameters_balanced_finalized.txt', 'w') as f:\n",
        "    for hparam in best_hps.values:\n",
        "        f.write(f\"{hparam}: {best_hps.get(hparam)}\\n\")"
      ]
    },
    {
      "cell_type": "markdown",
      "metadata": {
        "id": "4XHtdHvV4NC-"
      },
      "source": [
        "Recreate the best model with more training time"
      ]
    },
    {
      "cell_type": "code",
      "execution_count": 33,
      "metadata": {
        "id": "OZpuRbkI4NC-"
      },
      "outputs": [],
      "source": [
        "def load_hyperparameters(file_path):\n",
        "    hyperparameters = {}\n",
        "    with open(file_path, 'r') as file:\n",
        "        for line in file:\n",
        "            key, value = line.strip().split(': ')\n",
        "            # Convert value to the appropriate type\n",
        "            if value.isdigit():\n",
        "                value = int(value)  # Convert to integer if possible\n",
        "            elif value.replace('.', '', 1).isdigit() and '.' in value:\n",
        "                value = float(value)  # Convert to float if possible\n",
        "            hyperparameters[key] = value\n",
        "    return hyperparameters\n",
        "\n",
        "# Load the hyperparameters\n",
        "file_path = './glove_lstm_best_hyperparameters_balanced_finalized.txt'  # Replace with your file path\n",
        "best_hps = load_hyperparameters(file_path)"
      ]
    },
    {
      "cell_type": "code",
      "execution_count": 34,
      "metadata": {
        "colab": {
          "base_uri": "https://localhost:8080/"
        },
        "id": "JVftKFEJ4NC-",
        "outputId": "153e38ab-a62b-4c91-9d03-1a47b9f428aa"
      },
      "outputs": [
        {
          "data": {
            "text/plain": [
              "{'units1': 192,\n",
              " 'dropout1': 0.30000000000000004,\n",
              " 'recurrent_dropout1': 0.0,\n",
              " 'l2_reg1': 0.00042020990780943966,\n",
              " 'units2': 512,\n",
              " 'dropout2': 0.8,\n",
              " 'recurrent_dropout2': 0.0,\n",
              " 'l2_reg2': 0.0002635709611265761,\n",
              " 'dense_layer_units_1': 160,\n",
              " 'dense_l2_reg': 0.0036292614072186333,\n",
              " 'dropout__layer_3': 0.2,\n",
              " 'learning_rate': 0.003062307710219137,\n",
              " 'tuner/epochs': 30,\n",
              " 'tuner/initial_epoch': 0,\n",
              " 'tuner/bracket': 0,\n",
              " 'tuner/round': 0}"
            ]
          },
          "execution_count": 34,
          "metadata": {},
          "output_type": "execute_result"
        }
      ],
      "source": [
        "best_hps"
      ]
    },
    {
      "cell_type": "code",
      "execution_count": 35,
      "metadata": {
        "id": "6nLjkqzF4NC-"
      },
      "outputs": [],
      "source": [
        "def build_model_from_dict(hp_dict):\n",
        "    model = Sequential()\n",
        "    model.add(Embedding(vocab_size, embedding_dim, weights=[embedding_matrix], input_length=MAX_LENGTH, trainable=False))\n",
        "\n",
        "    # Use the hyperparameter values from the dictionary\n",
        "    model.add(Bidirectional(LSTM(units=hp_dict['units1'],\n",
        "                   return_sequences=True,\n",
        "                   dropout=hp_dict['dropout1'],\n",
        "                   recurrent_dropout=hp_dict['recurrent_dropout1'],\n",
        "                   kernel_regularizer=l2(hp_dict['l2_reg1']))))\n",
        "\n",
        "    # Use the hyperparameter values from the dictionary\n",
        "    model.add(Bidirectional(LSTM(units=hp_dict['units2'],\n",
        "                   return_sequences=True,\n",
        "                   dropout=hp_dict['dropout2'],\n",
        "                   recurrent_dropout=hp_dict['recurrent_dropout2'],\n",
        "                   kernel_regularizer=l2(hp_dict['l2_reg2']))))\n",
        "\n",
        "    model.add(Flatten())\n",
        "\n",
        "    # Dense layer with tunable units\n",
        "    model.add(Dense(\n",
        "        units=hp_dict['dense_layer_units_1'],\n",
        "        activation=\"relu\",\n",
        "        kernel_regularizer=l2(hp_dict['dense_l2_reg'])\n",
        "    ))\n",
        "\n",
        "    # Tunable dropout rate for the second layer\n",
        "    dropout_rate_3 = hp_dict['dropout__layer_3']\n",
        "    model.add(Dropout(dropout_rate_3))\n",
        "\n",
        "    # Final Layer\n",
        "    model.add(Dense(3, activation='softmax'))\n",
        "\n",
        "    # Tuning the learning rate for the optimizer\n",
        "    model.compile(optimizer=Adam(hp_dict['learning_rate']),\n",
        "                  loss='categorical_crossentropy',\n",
        "                  metrics=['categorical_accuracy', f1_score])\n",
        "\n",
        "    return model"
      ]
    },
    {
      "cell_type": "code",
      "execution_count": 36,
      "metadata": {
        "colab": {
          "base_uri": "https://localhost:8080/",
          "height": 865
        },
        "id": "THrzwI8W4NC-",
        "outputId": "a4313785-9244-472c-95a8-89c0caff233f"
      },
      "outputs": [
        {
          "data": {
            "image/png": "[encoded data removed]",
            "text/plain": [
              "<IPython.core.display.Image object>"
            ]
          },
          "execution_count": 36,
          "metadata": {},
          "output_type": "execute_result"
        }
      ],
      "source": [
        "from tensorflow.keras.utils import plot_model\n",
        "model = build_model_from_dict(best_hps)\n",
        "plot_model(model, show_layer_names=False, show_shapes=True, to_file='tuned_stance_model_balanced.png')"
      ]
    },
    {
      "cell_type": "code",
      "execution_count": 37,
      "metadata": {
        "colab": {
          "base_uri": "https://localhost:8080/"
        },
        "id": "r6WVUEAX4NC-",
        "outputId": "72e19c1c-db9a-46cf-a3d5-5ae36e1f5f67"
      },
      "outputs": [
        {
          "name": "stdout",
          "output_type": "stream",
          "text": [
            "Epoch 1/100\n",
            "93/95 [============================>.] - ETA: 0s - loss: 2.1733 - categorical_accuracy: 0.4446 - f1_score: 0.2963\n",
            "Epoch 1: saving model to stance_best_model_tuned_weights_balanced.h5\n",
            "95/95 [==============================] - 8s 32ms/step - loss: 2.1604 - categorical_accuracy: 0.4465 - f1_score: 0.2997 - val_loss: 1.4527 - val_categorical_accuracy: 0.5000 - val_f1_score: 0.3911\n",
            "Epoch 2/100\n",
            "93/95 [============================>.] - ETA: 0s - loss: 1.3870 - categorical_accuracy: 0.4768 - f1_score: 0.3636\n",
            "Epoch 2: saving model to stance_best_model_tuned_weights_balanced.h5\n",
            "95/95 [==============================] - 2s 16ms/step - loss: 1.3864 - categorical_accuracy: 0.4766 - f1_score: 0.3637 - val_loss: 1.2734 - val_categorical_accuracy: 0.4855 - val_f1_score: 0.3949\n",
            "Epoch 3/100\n",
            "93/95 [============================>.] - ETA: 0s - loss: 1.2640 - categorical_accuracy: 0.4866 - f1_score: 0.3683\n",
            "Epoch 3: saving model to stance_best_model_tuned_weights_balanced.h5\n",
            "95/95 [==============================] - 2s 16ms/step - loss: 1.2646 - categorical_accuracy: 0.4861 - f1_score: 0.3699 - val_loss: 1.2323 - val_categorical_accuracy: 0.5119 - val_f1_score: 0.4783\n",
            "Epoch 4/100\n",
            "93/95 [============================>.] - ETA: 0s - loss: 1.2109 - categorical_accuracy: 0.5215 - f1_score: 0.4348\n",
            "Epoch 4: saving model to stance_best_model_tuned_weights_balanced.h5\n",
            "95/95 [==============================] - 2s 16ms/step - loss: 1.2099 - categorical_accuracy: 0.5234 - f1_score: 0.4381 - val_loss: 1.1535 - val_categorical_accuracy: 0.5224 - val_f1_score: 0.4831\n",
            "Epoch 5/100\n",
            "93/95 [============================>.] - ETA: 0s - loss: 1.1550 - categorical_accuracy: 0.5265 - f1_score: 0.4434\n",
            "Epoch 5: saving model to stance_best_model_tuned_weights_balanced.h5\n",
            "95/95 [==============================] - 2s 16ms/step - loss: 1.1535 - categorical_accuracy: 0.5281 - f1_score: 0.4432 - val_loss: 1.1386 - val_categorical_accuracy: 0.5211 - val_f1_score: 0.3896\n",
            "Epoch 6/100\n",
            "93/95 [============================>.] - ETA: 0s - loss: 1.1152 - categorical_accuracy: 0.5447 - f1_score: 0.4648\n",
            "Epoch 6: saving model to stance_best_model_tuned_weights_balanced.h5\n",
            "95/95 [==============================] - 2s 16ms/step - loss: 1.1157 - categorical_accuracy: 0.5426 - f1_score: 0.4629 - val_loss: 1.1365 - val_categorical_accuracy: 0.5277 - val_f1_score: 0.4745\n",
            "Epoch 7/100\n",
            "93/95 [============================>.] - ETA: 0s - loss: 1.1054 - categorical_accuracy: 0.5521 - f1_score: 0.4787\n",
            "Epoch 7: saving model to stance_best_model_tuned_weights_balanced.h5\n",
            "95/95 [==============================] - 2s 16ms/step - loss: 1.1072 - categorical_accuracy: 0.5525 - f1_score: 0.4775 - val_loss: 1.1067 - val_categorical_accuracy: 0.5409 - val_f1_score: 0.4286\n",
            "Epoch 8/100\n",
            "93/95 [============================>.] - ETA: 0s - loss: 1.0881 - categorical_accuracy: 0.5726 - f1_score: 0.5093\n",
            "Epoch 8: saving model to stance_best_model_tuned_weights_balanced.h5\n",
            "95/95 [==============================] - 2s 16ms/step - loss: 1.0889 - categorical_accuracy: 0.5710 - f1_score: 0.5081 - val_loss: 1.1129 - val_categorical_accuracy: 0.5435 - val_f1_score: 0.4593\n",
            "Epoch 9/100\n",
            "93/95 [============================>.] - ETA: 0s - loss: 1.0890 - categorical_accuracy: 0.5806 - f1_score: 0.5191\n",
            "Epoch 9: saving model to stance_best_model_tuned_weights_balanced.h5\n",
            "95/95 [==============================] - 2s 16ms/step - loss: 1.0881 - categorical_accuracy: 0.5815 - f1_score: 0.5208 - val_loss: 1.1226 - val_categorical_accuracy: 0.5449 - val_f1_score: 0.5235\n",
            "Epoch 10/100\n",
            "93/95 [============================>.] - ETA: 0s - loss: 1.0779 - categorical_accuracy: 0.5964 - f1_score: 0.5539\n",
            "Epoch 10: saving model to stance_best_model_tuned_weights_balanced.h5\n",
            "95/95 [==============================] - 2s 16ms/step - loss: 1.0779 - categorical_accuracy: 0.5957 - f1_score: 0.5522 - val_loss: 1.1035 - val_categorical_accuracy: 0.5620 - val_f1_score: 0.5117\n",
            "Epoch 11/100\n",
            "93/95 [============================>.] - ETA: 0s - loss: 1.0536 - categorical_accuracy: 0.5958 - f1_score: 0.5486\n",
            "Epoch 11: saving model to stance_best_model_tuned_weights_balanced.h5\n",
            "95/95 [==============================] - 2s 17ms/step - loss: 1.0536 - categorical_accuracy: 0.5974 - f1_score: 0.5493 - val_loss: 1.1064 - val_categorical_accuracy: 0.5515 - val_f1_score: 0.4739\n",
            "Epoch 12/100\n",
            "93/95 [============================>.] - ETA: 0s - loss: 1.0386 - categorical_accuracy: 0.6321 - f1_score: 0.5934\n",
            "Epoch 12: saving model to stance_best_model_tuned_weights_balanced.h5\n",
            "95/95 [==============================] - 2s 16ms/step - loss: 1.0402 - categorical_accuracy: 0.6307 - f1_score: 0.5922 - val_loss: 1.2260 - val_categorical_accuracy: 0.5778 - val_f1_score: 0.5508\n",
            "Epoch 13/100\n",
            "93/95 [============================>.] - ETA: 0s - loss: 1.0396 - categorical_accuracy: 0.6226 - f1_score: 0.5904\n",
            "Epoch 13: saving model to stance_best_model_tuned_weights_balanced.h5\n",
            "95/95 [==============================] - 2s 16ms/step - loss: 1.0391 - categorical_accuracy: 0.6228 - f1_score: 0.5911 - val_loss: 1.1379 - val_categorical_accuracy: 0.5712 - val_f1_score: 0.5227\n",
            "Epoch 14/100\n",
            "93/95 [============================>.] - ETA: 0s - loss: 1.0279 - categorical_accuracy: 0.6347 - f1_score: 0.5987\n",
            "Epoch 14: saving model to stance_best_model_tuned_weights_balanced.h5\n",
            "95/95 [==============================] - 2s 16ms/step - loss: 1.0298 - categorical_accuracy: 0.6327 - f1_score: 0.5967 - val_loss: 1.1471 - val_categorical_accuracy: 0.5805 - val_f1_score: 0.5536\n",
            "Epoch 15/100\n",
            "93/95 [============================>.] - ETA: 0s - loss: 1.0181 - categorical_accuracy: 0.6458 - f1_score: 0.6061\n",
            "Epoch 15: saving model to stance_best_model_tuned_weights_balanced.h5\n",
            "95/95 [==============================] - 2s 16ms/step - loss: 1.0182 - categorical_accuracy: 0.6446 - f1_score: 0.6049 - val_loss: 1.1516 - val_categorical_accuracy: 0.5726 - val_f1_score: 0.5412\n",
            "Epoch 16/100\n",
            "93/95 [============================>.] - ETA: 0s - loss: 1.0016 - categorical_accuracy: 0.6566 - f1_score: 0.6224\n",
            "Epoch 16: saving model to stance_best_model_tuned_weights_balanced.h5\n",
            "95/95 [==============================] - 2s 16ms/step - loss: 1.0020 - categorical_accuracy: 0.6564 - f1_score: 0.6221 - val_loss: 1.1770 - val_categorical_accuracy: 0.5910 - val_f1_score: 0.5691\n",
            "Epoch 17/100\n",
            "93/95 [============================>.] - ETA: 0s - loss: 1.0105 - categorical_accuracy: 0.6599 - f1_score: 0.6334\n",
            "Epoch 17: saving model to stance_best_model_tuned_weights_balanced.h5\n",
            "95/95 [==============================] - 2s 16ms/step - loss: 1.0089 - categorical_accuracy: 0.6601 - f1_score: 0.6328 - val_loss: 1.1589 - val_categorical_accuracy: 0.5660 - val_f1_score: 0.5448\n",
            "Epoch 18/100\n",
            "93/95 [============================>.] - ETA: 0s - loss: 1.0004 - categorical_accuracy: 0.6761 - f1_score: 0.6446\n",
            "Epoch 18: saving model to stance_best_model_tuned_weights_balanced.h5\n",
            "95/95 [==============================] - 2s 16ms/step - loss: 0.9986 - categorical_accuracy: 0.6772 - f1_score: 0.6461 - val_loss: 1.1896 - val_categorical_accuracy: 0.5739 - val_f1_score: 0.5594\n",
            "Epoch 19/100\n",
            "93/95 [============================>.] - ETA: 0s - loss: 0.9665 - categorical_accuracy: 0.6956 - f1_score: 0.6697\n",
            "Epoch 19: saving model to stance_best_model_tuned_weights_balanced.h5\n",
            "95/95 [==============================] - 2s 16ms/step - loss: 0.9667 - categorical_accuracy: 0.6954 - f1_score: 0.6696 - val_loss: 1.1375 - val_categorical_accuracy: 0.6148 - val_f1_score: 0.5881\n",
            "Epoch 20/100\n",
            "93/95 [============================>.] - ETA: 0s - loss: 0.9661 - categorical_accuracy: 0.6949 - f1_score: 0.6659Restoring model weights from the end of the best epoch: 10.\n",
            "\n",
            "Epoch 20: saving model to stance_best_model_tuned_weights_balanced.h5\n",
            "95/95 [==============================] - 2s 16ms/step - loss: 0.9658 - categorical_accuracy: 0.6964 - f1_score: 0.6685 - val_loss: 1.2514 - val_categorical_accuracy: 0.6003 - val_f1_score: 0.5580\n",
            "Epoch 20: early stopping\n"
          ]
        }
      ],
      "source": [
        "history = {}\n",
        "history['tuned_stance_model'] = model.fit(train_pad, train_labels,\n",
        "                    epochs=100,\n",
        "                    validation_data=(val_pad, val_labels),\n",
        "                    batch_size=32,\n",
        "                    callbacks=callbacks1,\n",
        "                    shuffle = True)"
      ]
    },
    {
      "cell_type": "code",
      "execution_count": 38,
      "metadata": {
        "colab": {
          "base_uri": "https://localhost:8080/"
        },
        "id": "vbghHehR4NC-",
        "outputId": "62f62777-0a02-46a9-ad61-8b88a30f2ef7"
      },
      "outputs": [
        {
          "name": "stdout",
          "output_type": "stream",
          "text": [
            "62/62 [==============================] - 0s 7ms/step - loss: 1.1056 - categorical_accuracy: 0.5603 - f1_score: 0.3481\n",
            "Test accuracy: [1.1055935621261597, 0.5603271722793579, 0.3481340706348419]\n"
          ]
        }
      ],
      "source": [
        "results = model.evaluate(test_pad, test_labels)\n",
        "print('Test accuracy:', results)"
      ]
    },
    {
      "cell_type": "code",
      "execution_count": 39,
      "metadata": {
        "colab": {
          "base_uri": "https://localhost:8080/"
        },
        "id": "5qAsG84t4NC_",
        "outputId": "601bbf32-e06a-42cc-fa62-0ccd558dd705"
      },
      "outputs": [
        {
          "name": "stdout",
          "output_type": "stream",
          "text": [
            "62/62 [==============================] - 1s 5ms/step\n",
            "              precision    recall  f1-score   support\n",
            "\n",
            "           0       0.62      0.74      0.67      1014\n",
            "           1       0.60      0.21      0.31       452\n",
            "           2       0.43      0.50      0.47       490\n",
            "\n",
            "    accuracy                           0.56      1956\n",
            "   macro avg       0.55      0.49      0.48      1956\n",
            "weighted avg       0.57      0.56      0.54      1956\n",
            "\n"
          ]
        }
      ],
      "source": [
        "from sklearn.metrics import classification_report\n",
        "import numpy as np\n",
        "# Get model predictions\n",
        "predictions = model.predict(test_pad)\n",
        "\n",
        "# Convert predictions to class labels\n",
        "predicted_labels = np.argmax(predictions, axis=1)\n",
        "\n",
        "# Assuming test_labels are one-hot encoded, convert them to class labels\n",
        "true_labels = np.argmax(test_labels, axis=1)\n",
        "\n",
        "# Generate classification report\n",
        "report = classification_report(true_labels, predicted_labels)\n",
        "print(report)"
      ]
    },
    {
      "cell_type": "code",
      "execution_count": 40,
      "metadata": {
        "colab": {
          "base_uri": "https://localhost:8080/"
        },
        "id": "YWImh36S4NC_",
        "outputId": "f55e3038-2e5d-43b8-a5ed-bfa14ddd7080"
      },
      "outputs": [
        {
          "name": "stdout",
          "output_type": "stream",
          "text": [
            "24/24 [==============================] - 0s 7ms/step - loss: 1.1035 - categorical_accuracy: 0.5620 - f1_score: 0.5117\n",
            "Test accuracy: [1.1035140752792358, 0.5620052814483643, 0.5117074847221375]\n"
          ]
        }
      ],
      "source": [
        "results = model.evaluate(val_pad, val_labels)\n",
        "print('Test accuracy:', results)"
      ]
    },
    {
      "cell_type": "code",
      "execution_count": 41,
      "metadata": {
        "colab": {
          "base_uri": "https://localhost:8080/"
        },
        "id": "OovjIYJ0pbW_",
        "outputId": "2fa120c3-27e3-410c-ec8c-6bcf05d4a233"
      },
      "outputs": [
        {
          "name": "stderr",
          "output_type": "stream",
          "text": [
            "/usr/local/lib/python3.10/dist-packages/keras/src/engine/training.py:3103: UserWarning: You are saving your model as an HDF5 file via `model.save()`. This file format is considered legacy. We recommend using instead the native Keras format, e.g. `model.save('my_model.keras')`.\n",
            "  saving_api.save_model(\n"
          ]
        }
      ],
      "source": [
        "model.save('stance_best_model_model_extra_balanced_finalized.h5')\n",
        "model.save_weights(\"stance_best_model_weights_extra_balanced_finalized.h5\")"
      ]
    },
    {
      "cell_type": "markdown",
      "metadata": {
        "id": "63e1r9UXPY6n"
      },
      "source": [
        "# [4] Evaluation"
      ]
    },
    {
      "cell_type": "code",
      "execution_count": 42,
      "metadata": {
        "colab": {
          "base_uri": "https://localhost:8080/"
        },
        "id": "mWNw1nODPcRE",
        "outputId": "e6a90025-254a-4cdf-a098-47da0e16c80f"
      },
      "outputs": [
        {
          "name": "stderr",
          "output_type": "stream",
          "text": [
            "WARNING:tensorflow:Error in loading the saved optimizer state. As a result, your model is starting with a freshly initialized optimizer.\n"
          ]
        },
        {
          "name": "stdout",
          "output_type": "stream",
          "text": [
            "62/62 [==============================] - 1s 5ms/step\n",
            "              precision    recall  f1-score   support\n",
            "\n",
            "           0       0.69      0.60      0.64      1014\n",
            "           1       0.43      0.38      0.40       452\n",
            "           2       0.42      0.58      0.49       490\n",
            "\n",
            "    accuracy                           0.54      1956\n",
            "   macro avg       0.51      0.52      0.51      1956\n",
            "weighted avg       0.56      0.54      0.55      1956\n",
            "\n"
          ]
        }
      ],
      "source": [
        "from tensorflow.keras.models import load_model\n",
        "\n",
        "model_path = 'stance_best_model_model_balanced_finalized.h5'  # Replace with your model's file path\n",
        "best_model = load_model(model_path, custom_objects={'f1_score': f1_score})\n",
        "\n",
        "from sklearn.metrics import classification_report\n",
        "import numpy as np\n",
        "# Get model predictions\n",
        "predictions = best_model.predict(test_pad)\n",
        "\n",
        "# Convert predictions to class labels\n",
        "predicted_labels = np.argmax(predictions, axis=1)\n",
        "\n",
        "# Assuming test_labels are one-hot encoded, convert them to class labels\n",
        "true_labels = np.argmax(test_labels, axis=1)\n",
        "\n",
        "# Generate classification report\n",
        "report = classification_report(true_labels, predicted_labels)\n",
        "print(report)"
      ]
    },
    {
      "cell_type": "code",
      "execution_count": 43,
      "metadata": {
        "id": "NrN5gaggPgZg"
      },
      "outputs": [],
      "source": [
        "def load_classification_rp_per_target(model):\n",
        "    targets = test_df.Target.unique()\n",
        "    metrics_df = pd.DataFrame()\n",
        "    for target in targets:\n",
        "        extracted_df = test_df[test_df['Target'] == target]\n",
        "        sequences = tokenizer.texts_to_sequences(extracted_df['processed_tweet'])\n",
        "        pad = pad_sequences(sequences, maxlen=MAX_LENGTH, padding='post')\n",
        "        # Assuming categorized_label returns a one-hot encoded DataFrame\n",
        "        # Get labels using the categorized_label function\n",
        "        labels = categorized_label(extracted_df, \"Stance\")\n",
        "\n",
        "        # Convert one-hot encoded labels to single integer class labels\n",
        "        true_labels = np.argmax(labels, axis=1)\n",
        "\n",
        "        # Get model predictions\n",
        "        predictions = best_model.predict(pad)\n",
        "\n",
        "        # Convert predictions to class labels\n",
        "        predicted_labels = np.argmax(predictions, axis=1)\n",
        "\n",
        "        # Generate a classification report\n",
        "        report = classification_report(true_labels, predicted_labels, target_names=['AGAINST', 'FAVOR', 'NONE'])\n",
        "        target_name = \"\"\n",
        "        if target == 0:\n",
        "            target_name = \"Hillary Clinton\"\n",
        "        if target == 1:\n",
        "            target_name = \"Legalization of Abortion\"\n",
        "        if target == 2:\n",
        "            target_name = \"Atheism\"\n",
        "        if target == 3:\n",
        "            target_name = \"Climate Change is a Real Concern\"\n",
        "        if target == 4:\n",
        "            target_name = \"Feminist Movement\"\n",
        "        if target == 5:\n",
        "            target_name = \"Donald Trump\"\n",
        "\n",
        "        print('Target: ', target_name)\n",
        "        print(report)\n",
        "        print(\"-----------------------------------------\", \"\\n\")\n",
        "\n",
        "        # Flatten the report into a single row and add target name\n",
        "        report = classification_report(true_labels, predicted_labels, target_names=['AGAINST', 'FAVOR', 'NONE'], output_dict=True)\n",
        "\n",
        "        # Extract weighted f1, macro f1, and accuracy\n",
        "        report_data = {\n",
        "            'Target': target_name,\n",
        "            'Weighted F1': report['weighted avg']['f1-score'],\n",
        "            'Macro F1': report['macro avg']['f1-score'],\n",
        "            'Accuracy': report['accuracy']\n",
        "        }\n",
        "\n",
        "        # Append to the DataFrame\n",
        "        metrics_df = metrics_df.append(report_data, ignore_index=True)\n",
        "    metrics_df.set_index('Target', inplace=True)\n",
        "\n",
        "    return metrics_df"
      ]
    },
    {
      "cell_type": "code",
      "execution_count": 44,
      "metadata": {
        "colab": {
          "base_uri": "https://localhost:8080/",
          "height": 1000
        },
        "id": "PdV-A4PiPiQa",
        "outputId": "aae8131f-d6bb-4219-f37a-2be804b9b3a6"
      },
      "outputs": [
        {
          "name": "stdout",
          "output_type": "stream",
          "text": [
            "7/7 [==============================] - 0s 5ms/step\n",
            "Target:  Atheism\n",
            "              precision    recall  f1-score   support\n",
            "\n",
            "     AGAINST       0.83      0.74      0.78       160\n",
            "       FAVOR       0.27      0.31      0.29        32\n",
            "        NONE       0.39      0.57      0.46        28\n",
            "\n",
            "    accuracy                           0.65       220\n",
            "   macro avg       0.50      0.54      0.51       220\n",
            "weighted avg       0.69      0.65      0.67       220\n",
            "\n",
            "----------------------------------------- \n",
            "\n",
            "6/6 [==============================] - 0s 5ms/step\n",
            "Target:  Climate Change is a Real Concern\n",
            "              precision    recall  f1-score   support\n",
            "\n",
            "     AGAINST       0.12      0.18      0.14        11\n",
            "       FAVOR       0.82      0.68      0.75       123\n",
            "        NONE       0.40      0.57      0.47        35\n",
            "\n",
            "    accuracy                           0.63       169\n",
            "   macro avg       0.45      0.48      0.45       169\n",
            "weighted avg       0.69      0.63      0.65       169\n",
            "\n",
            "----------------------------------------- \n",
            "\n",
            "1/9 [==>...........................] - ETA: 0s"
          ]
        },
        {
          "name": "stderr",
          "output_type": "stream",
          "text": [
            "<ipython-input-43-4f18972863bd>:53: FutureWarning: The frame.append method is deprecated and will be removed from pandas in a future version. Use pandas.concat instead.\n",
            "  metrics_df = metrics_df.append(report_data, ignore_index=True)\n",
            "<ipython-input-43-4f18972863bd>:53: FutureWarning: The frame.append method is deprecated and will be removed from pandas in a future version. Use pandas.concat instead.\n",
            "  metrics_df = metrics_df.append(report_data, ignore_index=True)\n"
          ]
        },
        {
          "name": "stdout",
          "output_type": "stream",
          "text": [
            "\b\b\b\b\b\b\b\b\b\b\b\b\b\b\b\b\b\b\b\b\b\b\b\b\b\b\b\b\b\b\b\b\b\b\b\b\b\b\b\b\b\b\b\b\b\b\r9/9 [==============================] - 0s 5ms/step\n",
            "Target:  Feminist Movement\n",
            "              precision    recall  f1-score   support\n",
            "\n",
            "     AGAINST       0.78      0.62      0.69       183\n",
            "       FAVOR       0.36      0.43      0.39        58\n",
            "        NONE       0.46      0.75      0.57        44\n",
            "\n",
            "    accuracy                           0.60       285\n",
            "   macro avg       0.54      0.60      0.55       285\n",
            "weighted avg       0.65      0.60      0.61       285\n",
            "\n",
            "----------------------------------------- \n",
            "\n",
            "10/10 [==============================] - 0s 5ms/step\n",
            "Target:  Hillary Clinton\n",
            "              precision    recall  f1-score   support\n",
            "\n",
            "     AGAINST       0.74      0.67      0.71       172\n",
            "       FAVOR       0.16      0.13      0.14        45\n",
            "        NONE       0.50      0.64      0.56        78\n",
            "\n",
            "    accuracy                           0.58       295\n",
            "   macro avg       0.47      0.48      0.47       295\n",
            "weighted avg       0.59      0.58      0.58       295\n",
            "\n",
            "----------------------------------------- \n",
            "\n",
            "1/9 [==>...........................] - ETA: 0s"
          ]
        },
        {
          "name": "stderr",
          "output_type": "stream",
          "text": [
            "<ipython-input-43-4f18972863bd>:53: FutureWarning: The frame.append method is deprecated and will be removed from pandas in a future version. Use pandas.concat instead.\n",
            "  metrics_df = metrics_df.append(report_data, ignore_index=True)\n",
            "<ipython-input-43-4f18972863bd>:53: FutureWarning: The frame.append method is deprecated and will be removed from pandas in a future version. Use pandas.concat instead.\n",
            "  metrics_df = metrics_df.append(report_data, ignore_index=True)\n"
          ]
        },
        {
          "name": "stdout",
          "output_type": "stream",
          "text": [
            "\b\b\b\b\b\b\b\b\b\b\b\b\b\b\b\b\b\b\b\b\b\b\b\b\b\b\b\b\b\b\b\b\b\b\b\b\b\b\b\b\b\b\b\b\b\b\r9/9 [==============================] - 0s 5ms/step\n",
            "Target:  Legalization of Abortion\n",
            "              precision    recall  f1-score   support\n",
            "\n",
            "     AGAINST       0.77      0.67      0.72       189\n",
            "       FAVOR       0.25      0.33      0.29        46\n",
            "        NONE       0.41      0.51      0.46        45\n",
            "\n",
            "    accuracy                           0.59       280\n",
            "   macro avg       0.48      0.50      0.49       280\n",
            "weighted avg       0.63      0.59      0.60       280\n",
            "\n",
            "----------------------------------------- \n",
            "\n",
            "23/23 [==============================] - 0s 5ms/step\n"
          ]
        },
        {
          "name": "stderr",
          "output_type": "stream",
          "text": [
            "<ipython-input-43-4f18972863bd>:53: FutureWarning: The frame.append method is deprecated and will be removed from pandas in a future version. Use pandas.concat instead.\n",
            "  metrics_df = metrics_df.append(report_data, ignore_index=True)\n"
          ]
        },
        {
          "name": "stdout",
          "output_type": "stream",
          "text": [
            "Target:  Donald Trump\n",
            "              precision    recall  f1-score   support\n",
            "\n",
            "     AGAINST       0.50      0.43      0.46       299\n",
            "       FAVOR       0.33      0.20      0.25       148\n",
            "        NONE       0.40      0.55      0.46       260\n",
            "\n",
            "    accuracy                           0.43       707\n",
            "   macro avg       0.41      0.40      0.39       707\n",
            "weighted avg       0.43      0.43      0.42       707\n",
            "\n",
            "----------------------------------------- \n",
            "\n"
          ]
        },
        {
          "name": "stderr",
          "output_type": "stream",
          "text": [
            "<ipython-input-43-4f18972863bd>:53: FutureWarning: The frame.append method is deprecated and will be removed from pandas in a future version. Use pandas.concat instead.\n",
            "  metrics_df = metrics_df.append(report_data, ignore_index=True)\n"
          ]
        },
        {
          "data": {
            "text/html": [
              "\n",
              "  <div id=\"df-6727f743-c162-44e1-920e-e5cc99486157\" class=\"colab-df-container\">\n",
              "    <div>\n",
              "<style scoped>\n",
              "    .dataframe tbody tr th:only-of-type {\n",
              "        vertical-align: middle;\n",
              "    }\n",
              "\n",
              "    .dataframe tbody tr th {\n",
              "        vertical-align: top;\n",
              "    }\n",
              "\n",
              "    .dataframe thead th {\n",
              "        text-align: right;\n",
              "    }\n",
              "</style>\n",
              "<table border=\"1\" class=\"dataframe\">\n",
              "  <thead>\n",
              "    <tr style=\"text-align: right;\">\n",
              "      <th></th>\n",
              "      <th>Weighted F1</th>\n",
              "      <th>Macro F1</th>\n",
              "      <th>Accuracy</th>\n",
              "    </tr>\n",
              "    <tr>\n",
              "      <th>Target</th>\n",
              "      <th></th>\n",
              "      <th></th>\n",
              "      <th></th>\n",
              "    </tr>\n",
              "  </thead>\n",
              "  <tbody>\n",
              "    <tr>\n",
              "      <th>Atheism</th>\n",
              "      <td>0.669518</td>\n",
              "      <td>0.511693</td>\n",
              "      <td>0.654545</td>\n",
              "    </tr>\n",
              "    <tr>\n",
              "      <th>Climate Change is a Real Concern</th>\n",
              "      <td>0.650189</td>\n",
              "      <td>0.453371</td>\n",
              "      <td>0.627219</td>\n",
              "    </tr>\n",
              "    <tr>\n",
              "      <th>Feminist Movement</th>\n",
              "      <td>0.611741</td>\n",
              "      <td>0.551266</td>\n",
              "      <td>0.600000</td>\n",
              "    </tr>\n",
              "    <tr>\n",
              "      <th>Hillary Clinton</th>\n",
              "      <td>0.582169</td>\n",
              "      <td>0.470185</td>\n",
              "      <td>0.583051</td>\n",
              "    </tr>\n",
              "    <tr>\n",
              "      <th>Legalization of Abortion</th>\n",
              "      <td>0.604457</td>\n",
              "      <td>0.486225</td>\n",
              "      <td>0.589286</td>\n",
              "    </tr>\n",
              "    <tr>\n",
              "      <th>Donald Trump</th>\n",
              "      <td>0.419923</td>\n",
              "      <td>0.393578</td>\n",
              "      <td>0.428571</td>\n",
              "    </tr>\n",
              "  </tbody>\n",
              "</table>\n",
              "</div>\n",
              "    <div class=\"colab-df-buttons\">\n",
              "\n",
              "  <div class=\"colab-df-container\">\n",
              "    <button class=\"colab-df-convert\" onclick=\"convertToInteractive('df-6727f743-c162-44e1-920e-e5cc99486157')\"\n",
              "            title=\"Convert this dataframe to an interactive table.\"\n",
              "            style=\"display:none;\">\n",
              "\n",
              "  <svg xmlns=\"http://www.w3.org/2000/svg\" height=\"24px\" viewBox=\"0 -960 960 960\">\n",
              "    <path d=\"M120-120v-720h720v720H120Zm60-500h600v-160H180v160Zm220 220h160v-160H400v160Zm0 220h160v-160H400v160ZM180-400h160v-160H180v160Zm440 0h160v-160H620v160ZM180-180h160v-160H180v160Zm440 0h160v-160H620v160Z\"/>\n",
              "  </svg>\n",
              "    </button>\n",
              "\n",
              "  <style>\n",
              "    .colab-df-container {\n",
              "      display:flex;\n",
              "      gap: 12px;\n",
              "    }\n",
              "\n",
              "    .colab-df-convert {\n",
              "      background-color: #E8F0FE;\n",
              "      border: none;\n",
              "      border-radius: 50%;\n",
              "      cursor: pointer;\n",
              "      display: none;\n",
              "      fill: #1967D2;\n",
              "      height: 32px;\n",
              "      padding: 0 0 0 0;\n",
              "      width: 32px;\n",
              "    }\n",
              "\n",
              "    .colab-df-convert:hover {\n",
              "      background-color: #E2EBFA;\n",
              "      box-shadow: 0px 1px 2px rgba(60, 64, 67, 0.3), 0px 1px 3px 1px rgba(60, 64, 67, 0.15);\n",
              "      fill: #174EA6;\n",
              "    }\n",
              "\n",
              "    .colab-df-buttons div {\n",
              "      margin-bottom: 4px;\n",
              "    }\n",
              "\n",
              "    [theme=dark] .colab-df-convert {\n",
              "      background-color: #3B4455;\n",
              "      fill: #D2E3FC;\n",
              "    }\n",
              "\n",
              "    [theme=dark] .colab-df-convert:hover {\n",
              "      background-color: #434B5C;\n",
              "      box-shadow: 0px 1px 3px 1px rgba(0, 0, 0, 0.15);\n",
              "      filter: drop-shadow(0px 1px 2px rgba(0, 0, 0, 0.3));\n",
              "      fill: #FFFFFF;\n",
              "    }\n",
              "  </style>\n",
              "\n",
              "    <script>\n",
              "      const buttonEl =\n",
              "        document.querySelector('#df-6727f743-c162-44e1-920e-e5cc99486157 button.colab-df-convert');\n",
              "      buttonEl.style.display =\n",
              "        google.colab.kernel.accessAllowed ? 'block' : 'none';\n",
              "\n",
              "      async function convertToInteractive(key) {\n",
              "        const element = document.querySelector('#df-6727f743-c162-44e1-920e-e5cc99486157');\n",
              "        const dataTable =\n",
              "          await google.colab.kernel.invokeFunction('convertToInteractive',\n",
              "                                                    [key], {});\n",
              "        if (!dataTable) return;\n",
              "\n",
              "        const docLinkHtml = 'Like what you see? Visit the ' +\n",
              "          '<a target=\"_blank\" href=https://colab.research.google.com/notebooks/data_table.ipynb>data table notebook</a>'\n",
              "          + ' to learn more about interactive tables.';\n",
              "        element.innerHTML = '';\n",
              "        dataTable['output_type'] = 'display_data';\n",
              "        await google.colab.output.renderOutput(dataTable, element);\n",
              "        const docLink = document.createElement('div');\n",
              "        docLink.innerHTML = docLinkHtml;\n",
              "        element.appendChild(docLink);\n",
              "      }\n",
              "    </script>\n",
              "  </div>\n",
              "\n",
              "\n",
              "<div id=\"df-edf3f633-5fff-4528-9e2b-1db8a5899718\">\n",
              "  <button class=\"colab-df-quickchart\" onclick=\"quickchart('df-edf3f633-5fff-4528-9e2b-1db8a5899718')\"\n",
              "            title=\"Suggest charts\"\n",
              "            style=\"display:none;\">\n",
              "\n",
              "<svg xmlns=\"http://www.w3.org/2000/svg\" height=\"24px\"viewBox=\"0 0 24 24\"\n",
              "     width=\"24px\">\n",
              "    <g>\n",
              "        <path d=\"M19 3H5c-1.1 0-2 .9-2 2v14c0 1.1.9 2 2 2h14c1.1 0 2-.9 2-2V5c0-1.1-.9-2-2-2zM9 17H7v-7h2v7zm4 0h-2V7h2v10zm4 0h-2v-4h2v4z\"/>\n",
              "    </g>\n",
              "</svg>\n",
              "  </button>\n",
              "\n",
              "<style>\n",
              "  .colab-df-quickchart {\n",
              "      --bg-color: #E8F0FE;\n",
              "      --fill-color: #1967D2;\n",
              "      --hover-bg-color: #E2EBFA;\n",
              "      --hover-fill-color: #174EA6;\n",
              "      --disabled-fill-color: #AAA;\n",
              "      --disabled-bg-color: #DDD;\n",
              "  }\n",
              "\n",
              "  [theme=dark] .colab-df-quickchart {\n",
              "      --bg-color: #3B4455;\n",
              "      --fill-color: #D2E3FC;\n",
              "      --hover-bg-color: #434B5C;\n",
              "      --hover-fill-color: #FFFFFF;\n",
              "      --disabled-bg-color: #3B4455;\n",
              "      --disabled-fill-color: #666;\n",
              "  }\n",
              "\n",
              "  .colab-df-quickchart {\n",
              "    background-color: var(--bg-color);\n",
              "    border: none;\n",
              "    border-radius: 50%;\n",
              "    cursor: pointer;\n",
              "    display: none;\n",
              "    fill: var(--fill-color);\n",
              "    height: 32px;\n",
              "    padding: 0;\n",
              "    width: 32px;\n",
              "  }\n",
              "\n",
              "  .colab-df-quickchart:hover {\n",
              "    background-color: var(--hover-bg-color);\n",
              "    box-shadow: 0 1px 2px rgba(60, 64, 67, 0.3), 0 1px 3px 1px rgba(60, 64, 67, 0.15);\n",
              "    fill: var(--button-hover-fill-color);\n",
              "  }\n",
              "\n",
              "  .colab-df-quickchart-complete:disabled,\n",
              "  .colab-df-quickchart-complete:disabled:hover {\n",
              "    background-color: var(--disabled-bg-color);\n",
              "    fill: var(--disabled-fill-color);\n",
              "    box-shadow: none;\n",
              "  }\n",
              "\n",
              "  .colab-df-spinner {\n",
              "    border: 2px solid var(--fill-color);\n",
              "    border-color: transparent;\n",
              "    border-bottom-color: var(--fill-color);\n",
              "    animation:\n",
              "      spin 1s steps(1) infinite;\n",
              "  }\n",
              "\n",
              "  @keyframes spin {\n",
              "    0% {\n",
              "      border-color: transparent;\n",
              "      border-bottom-color: var(--fill-color);\n",
              "      border-left-color: var(--fill-color);\n",
              "    }\n",
              "    20% {\n",
              "      border-color: transparent;\n",
              "      border-left-color: var(--fill-color);\n",
              "      border-top-color: var(--fill-color);\n",
              "    }\n",
              "    30% {\n",
              "      border-color: transparent;\n",
              "      border-left-color: var(--fill-color);\n",
              "      border-top-color: var(--fill-color);\n",
              "      border-right-color: var(--fill-color);\n",
              "    }\n",
              "    40% {\n",
              "      border-color: transparent;\n",
              "      border-right-color: var(--fill-color);\n",
              "      border-top-color: var(--fill-color);\n",
              "    }\n",
              "    60% {\n",
              "      border-color: transparent;\n",
              "      border-right-color: var(--fill-color);\n",
              "    }\n",
              "    80% {\n",
              "      border-color: transparent;\n",
              "      border-right-color: var(--fill-color);\n",
              "      border-bottom-color: var(--fill-color);\n",
              "    }\n",
              "    90% {\n",
              "      border-color: transparent;\n",
              "      border-bottom-color: var(--fill-color);\n",
              "    }\n",
              "  }\n",
              "</style>\n",
              "\n",
              "  <script>\n",
              "    async function quickchart(key) {\n",
              "      const quickchartButtonEl =\n",
              "        document.querySelector('#' + key + ' button');\n",
              "      quickchartButtonEl.disabled = true;  // To prevent multiple clicks.\n",
              "      quickchartButtonEl.classList.add('colab-df-spinner');\n",
              "      try {\n",
              "        const charts = await google.colab.kernel.invokeFunction(\n",
              "            'suggestCharts', [key], {});\n",
              "      } catch (error) {\n",
              "        console.error('Error during call to suggestCharts:', error);\n",
              "      }\n",
              "      quickchartButtonEl.classList.remove('colab-df-spinner');\n",
              "      quickchartButtonEl.classList.add('colab-df-quickchart-complete');\n",
              "    }\n",
              "    (() => {\n",
              "      let quickchartButtonEl =\n",
              "        document.querySelector('#df-edf3f633-5fff-4528-9e2b-1db8a5899718 button');\n",
              "      quickchartButtonEl.style.display =\n",
              "        google.colab.kernel.accessAllowed ? 'block' : 'none';\n",
              "    })();\n",
              "  </script>\n",
              "</div>\n",
              "\n",
              "  <div id=\"id_b9bcafbc-9c2c-4e2e-bdb9-a46925234222\">\n",
              "    <style>\n",
              "      .colab-df-generate {\n",
              "        background-color: #E8F0FE;\n",
              "        border: none;\n",
              "        border-radius: 50%;\n",
              "        cursor: pointer;\n",
              "        display: none;\n",
              "        fill: #1967D2;\n",
              "        height: 32px;\n",
              "        padding: 0 0 0 0;\n",
              "        width: 32px;\n",
              "      }\n",
              "\n",
              "      .colab-df-generate:hover {\n",
              "        background-color: #E2EBFA;\n",
              "        box-shadow: 0px 1px 2px rgba(60, 64, 67, 0.3), 0px 1px 3px 1px rgba(60, 64, 67, 0.15);\n",
              "        fill: #174EA6;\n",
              "      }\n",
              "\n",
              "      [theme=dark] .colab-df-generate {\n",
              "        background-color: #3B4455;\n",
              "        fill: #D2E3FC;\n",
              "      }\n",
              "\n",
              "      [theme=dark] .colab-df-generate:hover {\n",
              "        background-color: #434B5C;\n",
              "        box-shadow: 0px 1px 3px 1px rgba(0, 0, 0, 0.15);\n",
              "        filter: drop-shadow(0px 1px 2px rgba(0, 0, 0, 0.3));\n",
              "        fill: #FFFFFF;\n",
              "      }\n",
              "    </style>\n",
              "    <button class=\"colab-df-generate\" onclick=\"generateWithVariable('model_metrics_df')\"\n",
              "            title=\"Generate code using this dataframe.\"\n",
              "            style=\"display:none;\">\n",
              "\n",
              "  <svg xmlns=\"http://www.w3.org/2000/svg\" height=\"24px\"viewBox=\"0 0 24 24\"\n",
              "       width=\"24px\">\n",
              "    <path d=\"M7,19H8.4L18.45,9,17,7.55,7,17.6ZM5,21V16.75L18.45,3.32a2,2,0,0,1,2.83,0l1.4,1.43a1.91,1.91,0,0,1,.58,1.4,1.91,1.91,0,0,1-.58,1.4L9.25,21ZM18.45,9,17,7.55Zm-12,3A5.31,5.31,0,0,0,4.9,8.1,5.31,5.31,0,0,0,1,6.5,5.31,5.31,0,0,0,4.9,4.9,5.31,5.31,0,0,0,6.5,1,5.31,5.31,0,0,0,8.1,4.9,5.31,5.31,0,0,0,12,6.5,5.46,5.46,0,0,0,6.5,12Z\"/>\n",
              "  </svg>\n",
              "    </button>\n",
              "    <script>\n",
              "      (() => {\n",
              "      const buttonEl =\n",
              "        document.querySelector('#id_b9bcafbc-9c2c-4e2e-bdb9-a46925234222 button.colab-df-generate');\n",
              "      buttonEl.style.display =\n",
              "        google.colab.kernel.accessAllowed ? 'block' : 'none';\n",
              "\n",
              "      buttonEl.onclick = () => {\n",
              "        google.colab.notebook.generateWithVariable('model_metrics_df');\n",
              "      }\n",
              "      })();\n",
              "    </script>\n",
              "  </div>\n",
              "\n",
              "    </div>\n",
              "  </div>\n"
            ],
            "text/plain": [
              "                                  Weighted F1  Macro F1  Accuracy\n",
              "Target                                                           \n",
              "Atheism                              0.669518  0.511693  0.654545\n",
              "Climate Change is a Real Concern     0.650189  0.453371  0.627219\n",
              "Feminist Movement                    0.611741  0.551266  0.600000\n",
              "Hillary Clinton                      0.582169  0.470185  0.583051\n",
              "Legalization of Abortion             0.604457  0.486225  0.589286\n",
              "Donald Trump                         0.419923  0.393578  0.428571"
            ]
          },
          "execution_count": 44,
          "metadata": {},
          "output_type": "execute_result"
        }
      ],
      "source": [
        "# Use the function to get the metrics DataFrame\n",
        "model_metrics_df = load_classification_rp_per_target(best_model)\n",
        "model_metrics_df"
      ]
    },
    {
      "cell_type": "markdown",
      "metadata": {
        "id": "Ewqu4k9TPtB-"
      },
      "source": [
        "# [5] Fine Tuning"
      ]
    },
    {
      "cell_type": "code",
      "execution_count": 45,
      "metadata": {
        "colab": {
          "base_uri": "https://localhost:8080/"
        },
        "id": "-gsfh933Pu3U",
        "outputId": "02fceaa6-c581-4bc6-87cc-1e8ec0bb2edc"
      },
      "outputs": [
        {
          "name": "stdout",
          "output_type": "stream",
          "text": [
            "Epoch 1/10\n",
            "93/95 [============================>.] - ETA: 0s - loss: 0.8810 - categorical_accuracy: 0.7174 - f1_score: 0.6934\n",
            "Epoch 1: saving model to stance_best_model_tuned_weights_balanced.h5\n",
            "95/95 [==============================] - 9s 34ms/step - loss: 0.8814 - categorical_accuracy: 0.7158 - f1_score: 0.6914 - val_loss: 1.1393 - val_categorical_accuracy: 0.5950 - val_f1_score: 0.5770\n",
            "Epoch 2/10\n",
            "93/95 [============================>.] - ETA: 0s - loss: 0.8825 - categorical_accuracy: 0.7151 - f1_score: 0.6922\n",
            "Epoch 2: saving model to stance_best_model_tuned_weights_balanced.h5\n",
            "95/95 [==============================] - 2s 17ms/step - loss: 0.8822 - categorical_accuracy: 0.7142 - f1_score: 0.6914 - val_loss: 1.1370 - val_categorical_accuracy: 0.5963 - val_f1_score: 0.5780\n",
            "Epoch 3/10\n",
            "93/95 [============================>.] - ETA: 0s - loss: 0.8580 - categorical_accuracy: 0.7335 - f1_score: 0.7121\n",
            "Epoch 3: saving model to stance_best_model_tuned_weights_balanced.h5\n",
            "95/95 [==============================] - 2s 17ms/step - loss: 0.8588 - categorical_accuracy: 0.7327 - f1_score: 0.7116 - val_loss: 1.1364 - val_categorical_accuracy: 0.5884 - val_f1_score: 0.5697\n",
            "Epoch 4/10\n",
            "93/95 [============================>.] - ETA: 0s - loss: 0.8548 - categorical_accuracy: 0.7228 - f1_score: 0.7018\n",
            "Epoch 4: saving model to stance_best_model_tuned_weights_balanced.h5\n",
            "95/95 [==============================] - 2s 16ms/step - loss: 0.8559 - categorical_accuracy: 0.7228 - f1_score: 0.7030 - val_loss: 1.1362 - val_categorical_accuracy: 0.5884 - val_f1_score: 0.5702\n",
            "Epoch 5/10\n",
            "93/95 [============================>.] - ETA: 0s - loss: 0.8471 - categorical_accuracy: 0.7258 - f1_score: 0.7090\n",
            "Epoch 5: saving model to stance_best_model_tuned_weights_balanced.h5\n",
            "95/95 [==============================] - 2s 16ms/step - loss: 0.8468 - categorical_accuracy: 0.7257 - f1_score: 0.7080 - val_loss: 1.1355 - val_categorical_accuracy: 0.5884 - val_f1_score: 0.5710\n",
            "Epoch 6/10\n",
            "93/95 [============================>.] - ETA: 0s - loss: 0.8436 - categorical_accuracy: 0.7251 - f1_score: 0.7093\n",
            "Epoch 6: saving model to stance_best_model_tuned_weights_balanced.h5\n",
            "95/95 [==============================] - 2s 16ms/step - loss: 0.8446 - categorical_accuracy: 0.7251 - f1_score: 0.7085 - val_loss: 1.1363 - val_categorical_accuracy: 0.5937 - val_f1_score: 0.5769\n",
            "Epoch 7/10\n",
            "93/95 [============================>.] - ETA: 0s - loss: 0.8350 - categorical_accuracy: 0.7255 - f1_score: 0.7034\n",
            "Epoch 7: saving model to stance_best_model_tuned_weights_balanced.h5\n",
            "95/95 [==============================] - 2s 17ms/step - loss: 0.8360 - categorical_accuracy: 0.7248 - f1_score: 0.7019 - val_loss: 1.1350 - val_categorical_accuracy: 0.5950 - val_f1_score: 0.5779\n",
            "Epoch 8/10\n",
            "93/95 [============================>.] - ETA: 0s - loss: 0.8219 - categorical_accuracy: 0.7255 - f1_score: 0.7073\n",
            "Epoch 8: saving model to stance_best_model_tuned_weights_balanced.h5\n",
            "95/95 [==============================] - 2s 16ms/step - loss: 0.8253 - categorical_accuracy: 0.7248 - f1_score: 0.7069 - val_loss: 1.1372 - val_categorical_accuracy: 0.5963 - val_f1_score: 0.5792\n",
            "Epoch 9/10\n",
            "93/95 [============================>.] - ETA: 0s - loss: 0.8235 - categorical_accuracy: 0.7372 - f1_score: 0.7172\n",
            "Epoch 9: saving model to stance_best_model_tuned_weights_balanced.h5\n",
            "95/95 [==============================] - 2s 16ms/step - loss: 0.8221 - categorical_accuracy: 0.7376 - f1_score: 0.7181 - val_loss: 1.1380 - val_categorical_accuracy: 0.6016 - val_f1_score: 0.5864\n",
            "Epoch 10/10\n",
            "93/95 [============================>.] - ETA: 0s - loss: 0.8245 - categorical_accuracy: 0.7275 - f1_score: 0.7097\n",
            "Epoch 10: saving model to stance_best_model_tuned_weights_balanced.h5\n",
            "95/95 [==============================] - 2s 16ms/step - loss: 0.8224 - categorical_accuracy: 0.7294 - f1_score: 0.7118 - val_loss: 1.1389 - val_categorical_accuracy: 0.6016 - val_f1_score: 0.5864\n"
          ]
        }
      ],
      "source": [
        "for layer in best_model.layers:\n",
        "    layer.trainable = True\n",
        "   # Tuning the learning rate for the optimizer\n",
        "best_model.compile(optimizer=tf.keras.optimizers.legacy.Adam(1e-5),\n",
        "                  loss='categorical_crossentropy',\n",
        "                  metrics=['categorical_accuracy', f1_score])\n",
        "\n",
        "historyn = best_model.fit(train_pad, train_labels, epochs=10, validation_data=(val_pad, val_labels), batch_size=32, callbacks=callbacks1, shuffle=True)"
      ]
    },
    {
      "cell_type": "code",
      "execution_count": 46,
      "metadata": {
        "colab": {
          "base_uri": "https://localhost:8080/"
        },
        "id": "OupXgvufP8Q7",
        "outputId": "0d4607ac-6694-46a9-f3d6-4842d254f462"
      },
      "outputs": [
        {
          "name": "stdout",
          "output_type": "stream",
          "text": [
            "62/62 [==============================] - 2s 5ms/step\n",
            "              precision    recall  f1-score   support\n",
            "\n",
            "           0       0.70      0.55      0.62      1014\n",
            "           1       0.40      0.43      0.42       452\n",
            "           2       0.43      0.59      0.50       490\n",
            "\n",
            "    accuracy                           0.53      1956\n",
            "   macro avg       0.51      0.52      0.51      1956\n",
            "weighted avg       0.56      0.53      0.54      1956\n",
            "\n"
          ]
        }
      ],
      "source": [
        "# Get model predictions\n",
        "predictions = best_model.predict(test_pad)\n",
        "\n",
        "# Convert predictions to class labels\n",
        "predicted_labels = np.argmax(predictions, axis=1)\n",
        "\n",
        "# Assuming test_labels are one-hot encoded, convert them to class labels\n",
        "true_labels = np.argmax(test_labels, axis=1)\n",
        "\n",
        "# Generate classification report\n",
        "report = classification_report(true_labels, predicted_labels)\n",
        "print(report)"
      ]
    },
    {
      "cell_type": "code",
      "execution_count": 47,
      "metadata": {
        "colab": {
          "base_uri": "https://localhost:8080/",
          "height": 1000
        },
        "id": "d7kfdZ1RQBkO",
        "outputId": "8cba0696-ff2d-4478-8a24-3eb0b5e0880d"
      },
      "outputs": [
        {
          "name": "stdout",
          "output_type": "stream",
          "text": [
            "7/7 [==============================] - 0s 5ms/step\n",
            "Target:  Atheism\n",
            "              precision    recall  f1-score   support\n",
            "\n",
            "     AGAINST       0.84      0.72      0.78       160\n",
            "       FAVOR       0.28      0.34      0.31        32\n",
            "        NONE       0.38      0.57      0.46        28\n",
            "\n",
            "    accuracy                           0.65       220\n",
            "   macro avg       0.50      0.55      0.51       220\n",
            "weighted avg       0.70      0.65      0.67       220\n",
            "\n",
            "----------------------------------------- \n",
            "\n",
            "6/6 [==============================] - 0s 6ms/step\n",
            "Target:  Climate Change is a Real Concern\n",
            "              precision    recall  f1-score   support\n",
            "\n",
            "     AGAINST       0.13      0.18      0.15        11\n",
            "       FAVOR       0.82      0.71      0.76       123\n",
            "        NONE       0.40      0.54      0.46        35\n",
            "\n",
            "    accuracy                           0.64       169\n",
            "   macro avg       0.45      0.48      0.46       169\n",
            "weighted avg       0.69      0.64      0.66       169\n",
            "\n",
            "----------------------------------------- \n",
            "\n",
            "1/9 [==>...........................] - ETA: 0s"
          ]
        },
        {
          "name": "stderr",
          "output_type": "stream",
          "text": [
            "<ipython-input-43-4f18972863bd>:53: FutureWarning: The frame.append method is deprecated and will be removed from pandas in a future version. Use pandas.concat instead.\n",
            "  metrics_df = metrics_df.append(report_data, ignore_index=True)\n",
            "<ipython-input-43-4f18972863bd>:53: FutureWarning: The frame.append method is deprecated and will be removed from pandas in a future version. Use pandas.concat instead.\n",
            "  metrics_df = metrics_df.append(report_data, ignore_index=True)\n"
          ]
        },
        {
          "name": "stdout",
          "output_type": "stream",
          "text": [
            "\b\b\b\b\b\b\b\b\b\b\b\b\b\b\b\b\b\b\b\b\b\b\b\b\b\b\b\b\b\b\b\b\b\b\b\b\b\b\b\b\b\b\b\b\b\b\r9/9 [==============================] - 0s 6ms/step\n",
            "Target:  Feminist Movement\n",
            "              precision    recall  f1-score   support\n",
            "\n",
            "     AGAINST       0.79      0.52      0.63       183\n",
            "       FAVOR       0.32      0.50      0.39        58\n",
            "        NONE       0.45      0.73      0.56        44\n",
            "\n",
            "    accuracy                           0.55       285\n",
            "   macro avg       0.52      0.58      0.52       285\n",
            "weighted avg       0.64      0.55      0.57       285\n",
            "\n",
            "----------------------------------------- \n",
            "\n",
            "10/10 [==============================] - 0s 5ms/step\n",
            "Target:  Hillary Clinton\n",
            "              precision    recall  f1-score   support\n",
            "\n",
            "     AGAINST       0.76      0.64      0.70       172\n",
            "       FAVOR       0.18      0.18      0.18        45\n",
            "        NONE       0.47      0.64      0.54        78\n",
            "\n",
            "    accuracy                           0.57       295\n",
            "   macro avg       0.47      0.49      0.47       295\n",
            "weighted avg       0.60      0.57      0.58       295\n",
            "\n",
            "----------------------------------------- \n",
            "\n",
            "1/9 [==>...........................] - ETA: 0s"
          ]
        },
        {
          "name": "stderr",
          "output_type": "stream",
          "text": [
            "<ipython-input-43-4f18972863bd>:53: FutureWarning: The frame.append method is deprecated and will be removed from pandas in a future version. Use pandas.concat instead.\n",
            "  metrics_df = metrics_df.append(report_data, ignore_index=True)\n",
            "<ipython-input-43-4f18972863bd>:53: FutureWarning: The frame.append method is deprecated and will be removed from pandas in a future version. Use pandas.concat instead.\n",
            "  metrics_df = metrics_df.append(report_data, ignore_index=True)\n"
          ]
        },
        {
          "name": "stdout",
          "output_type": "stream",
          "text": [
            "\b\b\b\b\b\b\b\b\b\b\b\b\b\b\b\b\b\b\b\b\b\b\b\b\b\b\b\b\b\b\b\b\b\b\b\b\b\b\b\b\b\b\b\b\b\b\r9/9 [==============================] - 0s 5ms/step\n",
            "Target:  Legalization of Abortion\n",
            "              precision    recall  f1-score   support\n",
            "\n",
            "     AGAINST       0.80      0.65      0.72       189\n",
            "       FAVOR       0.26      0.41      0.32        46\n",
            "        NONE       0.39      0.49      0.44        45\n",
            "\n",
            "    accuracy                           0.58       280\n",
            "   macro avg       0.49      0.52      0.49       280\n",
            "weighted avg       0.65      0.58      0.61       280\n",
            "\n",
            "----------------------------------------- \n",
            "\n",
            "23/23 [==============================] - 0s 5ms/step\n"
          ]
        },
        {
          "name": "stderr",
          "output_type": "stream",
          "text": [
            "<ipython-input-43-4f18972863bd>:53: FutureWarning: The frame.append method is deprecated and will be removed from pandas in a future version. Use pandas.concat instead.\n",
            "  metrics_df = metrics_df.append(report_data, ignore_index=True)\n"
          ]
        },
        {
          "name": "stdout",
          "output_type": "stream",
          "text": [
            "Target:  Donald Trump\n",
            "              precision    recall  f1-score   support\n",
            "\n",
            "     AGAINST       0.50      0.37      0.42       299\n",
            "       FAVOR       0.31      0.28      0.29       148\n",
            "        NONE       0.43      0.58      0.50       260\n",
            "\n",
            "    accuracy                           0.43       707\n",
            "   macro avg       0.41      0.41      0.40       707\n",
            "weighted avg       0.43      0.43      0.42       707\n",
            "\n",
            "----------------------------------------- \n",
            "\n"
          ]
        },
        {
          "name": "stderr",
          "output_type": "stream",
          "text": [
            "<ipython-input-43-4f18972863bd>:53: FutureWarning: The frame.append method is deprecated and will be removed from pandas in a future version. Use pandas.concat instead.\n",
            "  metrics_df = metrics_df.append(report_data, ignore_index=True)\n"
          ]
        },
        {
          "data": {
            "text/html": [
              "\n",
              "  <div id=\"df-fef206cf-b3dc-48f1-b8f5-d2c902b61d0a\" class=\"colab-df-container\">\n",
              "    <div>\n",
              "<style scoped>\n",
              "    .dataframe tbody tr th:only-of-type {\n",
              "        vertical-align: middle;\n",
              "    }\n",
              "\n",
              "    .dataframe tbody tr th {\n",
              "        vertical-align: top;\n",
              "    }\n",
              "\n",
              "    .dataframe thead th {\n",
              "        text-align: right;\n",
              "    }\n",
              "</style>\n",
              "<table border=\"1\" class=\"dataframe\">\n",
              "  <thead>\n",
              "    <tr style=\"text-align: right;\">\n",
              "      <th></th>\n",
              "      <th>Weighted F1</th>\n",
              "      <th>Macro F1</th>\n",
              "      <th>Accuracy</th>\n",
              "    </tr>\n",
              "    <tr>\n",
              "      <th>Target</th>\n",
              "      <th></th>\n",
              "      <th></th>\n",
              "      <th></th>\n",
              "    </tr>\n",
              "  </thead>\n",
              "  <tbody>\n",
              "    <tr>\n",
              "      <th>Atheism</th>\n",
              "      <td>0.668825</td>\n",
              "      <td>0.513741</td>\n",
              "      <td>0.650000</td>\n",
              "    </tr>\n",
              "    <tr>\n",
              "      <th>Climate Change is a Real Concern</th>\n",
              "      <td>0.657840</td>\n",
              "      <td>0.457168</td>\n",
              "      <td>0.639053</td>\n",
              "    </tr>\n",
              "    <tr>\n",
              "      <th>Feminist Movement</th>\n",
              "      <td>0.568820</td>\n",
              "      <td>0.524232</td>\n",
              "      <td>0.550877</td>\n",
              "    </tr>\n",
              "    <tr>\n",
              "      <th>Hillary Clinton</th>\n",
              "      <td>0.576739</td>\n",
              "      <td>0.472486</td>\n",
              "      <td>0.569492</td>\n",
              "    </tr>\n",
              "    <tr>\n",
              "      <th>Legalization of Abortion</th>\n",
              "      <td>0.605911</td>\n",
              "      <td>0.491073</td>\n",
              "      <td>0.582143</td>\n",
              "    </tr>\n",
              "    <tr>\n",
              "      <th>Donald Trump</th>\n",
              "      <td>0.422990</td>\n",
              "      <td>0.404570</td>\n",
              "      <td>0.428571</td>\n",
              "    </tr>\n",
              "  </tbody>\n",
              "</table>\n",
              "</div>\n",
              "    <div class=\"colab-df-buttons\">\n",
              "\n",
              "  <div class=\"colab-df-container\">\n",
              "    <button class=\"colab-df-convert\" onclick=\"convertToInteractive('df-fef206cf-b3dc-48f1-b8f5-d2c902b61d0a')\"\n",
              "            title=\"Convert this dataframe to an interactive table.\"\n",
              "            style=\"display:none;\">\n",
              "\n",
              "  <svg xmlns=\"http://www.w3.org/2000/svg\" height=\"24px\" viewBox=\"0 -960 960 960\">\n",
              "    <path d=\"M120-120v-720h720v720H120Zm60-500h600v-160H180v160Zm220 220h160v-160H400v160Zm0 220h160v-160H400v160ZM180-400h160v-160H180v160Zm440 0h160v-160H620v160ZM180-180h160v-160H180v160Zm440 0h160v-160H620v160Z\"/>\n",
              "  </svg>\n",
              "    </button>\n",
              "\n",
              "  <style>\n",
              "    .colab-df-container {\n",
              "      display:flex;\n",
              "      gap: 12px;\n",
              "    }\n",
              "\n",
              "    .colab-df-convert {\n",
              "      background-color: #E8F0FE;\n",
              "      border: none;\n",
              "      border-radius: 50%;\n",
              "      cursor: pointer;\n",
              "      display: none;\n",
              "      fill: #1967D2;\n",
              "      height: 32px;\n",
              "      padding: 0 0 0 0;\n",
              "      width: 32px;\n",
              "    }\n",
              "\n",
              "    .colab-df-convert:hover {\n",
              "      background-color: #E2EBFA;\n",
              "      box-shadow: 0px 1px 2px rgba(60, 64, 67, 0.3), 0px 1px 3px 1px rgba(60, 64, 67, 0.15);\n",
              "      fill: #174EA6;\n",
              "    }\n",
              "\n",
              "    .colab-df-buttons div {\n",
              "      margin-bottom: 4px;\n",
              "    }\n",
              "\n",
              "    [theme=dark] .colab-df-convert {\n",
              "      background-color: #3B4455;\n",
              "      fill: #D2E3FC;\n",
              "    }\n",
              "\n",
              "    [theme=dark] .colab-df-convert:hover {\n",
              "      background-color: #434B5C;\n",
              "      box-shadow: 0px 1px 3px 1px rgba(0, 0, 0, 0.15);\n",
              "      filter: drop-shadow(0px 1px 2px rgba(0, 0, 0, 0.3));\n",
              "      fill: #FFFFFF;\n",
              "    }\n",
              "  </style>\n",
              "\n",
              "    <script>\n",
              "      const buttonEl =\n",
              "        document.querySelector('#df-fef206cf-b3dc-48f1-b8f5-d2c902b61d0a button.colab-df-convert');\n",
              "      buttonEl.style.display =\n",
              "        google.colab.kernel.accessAllowed ? 'block' : 'none';\n",
              "\n",
              "      async function convertToInteractive(key) {\n",
              "        const element = document.querySelector('#df-fef206cf-b3dc-48f1-b8f5-d2c902b61d0a');\n",
              "        const dataTable =\n",
              "          await google.colab.kernel.invokeFunction('convertToInteractive',\n",
              "                                                    [key], {});\n",
              "        if (!dataTable) return;\n",
              "\n",
              "        const docLinkHtml = 'Like what you see? Visit the ' +\n",
              "          '<a target=\"_blank\" href=https://colab.research.google.com/notebooks/data_table.ipynb>data table notebook</a>'\n",
              "          + ' to learn more about interactive tables.';\n",
              "        element.innerHTML = '';\n",
              "        dataTable['output_type'] = 'display_data';\n",
              "        await google.colab.output.renderOutput(dataTable, element);\n",
              "        const docLink = document.createElement('div');\n",
              "        docLink.innerHTML = docLinkHtml;\n",
              "        element.appendChild(docLink);\n",
              "      }\n",
              "    </script>\n",
              "  </div>\n",
              "\n",
              "\n",
              "<div id=\"df-6bf09a12-fbe5-437b-969b-771fd0d6e2e2\">\n",
              "  <button class=\"colab-df-quickchart\" onclick=\"quickchart('df-6bf09a12-fbe5-437b-969b-771fd0d6e2e2')\"\n",
              "            title=\"Suggest charts\"\n",
              "            style=\"display:none;\">\n",
              "\n",
              "<svg xmlns=\"http://www.w3.org/2000/svg\" height=\"24px\"viewBox=\"0 0 24 24\"\n",
              "     width=\"24px\">\n",
              "    <g>\n",
              "        <path d=\"M19 3H5c-1.1 0-2 .9-2 2v14c0 1.1.9 2 2 2h14c1.1 0 2-.9 2-2V5c0-1.1-.9-2-2-2zM9 17H7v-7h2v7zm4 0h-2V7h2v10zm4 0h-2v-4h2v4z\"/>\n",
              "    </g>\n",
              "</svg>\n",
              "  </button>\n",
              "\n",
              "<style>\n",
              "  .colab-df-quickchart {\n",
              "      --bg-color: #E8F0FE;\n",
              "      --fill-color: #1967D2;\n",
              "      --hover-bg-color: #E2EBFA;\n",
              "      --hover-fill-color: #174EA6;\n",
              "      --disabled-fill-color: #AAA;\n",
              "      --disabled-bg-color: #DDD;\n",
              "  }\n",
              "\n",
              "  [theme=dark] .colab-df-quickchart {\n",
              "      --bg-color: #3B4455;\n",
              "      --fill-color: #D2E3FC;\n",
              "      --hover-bg-color: #434B5C;\n",
              "      --hover-fill-color: #FFFFFF;\n",
              "      --disabled-bg-color: #3B4455;\n",
              "      --disabled-fill-color: #666;\n",
              "  }\n",
              "\n",
              "  .colab-df-quickchart {\n",
              "    background-color: var(--bg-color);\n",
              "    border: none;\n",
              "    border-radius: 50%;\n",
              "    cursor: pointer;\n",
              "    display: none;\n",
              "    fill: var(--fill-color);\n",
              "    height: 32px;\n",
              "    padding: 0;\n",
              "    width: 32px;\n",
              "  }\n",
              "\n",
              "  .colab-df-quickchart:hover {\n",
              "    background-color: var(--hover-bg-color);\n",
              "    box-shadow: 0 1px 2px rgba(60, 64, 67, 0.3), 0 1px 3px 1px rgba(60, 64, 67, 0.15);\n",
              "    fill: var(--button-hover-fill-color);\n",
              "  }\n",
              "\n",
              "  .colab-df-quickchart-complete:disabled,\n",
              "  .colab-df-quickchart-complete:disabled:hover {\n",
              "    background-color: var(--disabled-bg-color);\n",
              "    fill: var(--disabled-fill-color);\n",
              "    box-shadow: none;\n",
              "  }\n",
              "\n",
              "  .colab-df-spinner {\n",
              "    border: 2px solid var(--fill-color);\n",
              "    border-color: transparent;\n",
              "    border-bottom-color: var(--fill-color);\n",
              "    animation:\n",
              "      spin 1s steps(1) infinite;\n",
              "  }\n",
              "\n",
              "  @keyframes spin {\n",
              "    0% {\n",
              "      border-color: transparent;\n",
              "      border-bottom-color: var(--fill-color);\n",
              "      border-left-color: var(--fill-color);\n",
              "    }\n",
              "    20% {\n",
              "      border-color: transparent;\n",
              "      border-left-color: var(--fill-color);\n",
              "      border-top-color: var(--fill-color);\n",
              "    }\n",
              "    30% {\n",
              "      border-color: transparent;\n",
              "      border-left-color: var(--fill-color);\n",
              "      border-top-color: var(--fill-color);\n",
              "      border-right-color: var(--fill-color);\n",
              "    }\n",
              "    40% {\n",
              "      border-color: transparent;\n",
              "      border-right-color: var(--fill-color);\n",
              "      border-top-color: var(--fill-color);\n",
              "    }\n",
              "    60% {\n",
              "      border-color: transparent;\n",
              "      border-right-color: var(--fill-color);\n",
              "    }\n",
              "    80% {\n",
              "      border-color: transparent;\n",
              "      border-right-color: var(--fill-color);\n",
              "      border-bottom-color: var(--fill-color);\n",
              "    }\n",
              "    90% {\n",
              "      border-color: transparent;\n",
              "      border-bottom-color: var(--fill-color);\n",
              "    }\n",
              "  }\n",
              "</style>\n",
              "\n",
              "  <script>\n",
              "    async function quickchart(key) {\n",
              "      const quickchartButtonEl =\n",
              "        document.querySelector('#' + key + ' button');\n",
              "      quickchartButtonEl.disabled = true;  // To prevent multiple clicks.\n",
              "      quickchartButtonEl.classList.add('colab-df-spinner');\n",
              "      try {\n",
              "        const charts = await google.colab.kernel.invokeFunction(\n",
              "            'suggestCharts', [key], {});\n",
              "      } catch (error) {\n",
              "        console.error('Error during call to suggestCharts:', error);\n",
              "      }\n",
              "      quickchartButtonEl.classList.remove('colab-df-spinner');\n",
              "      quickchartButtonEl.classList.add('colab-df-quickchart-complete');\n",
              "    }\n",
              "    (() => {\n",
              "      let quickchartButtonEl =\n",
              "        document.querySelector('#df-6bf09a12-fbe5-437b-969b-771fd0d6e2e2 button');\n",
              "      quickchartButtonEl.style.display =\n",
              "        google.colab.kernel.accessAllowed ? 'block' : 'none';\n",
              "    })();\n",
              "  </script>\n",
              "</div>\n",
              "\n",
              "  <div id=\"id_dbd869e3-ea31-459a-b016-de9246604ae0\">\n",
              "    <style>\n",
              "      .colab-df-generate {\n",
              "        background-color: #E8F0FE;\n",
              "        border: none;\n",
              "        border-radius: 50%;\n",
              "        cursor: pointer;\n",
              "        display: none;\n",
              "        fill: #1967D2;\n",
              "        height: 32px;\n",
              "        padding: 0 0 0 0;\n",
              "        width: 32px;\n",
              "      }\n",
              "\n",
              "      .colab-df-generate:hover {\n",
              "        background-color: #E2EBFA;\n",
              "        box-shadow: 0px 1px 2px rgba(60, 64, 67, 0.3), 0px 1px 3px 1px rgba(60, 64, 67, 0.15);\n",
              "        fill: #174EA6;\n",
              "      }\n",
              "\n",
              "      [theme=dark] .colab-df-generate {\n",
              "        background-color: #3B4455;\n",
              "        fill: #D2E3FC;\n",
              "      }\n",
              "\n",
              "      [theme=dark] .colab-df-generate:hover {\n",
              "        background-color: #434B5C;\n",
              "        box-shadow: 0px 1px 3px 1px rgba(0, 0, 0, 0.15);\n",
              "        filter: drop-shadow(0px 1px 2px rgba(0, 0, 0, 0.3));\n",
              "        fill: #FFFFFF;\n",
              "      }\n",
              "    </style>\n",
              "    <button class=\"colab-df-generate\" onclick=\"generateWithVariable('model_metrics_df')\"\n",
              "            title=\"Generate code using this dataframe.\"\n",
              "            style=\"display:none;\">\n",
              "\n",
              "  <svg xmlns=\"http://www.w3.org/2000/svg\" height=\"24px\"viewBox=\"0 0 24 24\"\n",
              "       width=\"24px\">\n",
              "    <path d=\"M7,19H8.4L18.45,9,17,7.55,7,17.6ZM5,21V16.75L18.45,3.32a2,2,0,0,1,2.83,0l1.4,1.43a1.91,1.91,0,0,1,.58,1.4,1.91,1.91,0,0,1-.58,1.4L9.25,21ZM18.45,9,17,7.55Zm-12,3A5.31,5.31,0,0,0,4.9,8.1,5.31,5.31,0,0,0,1,6.5,5.31,5.31,0,0,0,4.9,4.9,5.31,5.31,0,0,0,6.5,1,5.31,5.31,0,0,0,8.1,4.9,5.31,5.31,0,0,0,12,6.5,5.46,5.46,0,0,0,6.5,12Z\"/>\n",
              "  </svg>\n",
              "    </button>\n",
              "    <script>\n",
              "      (() => {\n",
              "      const buttonEl =\n",
              "        document.querySelector('#id_dbd869e3-ea31-459a-b016-de9246604ae0 button.colab-df-generate');\n",
              "      buttonEl.style.display =\n",
              "        google.colab.kernel.accessAllowed ? 'block' : 'none';\n",
              "\n",
              "      buttonEl.onclick = () => {\n",
              "        google.colab.notebook.generateWithVariable('model_metrics_df');\n",
              "      }\n",
              "      })();\n",
              "    </script>\n",
              "  </div>\n",
              "\n",
              "    </div>\n",
              "  </div>\n"
            ],
            "text/plain": [
              "                                  Weighted F1  Macro F1  Accuracy\n",
              "Target                                                           \n",
              "Atheism                              0.668825  0.513741  0.650000\n",
              "Climate Change is a Real Concern     0.657840  0.457168  0.639053\n",
              "Feminist Movement                    0.568820  0.524232  0.550877\n",
              "Hillary Clinton                      0.576739  0.472486  0.569492\n",
              "Legalization of Abortion             0.605911  0.491073  0.582143\n",
              "Donald Trump                         0.422990  0.404570  0.428571"
            ]
          },
          "execution_count": 47,
          "metadata": {},
          "output_type": "execute_result"
        }
      ],
      "source": [
        "# Use the function to get the metrics DataFrame\n",
        "model_metrics_df = load_classification_rp_per_target(best_model)\n",
        "model_metrics_df"
      ]
    },
    {
      "cell_type": "code",
      "execution_count": null,
      "metadata": {},
      "outputs": [],
      "source": [
        "best_model.save('stance_best_model_model_balanced_finalized_post_finetuned.h5')"
      ]
    }
  ],
  "metadata": {
    "accelerator": "GPU",
    "colab": {
      "gpuType": "V100",
      "machine_shape": "hm",
      "provenance": []
    },
    "kernelspec": {
      "display_name": "Python 3",
      "name": "python3"
    },
    "language_info": {
      "codemirror_mode": {
        "name": "ipython",
        "version": 3
      },
      "file_extension": ".py",
      "mimetype": "text/x-python",
      "name": "python",
      "nbconvert_exporter": "python",
      "pygments_lexer": "ipython3",
      "version": "3.8.17"
    }
  },
  "nbformat": 4,
  "nbformat_minor": 0
}
